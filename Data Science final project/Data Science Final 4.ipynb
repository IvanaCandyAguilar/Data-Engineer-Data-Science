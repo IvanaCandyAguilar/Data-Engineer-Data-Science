{
 "cells": [
  {
   "cell_type": "code",
   "execution_count": 67,
   "id": "c4c4c4a3",
   "metadata": {},
   "outputs": [],
   "source": [
    "import numpy as np\n",
    "import pandas as pd\n",
    "from sklearn.model_selection import cross_val_score\n",
    "from sklearn.preprocessing import PolynomialFeatures\n",
    "from sklearn.linear_model import LinearRegression\n",
    "from sklearn.pipeline import make_pipeline\n",
    "\n",
    "# Cargar los datos en un DataFrame\n",
    "df = pd.read_csv('2020_est_salut_publica_tax_espec_fec_mares_15_19a.csv')\n",
    "\n",
    "#df.head(10)"
   ]
  },
  {
   "cell_type": "code",
   "execution_count": 68,
   "id": "0ed8ae90",
   "metadata": {},
   "outputs": [],
   "source": [
    "#print(df['Anys_Periode'].unique())"
   ]
  },
  {
   "cell_type": "code",
   "execution_count": 69,
   "id": "01412718",
   "metadata": {},
   "outputs": [],
   "source": [
    "#df.describe().transpose()"
   ]
  },
  {
   "cell_type": "code",
   "execution_count": 70,
   "id": "49156db6",
   "metadata": {},
   "outputs": [],
   "source": [
    "#df.info()"
   ]
  },
  {
   "cell_type": "code",
   "execution_count": 71,
   "id": "528b4b10",
   "metadata": {},
   "outputs": [],
   "source": [
    "#df.columns"
   ]
  },
  {
   "cell_type": "code",
   "execution_count": 72,
   "id": "0b926af5",
   "metadata": {},
   "outputs": [],
   "source": [
    "#df['Anys_Periode'].unique()"
   ]
  },
  {
   "cell_type": "code",
   "execution_count": 73,
   "id": "84d0db1f",
   "metadata": {},
   "outputs": [],
   "source": [
    "#barrios = df['Nom_Barri'].unique()"
   ]
  },
  {
   "cell_type": "code",
   "execution_count": 74,
   "id": "7e8116a4",
   "metadata": {},
   "outputs": [],
   "source": [
    "#df.isna().sum()"
   ]
  },
  {
   "cell_type": "code",
   "execution_count": 75,
   "id": "d7e47dc9",
   "metadata": {},
   "outputs": [],
   "source": [
    "#df.isnull().sum()"
   ]
  },
  {
   "cell_type": "code",
   "execution_count": 76,
   "id": "b208e13a",
   "metadata": {},
   "outputs": [],
   "source": [
    "#df.shape"
   ]
  },
  {
   "cell_type": "code",
   "execution_count": 77,
   "id": "7af732d8",
   "metadata": {},
   "outputs": [
    {
     "data": {
      "text/plain": [
       "(1022, 6)"
      ]
     },
     "execution_count": 77,
     "metadata": {},
     "output_type": "execute_result"
    }
   ],
   "source": [
    "df.dropna(inplace=True)\n",
    "df.shape"
   ]
  },
  {
   "cell_type": "code",
   "execution_count": 78,
   "id": "755a7d48",
   "metadata": {},
   "outputs": [],
   "source": [
    "df_main_preprocesado = df.drop(['Nom_Districte','Nom_Barri'],axis=1)\n",
    "#df_main_preprocesado.head(10)"
   ]
  },
  {
   "cell_type": "code",
   "execution_count": 79,
   "id": "100420fe",
   "metadata": {},
   "outputs": [
    {
     "name": "stdout",
     "output_type": "stream",
     "text": [
      "      Anys_Periode  Codi_Districte  Codi_Barri  Nombre\n",
      "1012            13              10          64     3.6\n",
      "1013            13              10          65     0.7\n",
      "1014            13              10          66     1.5\n",
      "1015            13              10          67     0.0\n",
      "1016            13              10          68     0.9\n",
      "1017            13              10          69     2.1\n",
      "1018            13              10          70     9.0\n",
      "1019            13              10          71     4.4\n",
      "1020            13              10          72     3.4\n",
      "1021            13              10          73     5.8\n"
     ]
    }
   ],
   "source": [
    "from sklearn.preprocessing import LabelEncoder\n",
    "\n",
    "# Crear una instancia de LabelEncoder\n",
    "encoder = LabelEncoder()\n",
    "\n",
    "# Ajustar y transformar la columna \"Anys_Periode\" en la tabla\n",
    "df_main_preprocesado['Anys_Periode'] = encoder.fit_transform(df['Anys_Periode'])\n",
    "\n",
    "# Mostrar la tabla actualizada\n",
    "print(df_main_preprocesado.tail(10))"
   ]
  },
  {
   "cell_type": "markdown",
   "id": "2e25c8f1",
   "metadata": {},
   "source": [
    "Verificacion de outliers"
   ]
  },
  {
   "cell_type": "code",
   "execution_count": 80,
   "id": "89201e49",
   "metadata": {},
   "outputs": [
    {
     "name": "stdout",
     "output_type": "stream",
     "text": [
      "Outliers identificados:\n",
      "      Anys_Periode  Codi_Districte  Codi_Barri  Nombre\n",
      "0              NaN             NaN         NaN     NaN\n",
      "1              NaN             NaN         NaN     NaN\n",
      "2              NaN             NaN         NaN     NaN\n",
      "3              NaN             NaN         NaN     NaN\n",
      "4              NaN             NaN         NaN     NaN\n",
      "...            ...             ...         ...     ...\n",
      "1017           NaN             NaN         NaN     NaN\n",
      "1018           NaN             NaN         NaN     NaN\n",
      "1019           NaN             NaN         NaN     NaN\n",
      "1020           NaN             NaN         NaN     NaN\n",
      "1021           NaN             NaN         NaN     NaN\n",
      "\n",
      "[1022 rows x 4 columns]\n"
     ]
    }
   ],
   "source": [
    "import numpy as np\n",
    "import pandas as pd\n",
    "from sklearn.preprocessing import RobustScaler\n",
    "\n",
    "# Crear una copia del dataset original\n",
    "#df_main_outliers = df_main.copy()\n",
    "\n",
    "df_main_outliers = df_main_preprocesado.copy()\n",
    "# Seleccionar las columnas numéricas en las que deseas identificar outliers\n",
    "columnas_numericas = ['Anys_Periode','Codi_Districte', 'Codi_Barri', 'Nombre']\n",
    "\n",
    "# Aplicar RobustScaler a las columnas numéricas\n",
    "scaler = RobustScaler()\n",
    "df_main_outliers[columnas_numericas] = scaler.fit_transform(df_main_preprocesado[columnas_numericas])\n",
    "\n",
    "# Calcular los límites para identificar los outliers\n",
    "percentil_25 = np.percentile(df_main_preprocesado[columnas_numericas], 25, axis=0)\n",
    "percentil_75 = np.percentile(df_main_preprocesado[columnas_numericas], 75, axis=0)\n",
    "rango_intercuartil = percentil_75 - percentil_25\n",
    "limite_inferior = percentil_25 - 1.5 * rango_intercuartil\n",
    "limite_superior = percentil_75 + 1.5 * rango_intercuartil\n",
    "\n",
    "# Identificar los outliers\n",
    "outliers = df_main_outliers[\n",
    "    (df_main_preprocesado[columnas_numericas] < limite_inferior) |\n",
    "    (df_main_preprocesado[columnas_numericas] > limite_superior)\n",
    "]\n",
    "\n",
    "# Imprimir los outliers identificados\n",
    "print(\"Outliers identificados:\")\n",
    "print(outliers)\n",
    "#print(df_main_preprocesado.head(10))\n"
   ]
  },
  {
   "cell_type": "markdown",
   "id": "9045626a",
   "metadata": {},
   "source": [
    "graficamos los puntos y headmap"
   ]
  },
  {
   "cell_type": "code",
   "execution_count": 81,
   "id": "779d429a",
   "metadata": {},
   "outputs": [
    {
     "data": {
      "image/png": "[encoded data removed]",
      "text/plain": [
       "<Figure size 432x288 with 1 Axes>"
      ]
     },
     "metadata": {
      "needs_background": "light"
     },
     "output_type": "display_data"
    }
   ],
   "source": [
    "import seaborn as sns\n",
    "import matplotlib.pyplot as plt\n",
    "\n",
    "# Graficar los puntos\n",
    "plt.scatter(df_main_preprocesado['Anys_Periode'], df_main_preprocesado['Nombre'])\n",
    "plt.xlabel('Anys_Periode')\n",
    "plt.ylabel('Nombre')\n",
    "plt.title('Distribución de los puntos')\n",
    "plt.show()"
   ]
  },
  {
   "cell_type": "markdown",
   "id": "65106cf6",
   "metadata": {},
   "source": [
    "correlacion"
   ]
  },
  {
   "cell_type": "code",
   "execution_count": 82,
   "id": "8d0a0407",
   "metadata": {},
   "outputs": [
    {
     "data": {
      "image/png": "[encoded data removed]",
      "text/plain": [
       "<Figure size 432x288 with 2 Axes>"
      ]
     },
     "metadata": {
      "needs_background": "light"
     },
     "output_type": "display_data"
    }
   ],
   "source": [
    "# Generar un heatmap\n",
    "corr_matrix = df_main_preprocesado.corr()\n",
    "sns.heatmap(corr_matrix, annot=True)\n",
    "plt.title('Heatmap de correlación')\n",
    "plt.show()"
   ]
  },
  {
   "cell_type": "markdown",
   "id": "211faf5f",
   "metadata": {},
   "source": [
    "Preparamos y ajustamos el modelo "
   ]
  },
  {
   "cell_type": "code",
   "execution_count": 98,
   "id": "50ce0a72",
   "metadata": {},
   "outputs": [
    {
     "name": "stdout",
     "output_type": "stream",
     "text": [
      "(817, 3)\n",
      "(205, 3)\n",
      "R2 score (train): 0.978256774576868\n",
      "Mean Squared Error (train): 1.5128902619339029\n",
      "Mean Absolute Error (train): 0.6224308445532434\n",
      "R2 score (test): 0.872075412709512\n",
      "Mean Squared Error (test): 8.426263468292685\n",
      "Mean Absolute Error (test): 1.5856341463414632\n"
     ]
    }
   ],
   "source": [
    "from sklearn.model_selection import train_test_split\n",
    "from sklearn.metrics import r2_score, mean_squared_error, mean_absolute_error\n",
    "from sklearn.ensemble import RandomForestRegressor\n",
    "\n",
    "# Separamos los datos en conjuntos de entrenamiento y prueba\n",
    "X = df_main_preprocesado.drop(['Nombre'], axis=1)\n",
    "y = df_main_preprocesado['Nombre']\n",
    "X_train, X_test, y_train, y_test = train_test_split(X, y, test_size=0.2, random_state=42)\n",
    "print(X_train.shape); print(X_test.shape)\n",
    "\n",
    "# Crear y entrenar el modelo de Random Forest\n",
    "model = RandomForestRegressor(max_depth=None, n_estimators=100)\n",
    "model.fit(X_train, y_train)\n",
    "\n",
    "# Realizar predicciones con el conjunto de entrenamiento y de prueba\n",
    "y_pred_train = model.predict(X_train)\n",
    "y_pred_test = model.predict(X_test)\n",
    "\n",
    "# Evaluar el rendimiento del modelo en el conjunto de entrenamiento\n",
    "r2_train = r2_score(y_train, y_pred_train)\n",
    "mse_train = mean_squared_error(y_train, y_pred_train)\n",
    "mae_train = mean_absolute_error(y_train, y_pred_train)\n",
    "print(\"R2 score (train):\", r2_train)\n",
    "print(\"Mean Squared Error (train):\", mse_train)\n",
    "print(\"Mean Absolute Error (train):\", mae_train)\n",
    "\n",
    "# Evaluar el rendimiento del modelo en el conjunto de prueba\n",
    "r2_test = r2_score(y_test, y_pred_test)\n",
    "mse_test = mean_squared_error(y_test, y_pred_test)\n",
    "mae_test = mean_absolute_error(y_test, y_pred_test)\n",
    "print(\"R2 score (test):\", r2_test)\n",
    "print(\"Mean Squared Error (test):\", mse_test)\n",
    "print(\"Mean Absolute Error (test):\", mae_test)\n"
   ]
  },
  {
   "cell_type": "markdown",
   "id": "169e4d9e",
   "metadata": {},
   "source": [
    "Regresion Lineal"
   ]
  },
  {
   "cell_type": "markdown",
   "id": "a7127f38",
   "metadata": {},
   "source": [
    "Polinomial"
   ]
  },
  {
   "cell_type": "markdown",
   "id": "6502d2e5",
   "metadata": {},
   "source": [
    "Ramdom Forest"
   ]
  },
  {
   "cell_type": "markdown",
   "id": "2a4d1964",
   "metadata": {},
   "source": [
    "Validacion Cruzada"
   ]
  },
  {
   "cell_type": "code",
   "execution_count": null,
   "id": "4a20651e",
   "metadata": {},
   "outputs": [],
   "source": [
    "\n"
   ]
  },
  {
   "cell_type": "markdown",
   "id": "f990a367",
   "metadata": {},
   "source": [
    "**Prediccion **"
   ]
  },
  {
   "cell_type": "markdown",
   "id": "6038c995",
   "metadata": {},
   "source": [
    "Ya sabemos que Random Forest es el modelo que mejor puede predecir nuestros datos ahora vamos utilizar este modelo para obtener los valores"
   ]
  },
  {
   "cell_type": "code",
   "execution_count": 84,
   "id": "96c09472",
   "metadata": {},
   "outputs": [
    {
     "name": "stdout",
     "output_type": "stream",
     "text": [
      "   Anys_Periode Codi_Districte Codi_Barri  Nombre\n",
      "0            14              1          1  12.047\n",
      "1            14              1          2   4.081\n",
      "2            14              1          3  11.739\n",
      "3            14              1          4   7.825\n",
      "4            14              2          5   1.817\n",
      "..          ...            ...        ...     ...\n",
      "68           14             10         69   2.476\n",
      "69           14             10         70  10.611\n",
      "70           14             10         71   4.757\n",
      "71           14             10         72   3.800\n",
      "72           14             10         73   5.884\n",
      "\n",
      "[73 rows x 4 columns]\n"
     ]
    }
   ],
   "source": [
    "import numpy as np\n",
    "import pandas as pd\n",
    "from sklearn.ensemble import RandomForestRegressor\n",
    "\n",
    "df_pred = df_main_preprocesado\n",
    "\n",
    "# Crear el DataFrame df_result vacío\n",
    "df_result = pd.DataFrame(columns=['Anys_Periode', 'Codi_Districte', 'Codi_Barri', 'Nombre'])\n",
    "\n",
    "# Recorrer los distritos y barrios únicos en el dataset\n",
    "distritos_barrios = df_pred[['Codi_Districte', 'Codi_Barri']].drop_duplicates()\n",
    "for _, row in distritos_barrios.iterrows():\n",
    "    codi_districte = row['Codi_Districte']\n",
    "    codi_barri = row['Codi_Barri']\n",
    "    \n",
    "    # Filtrar los datos para el distrito y barrio actual\n",
    "    df_pred_districte_barri = df_pred[(df_pred['Codi_Districte'] == codi_districte) & (df_pred['Codi_Barri'] == codi_barri)]\n",
    "    \n",
    "    # Filtrar los datos para períodos anteriores a '2020-2024'\n",
    "    df_pred_anteriores = df_pred_districte_barri[df_pred_districte_barri['Anys_Periode'] < 14]\n",
    "    \n",
    "    if len(df_pred_anteriores) > 0:\n",
    "        # Dividir los datos en variables independientes (X_pred) y variable dependiente (y_pred)\n",
    "        X_pred = df_pred_anteriores[['Anys_Periode', 'Codi_Districte', 'Codi_Barri']]\n",
    "        y_pred = df_pred_anteriores['Nombre']\n",
    "        \n",
    "        # Crear y entrenar el modelo de Random Forest con los mejores parámetros\n",
    "        model = RandomForestRegressor(max_depth=None, n_estimators=100)\n",
    "        #model = RandomForestRegressor(max_depth=10, n_estimators=300)\n",
    "        model.fit(X_pred, y_pred)\n",
    "\n",
    "        # Importancias de las características\n",
    "        #importances = model.feature_importances_\n",
    "        #for i, feature in enumerate(X_pred.columns):\n",
    "        #    print(f\"Feature: {feature}, Importance: {importances[i]}\")\n",
    "\n",
    "        \n",
    "        # Realizar la predicción para el período '2020-2024'\n",
    "        X_pred_prediccion = pd.DataFrame({'Anys_Periode': [14], 'Codi_Districte': [codi_districte], 'Codi_Barri': [codi_barri]})\n",
    "        y_pred_prediccion = model.predict(X_pred_prediccion)\n",
    "        \n",
    "        # Agregar los resultados al DataFrame df_result\n",
    "        df_result = pd.concat([df_result, pd.DataFrame({\n",
    "            'Anys_Periode': [14],\n",
    "            'Codi_Districte': codi_districte,\n",
    "            'Codi_Barri': codi_barri,\n",
    "            'Nombre': y_pred_prediccion[0]\n",
    "        })], ignore_index=True)\n",
    "\n",
    "# Imprimir el DataFrame df_result\n",
    "print(df_result)"
   ]
  },
  {
   "cell_type": "code",
   "execution_count": 85,
   "id": "4eb88505",
   "metadata": {},
   "outputs": [],
   "source": [
    "# Convertir las columnas\n",
    "df_result['Anys_Periode'] = '2020-2024'"
   ]
  },
  {
   "cell_type": "code",
   "execution_count": 86,
   "id": "89d01205",
   "metadata": {},
   "outputs": [
    {
     "name": "stdout",
     "output_type": "stream",
     "text": [
      "   Anys_Periode Codi_Districte Codi_Barri  Nombre\n",
      "0     2020-2024              1          1  12.047\n",
      "1     2020-2024              1          2   4.081\n",
      "2     2020-2024              1          3  11.739\n",
      "3     2020-2024              1          4   7.825\n",
      "4     2020-2024              2          5   1.817\n",
      "..          ...            ...        ...     ...\n",
      "68    2020-2024             10         69   2.476\n",
      "69    2020-2024             10         70  10.611\n",
      "70    2020-2024             10         71   4.757\n",
      "71    2020-2024             10         72   3.800\n",
      "72    2020-2024             10         73   5.884\n",
      "\n",
      "[73 rows x 4 columns]\n"
     ]
    }
   ],
   "source": [
    "print(df_result) \n",
    "df_result.to_csv('df_result.csv', sep=',', index=False)"
   ]
  },
  {
   "cell_type": "code",
   "execution_count": 87,
   "id": "4121f3f1",
   "metadata": {},
   "outputs": [
    {
     "name": "stdout",
     "output_type": "stream",
     "text": [
      "     Anys_Periode Codi_Districte Nom_Districte Codi_Barri  \\\n",
      "0       2003-2007              1  Ciutat Vella          1   \n",
      "1       2003-2007              1  Ciutat Vella          2   \n",
      "2       2003-2007              1  Ciutat Vella          3   \n",
      "3       2003-2007              1  Ciutat Vella          4   \n",
      "4       2003-2007              2      Eixample          5   \n",
      "...           ...            ...           ...        ...   \n",
      "1090    2020-2024             10           NaN         69   \n",
      "1091    2020-2024             10           NaN         70   \n",
      "1092    2020-2024             10           NaN         71   \n",
      "1093    2020-2024             10           NaN         72   \n",
      "1094    2020-2024             10           NaN         73   \n",
      "\n",
      "                                  Nom_Barri  Nombre  \n",
      "0                                  el Raval  19.400  \n",
      "1                            el Barri Gòtic  11.600  \n",
      "2                            la Barceloneta  11.600  \n",
      "3     Sant Pere, Santa Caterina i la Ribera  14.600  \n",
      "4                             el Fort Pienc   4.700  \n",
      "...                                     ...     ...  \n",
      "1090                                    NaN   2.476  \n",
      "1091                                    NaN  10.611  \n",
      "1092                                    NaN   4.757  \n",
      "1093                                    NaN   3.800  \n",
      "1094                                    NaN   5.884  \n",
      "\n",
      "[1095 rows x 6 columns]\n"
     ]
    }
   ],
   "source": [
    "# Unimos df_main y df_result \n",
    "df_final = pd.concat([df, df_result], ignore_index=True)\n",
    "\n",
    "print(df_final)"
   ]
  },
  {
   "cell_type": "code",
   "execution_count": 88,
   "id": "f98a34d9",
   "metadata": {},
   "outputs": [],
   "source": [
    "# Obtener los valores únicos de Codi_Districte y Codi_Barri del DataFrame final\n",
    "codi_districte_unique = df['Codi_Districte'].unique()\n",
    "codi_barri_unique = df['Codi_Barri'].unique()\n",
    "\n",
    "# Crear un diccionario para mapear los valores de Codi_Districte y Codi_Barri a Nom_Districte y Nom_Barri\n",
    "mapping_dist = {}\n",
    "for codi_districte in codi_districte_unique:\n",
    "    nom_districte = df.loc[df['Codi_Districte'] == codi_districte, 'Nom_Districte'].iloc[0]\n",
    "    mapping_dist[codi_districte] = nom_districte\n",
    "mapping_barri = {}\n",
    "for codi_barri in codi_barri_unique:\n",
    "    nom_barri = df.loc[df['Codi_Barri'] == codi_barri, 'Nom_Barri'].iloc[0]\n",
    "    mapping_barri[codi_barri] = nom_barri\n",
    "#print (mapping_dist)"
   ]
  },
  {
   "cell_type": "code",
   "execution_count": 89,
   "id": "0879a2ad",
   "metadata": {},
   "outputs": [
    {
     "name": "stdout",
     "output_type": "stream",
     "text": [
      "     Anys_Periode Codi_Districte Nom_Districte Codi_Barri  \\\n",
      "0       2003-2007              1  Ciutat Vella          1   \n",
      "1       2003-2007              1  Ciutat Vella          2   \n",
      "2       2003-2007              1  Ciutat Vella          3   \n",
      "3       2003-2007              1  Ciutat Vella          4   \n",
      "4       2003-2007              2      Eixample          5   \n",
      "...           ...            ...           ...        ...   \n",
      "1090    2020-2024             10    Sant Martí         69   \n",
      "1091    2020-2024             10    Sant Martí         70   \n",
      "1092    2020-2024             10    Sant Martí         71   \n",
      "1093    2020-2024             10    Sant Martí         72   \n",
      "1094    2020-2024             10    Sant Martí         73   \n",
      "\n",
      "                                         Nom_Barri  Nombre  \n",
      "0                                         el Raval  19.400  \n",
      "1                                   el Barri Gòtic  11.600  \n",
      "2                                   la Barceloneta  11.600  \n",
      "3            Sant Pere, Santa Caterina i la Ribera  14.600  \n",
      "4                                    el Fort Pienc   4.700  \n",
      "...                                            ...     ...  \n",
      "1090  Diagonal Mar i el Front Marítim del Poblenou   2.476  \n",
      "1091                         el Besòs i el Maresme  10.611  \n",
      "1092                       Provençals del Poblenou   4.757  \n",
      "1093                      Sant Martí de Provençals   3.800  \n",
      "1094                           la Verneda i la Pau   5.884  \n",
      "\n",
      "[1095 rows x 6 columns]\n"
     ]
    }
   ],
   "source": [
    "# Remplazar los valores de Codi_Districte y Codi_Barri con sus respectivos nombres en el DataFrame final\n",
    "df_final['Nom_Districte'] = df_final['Codi_Districte'].map(mapping_dist)\n",
    "df_final['Nom_Barri'] = df_final['Codi_Barri'].map(mapping_barri)\n",
    "\n",
    "# Mostrar el DataFrame final con los campos Nom_Districte y Nom_Barri llenos\n",
    "print(df_final)\n",
    "df_final.to_csv('df_final.csv', sep=',', index=False)"
   ]
  },
  {
   "cell_type": "markdown",
   "id": "9986a8e7",
   "metadata": {},
   "source": [
    "**Graficamos un solo barrio**"
   ]
  },
  {
   "cell_type": "code",
   "execution_count": 92,
   "id": "846da6c3",
   "metadata": {},
   "outputs": [
    {
     "data": {
      "image/png": "[encoded data removed]",
      "text/plain": [
       "<Figure size 576x432 with 1 Axes>"
      ]
     },
     "metadata": {
      "needs_background": "light"
     },
     "output_type": "display_data"
    }
   ],
   "source": [
    "import matplotlib.pyplot as plt\n",
    "\n",
    "Codi_Barri = 8\n",
    "\n",
    "nombre_barri = df_final[df_final['Codi_Barri'] == Codi_Barri]['Nom_Barri'].iloc[0]\n",
    "\n",
    "# Filtrar los datos para el Nom_Barri \"La marina del prat vermell\"\n",
    "df_barri = df_final[df_final['Codi_Barri'] == Codi_Barri]\n",
    "\n",
    "# Filtrar los datos para la evolución de Nombre por año (Anys_Periode)\n",
    "df_evolucion = df_barri[['Anys_Periode', 'Nombre']]\n",
    "\n",
    "# Ordenar los datos por Anys_Periode\n",
    "df_evolucion = df_evolucion.sort_values('Anys_Periode')\n",
    "\n",
    "# Crear la gráfica de puntos y línea\n",
    "plt.figure(figsize=(8, 6))\n",
    "plt.scatter(df_evolucion['Anys_Periode'], df_evolucion['Nombre'])\n",
    "plt.plot(df_evolucion['Anys_Periode'], df_evolucion['Nombre'], 'r-')\n",
    "plt.xlabel('Periodo')\n",
    "plt.ylabel('Taza embarazos adolecentes')\n",
    "plt.title(f\"Evolución de Nombre en el barrio {nombre_barri}\")\n",
    "plt.xticks(rotation=45)\n",
    "plt.grid(True)\n",
    "plt.show()\n"
   ]
  },
  {
   "cell_type": "code",
   "execution_count": 91,
   "id": "22d8afc1",
   "metadata": {},
   "outputs": [
    {
     "name": "stdout",
     "output_type": "stream",
     "text": [
      "Empty DataFrame\n",
      "Columns: [Anys_Periode, Codi_Districte, Codi_Barri, Nombre]\n",
      "Index: []\n"
     ]
    }
   ],
   "source": [
    "missing_values = df_result[~df_result['Codi_Barri'].isin(df_final['Codi_Barri'])]\n",
    "print(missing_values)"
   ]
  },
  {
   "cell_type": "code",
   "execution_count": null,
   "id": "e3a33dcb",
   "metadata": {},
   "outputs": [],
   "source": []
  }
 ],
 "metadata": {
  "hide_input": false,
  "kernelspec": {
   "display_name": "Python 3 (ipykernel)",
   "language": "python",
   "name": "python3"
  },
  "language_info": {
   "codemirror_mode": {
    "name": "ipython",
    "version": 3
   },
   "file_extension": ".py",
   "mimetype": "text/x-python",
   "name": "python",
   "nbconvert_exporter": "python",
   "pygments_lexer": "ipython3",
   "version": "3.9.12"
  },
  "nbTranslate": {
   "displayLangs": [
    "*"
   ],
   "hotkey": "alt-t",
   "langInMainMenu": true,
   "sourceLang": "en",
   "targetLang": "fr",
   "useGoogleTranslate": true
  },
  "toc": {
   "base_numbering": 1,
   "nav_menu": {},
   "number_sections": true,
   "sideBar": true,
   "skip_h1_title": false,
   "title_cell": "Table of Contents",
   "title_sidebar": "Contents",
   "toc_cell": false,
   "toc_position": {},
   "toc_section_display": true,
   "toc_window_display": false
  },
  "varInspector": {
   "cols": {
    "lenName": 16,
    "lenType": 16,
    "lenVar": 40
   },
   "kernels_config": {
    "python": {
     "delete_cmd_postfix": "",
     "delete_cmd_prefix": "del ",
     "library": "var_list.py",
     "varRefreshCmd": "print(var_dic_list())"
    },
    "r": {
     "delete_cmd_postfix": ") ",
     "delete_cmd_prefix": "rm(",
     "library": "var_list.r",
     "varRefreshCmd": "cat(var_dic_list()) "
    }
   },
   "types_to_exclude": [
    "module",
    "function",
    "builtin_function_or_method",
    "instance",
    "_Feature"
   ],
   "window_display": false
  }
 },
 "nbformat": 4,
 "nbformat_minor": 5
}
