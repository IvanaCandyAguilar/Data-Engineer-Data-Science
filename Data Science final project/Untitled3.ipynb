{
 "cells": [
  {
   "cell_type": "code",
   "execution_count": 14,
   "id": "a31e282d",
   "metadata": {},
   "outputs": [],
   "source": []
  },
  {
   "cell_type": "code",
   "execution_count": 28,
   "id": "e75263f7",
   "metadata": {},
   "outputs": [
    {
     "name": "stdout",
     "output_type": "stream",
     "text": [
      "    Año     Poblacion\n",
      "0  2021  36712.666667\n"
     ]
    },
    {
     "name": "stderr",
     "output_type": "stream",
     "text": [
      "C:\\Users\\user\\anaconda3\\lib\\site-packages\\sklearn\\base.py:450: UserWarning: X does not have valid feature names, but LinearRegression was fitted with feature names\n",
      "  warnings.warn(\n"
     ]
    }
   ],
   "source": [
    "import numpy as np\n",
    "import pandas as pd\n",
    "from sklearn.linear_model import LinearRegression\n",
    "\n",
    "# Crear el DataFrame df_pred\n",
    "df_pred = pd.DataFrame({\n",
    "    'Año': [2015, 2016, 2017, 2018, 2019, 2020],  # Ejemplo: año\n",
    "    'Poblacion': [34000, 34500, 34990, 35600, 35900, 36100],  # Ejemplo: población\n",
    "})\n",
    "\n",
    "# Dividir los datos en variables independientes (X_pred) y variable dependiente (y_pred)\n",
    "X_pred = df_pred[['Año']]\n",
    "y_pred = df_pred['Poblacion']\n",
    "\n",
    "# Crear y entrenar el modelo de regresión lineal\n",
    "model = LinearRegression()\n",
    "model.fit(X_pred, y_pred)\n",
    "\n",
    "# Realizar la predicción para el año 2021\n",
    "X_pred_Poblacion = [[2021]]  # Valor a predecir: año 2021\n",
    "y_pred_Poblacion = model.predict(X_pred_Poblacion)\n",
    "\n",
    "\n",
    "\n",
    "# Crear el DataFrame df_result con los resultados\n",
    "df_result = pd.DataFrame({\n",
    "    'Año': [2021],\n",
    "    'Poblacion': y_pred_Poblacion\n",
    "})\n",
    "\n",
    "# Imprimir el DataFrame df_result\n",
    "print(df_result)"
   ]
  },
  {
   "cell_type": "code",
   "execution_count": 29,
   "id": "a01da6be",
   "metadata": {},
   "outputs": [
    {
     "name": "stdout",
     "output_type": "stream",
     "text": [
      "    Año     Poblacion\n",
      "0  2021  36712.666667\n"
     ]
    }
   ],
   "source": [
    "import numpy as np\n",
    "import pandas as pd\n",
    "from sklearn.linear_model import LinearRegression\n",
    "\n",
    "# Crear el DataFrame df_pred\n",
    "df_pred = pd.DataFrame({\n",
    "    'Año': [2015, 2016, 2017, 2018, 2019, 2020],  # Ejemplo: año\n",
    "    'Poblacion': [34000, 34500, 34990, 35600, 35900, 36100],  # Ejemplo: población\n",
    "})\n",
    "\n",
    "# Dividir los datos en variables independientes (X_pred) y variable dependiente (y_pred)\n",
    "X_pred = df_pred[['Año']]\n",
    "y_pred = df_pred['Poblacion']\n",
    "\n",
    "# Crear y entrenar el modelo de regresión lineal\n",
    "model = LinearRegression()\n",
    "model.fit(X_pred, y_pred)\n",
    "\n",
    "# Realizar la predicción para el año 2021\n",
    "X_pred = pd.DataFrame({'Año': [2021]}, columns=['Año'])\n",
    "y_pred_Poblacion = model.predict(X_pred)\n",
    "\n",
    "# Crear el DataFrame df_result con los resultados\n",
    "df_result = pd.DataFrame({\n",
    "    'Año': [2021],\n",
    "    'Poblacion': y_pred_Poblacion\n",
    "})\n",
    "\n",
    "# Imprimir el DataFrame df_result\n",
    "print(df_result)\n"
   ]
  },
  {
   "cell_type": "code",
   "execution_count": 30,
   "id": "d5c13029",
   "metadata": {},
   "outputs": [
    {
     "name": "stdout",
     "output_type": "stream",
     "text": [
      "Coeficientes: [437.42857143]\n",
      "Término independiente: -847330.4761904763\n",
      "    Año     Poblacion\n",
      "0  2022  37150.095238\n"
     ]
    }
   ],
   "source": [
    "import numpy as np\n",
    "import pandas as pd\n",
    "from sklearn.linear_model import LinearRegression\n",
    "\n",
    "# Crear el DataFrame df_pred\n",
    "df_pred = pd.DataFrame({\n",
    "    'Año': [2015, 2016, 2017, 2018, 2019, 2020],  # Ejemplo: año\n",
    "    'Poblacion': [34000, 34500, 34990, 35600, 35900, 36100],  # Ejemplo: población\n",
    "})\n",
    "\n",
    "# Dividir los datos en variables independientes (X_pred) y variable dependiente (y_pred)\n",
    "X_pred = df_pred[['Año']]\n",
    "y_pred = df_pred['Poblacion']\n",
    "\n",
    "# Crear y entrenar el modelo de regresión lineal\n",
    "model = LinearRegression()\n",
    "model.fit(X_pred, y_pred)\n",
    "\n",
    "# Mostrar los coeficientes y el término independiente del modelo\n",
    "print(\"Coeficientes:\", model.coef_)\n",
    "print(\"Término independiente:\", model.intercept_)\n",
    "\n",
    "# Realizar la predicción para el año 2022\n",
    "X_pred = pd.DataFrame({'Año': [2022]}, columns=['Año'])\n",
    "y_pred_Poblacion = model.predict(X_pred)\n",
    "\n",
    "# Crear el DataFrame df_result con los resultados\n",
    "df_result = pd.DataFrame({\n",
    "    'Año': [2022],\n",
    "    'Poblacion': y_pred_Poblacion\n",
    "})\n",
    "\n",
    "# Imprimir el DataFrame df_result\n",
    "print(df_result)"
   ]
  },
  {
   "cell_type": "code",
   "execution_count": null,
   "id": "67b25a4d",
   "metadata": {},
   "outputs": [],
   "source": []
  }
 ],
 "metadata": {
  "hide_input": false,
  "kernelspec": {
   "display_name": "Python 3 (ipykernel)",
   "language": "python",
   "name": "python3"
  },
  "language_info": {
   "codemirror_mode": {
    "name": "ipython",
    "version": 3
   },
   "file_extension": ".py",
   "mimetype": "text/x-python",
   "name": "python",
   "nbconvert_exporter": "python",
   "pygments_lexer": "ipython3",
   "version": "3.9.12"
  },
  "nbTranslate": {
   "displayLangs": [
    "*"
   ],
   "hotkey": "alt-t",
   "langInMainMenu": true,
   "sourceLang": "en",
   "targetLang": "fr",
   "useGoogleTranslate": true
  },
  "toc": {
   "base_numbering": 1,
   "nav_menu": {},
   "number_sections": true,
   "sideBar": true,
   "skip_h1_title": false,
   "title_cell": "Table of Contents",
   "title_sidebar": "Contents",
   "toc_cell": false,
   "toc_position": {},
   "toc_section_display": true,
   "toc_window_display": false
  },
  "varInspector": {
   "cols": {
    "lenName": 16,
    "lenType": 16,
    "lenVar": 40
   },
   "kernels_config": {
    "python": {
     "delete_cmd_postfix": "",
     "delete_cmd_prefix": "del ",
     "library": "var_list.py",
     "varRefreshCmd": "print(var_dic_list())"
    },
    "r": {
     "delete_cmd_postfix": ") ",
     "delete_cmd_prefix": "rm(",
     "library": "var_list.r",
     "varRefreshCmd": "cat(var_dic_list()) "
    }
   },
   "types_to_exclude": [
    "module",
    "function",
    "builtin_function_or_method",
    "instance",
    "_Feature"
   ],
   "window_display": false
  }
 },
 "nbformat": 4,
 "nbformat_minor": 5
}
