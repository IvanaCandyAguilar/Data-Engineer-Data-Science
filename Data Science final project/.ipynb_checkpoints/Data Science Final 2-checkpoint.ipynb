{
 "cells": [
  {
   "cell_type": "code",
   "execution_count": 624,
   "id": "c4c4c4a3",
   "metadata": {},
   "outputs": [
    {
     "data": {
      "text/html": [
       "<div>\n",
       "<style scoped>\n",
       "    .dataframe tbody tr th:only-of-type {\n",
       "        vertical-align: middle;\n",
       "    }\n",
       "\n",
       "    .dataframe tbody tr th {\n",
       "        vertical-align: top;\n",
       "    }\n",
       "\n",
       "    .dataframe thead th {\n",
       "        text-align: right;\n",
       "    }\n",
       "</style>\n",
       "<table border=\"1\" class=\"dataframe\">\n",
       "  <thead>\n",
       "    <tr style=\"text-align: right;\">\n",
       "      <th></th>\n",
       "      <th>Anys_Periode</th>\n",
       "      <th>Codi_Districte</th>\n",
       "      <th>Nom_Districte</th>\n",
       "      <th>Codi_Barri</th>\n",
       "      <th>Nom_Barri</th>\n",
       "      <th>Nombre</th>\n",
       "    </tr>\n",
       "  </thead>\n",
       "  <tbody>\n",
       "    <tr>\n",
       "      <th>0</th>\n",
       "      <td>2003-2007</td>\n",
       "      <td>1</td>\n",
       "      <td>Ciutat Vella</td>\n",
       "      <td>1</td>\n",
       "      <td>el Raval</td>\n",
       "      <td>19.4</td>\n",
       "    </tr>\n",
       "    <tr>\n",
       "      <th>1</th>\n",
       "      <td>2003-2007</td>\n",
       "      <td>1</td>\n",
       "      <td>Ciutat Vella</td>\n",
       "      <td>2</td>\n",
       "      <td>el Barri Gòtic</td>\n",
       "      <td>11.6</td>\n",
       "    </tr>\n",
       "    <tr>\n",
       "      <th>2</th>\n",
       "      <td>2003-2007</td>\n",
       "      <td>1</td>\n",
       "      <td>Ciutat Vella</td>\n",
       "      <td>3</td>\n",
       "      <td>la Barceloneta</td>\n",
       "      <td>11.6</td>\n",
       "    </tr>\n",
       "    <tr>\n",
       "      <th>3</th>\n",
       "      <td>2003-2007</td>\n",
       "      <td>1</td>\n",
       "      <td>Ciutat Vella</td>\n",
       "      <td>4</td>\n",
       "      <td>Sant Pere, Santa Caterina i la Ribera</td>\n",
       "      <td>14.6</td>\n",
       "    </tr>\n",
       "    <tr>\n",
       "      <th>4</th>\n",
       "      <td>2003-2007</td>\n",
       "      <td>2</td>\n",
       "      <td>Eixample</td>\n",
       "      <td>5</td>\n",
       "      <td>el Fort Pienc</td>\n",
       "      <td>4.7</td>\n",
       "    </tr>\n",
       "    <tr>\n",
       "      <th>5</th>\n",
       "      <td>2003-2007</td>\n",
       "      <td>2</td>\n",
       "      <td>Eixample</td>\n",
       "      <td>6</td>\n",
       "      <td>la Sagrada Família</td>\n",
       "      <td>5.8</td>\n",
       "    </tr>\n",
       "    <tr>\n",
       "      <th>6</th>\n",
       "      <td>2003-2007</td>\n",
       "      <td>2</td>\n",
       "      <td>Eixample</td>\n",
       "      <td>7</td>\n",
       "      <td>la Dreta de l'Eixample</td>\n",
       "      <td>2.6</td>\n",
       "    </tr>\n",
       "    <tr>\n",
       "      <th>7</th>\n",
       "      <td>2003-2007</td>\n",
       "      <td>2</td>\n",
       "      <td>Eixample</td>\n",
       "      <td>8</td>\n",
       "      <td>l'Antiga Esquerra de l'Eixample</td>\n",
       "      <td>3.5</td>\n",
       "    </tr>\n",
       "    <tr>\n",
       "      <th>8</th>\n",
       "      <td>2003-2007</td>\n",
       "      <td>2</td>\n",
       "      <td>Eixample</td>\n",
       "      <td>9</td>\n",
       "      <td>la Nova Esquerra de l'Eixample</td>\n",
       "      <td>3.1</td>\n",
       "    </tr>\n",
       "    <tr>\n",
       "      <th>9</th>\n",
       "      <td>2003-2007</td>\n",
       "      <td>2</td>\n",
       "      <td>Eixample</td>\n",
       "      <td>10</td>\n",
       "      <td>Sant Antoni</td>\n",
       "      <td>7.0</td>\n",
       "    </tr>\n",
       "  </tbody>\n",
       "</table>\n",
       "</div>"
      ],
      "text/plain": [
       "  Anys_Periode  Codi_Districte Nom_Districte  Codi_Barri  \\\n",
       "0    2003-2007               1  Ciutat Vella           1   \n",
       "1    2003-2007               1  Ciutat Vella           2   \n",
       "2    2003-2007               1  Ciutat Vella           3   \n",
       "3    2003-2007               1  Ciutat Vella           4   \n",
       "4    2003-2007               2      Eixample           5   \n",
       "5    2003-2007               2      Eixample           6   \n",
       "6    2003-2007               2      Eixample           7   \n",
       "7    2003-2007               2      Eixample           8   \n",
       "8    2003-2007               2      Eixample           9   \n",
       "9    2003-2007               2      Eixample          10   \n",
       "\n",
       "                               Nom_Barri  Nombre  \n",
       "0                               el Raval    19.4  \n",
       "1                         el Barri Gòtic    11.6  \n",
       "2                         la Barceloneta    11.6  \n",
       "3  Sant Pere, Santa Caterina i la Ribera    14.6  \n",
       "4                          el Fort Pienc     4.7  \n",
       "5                     la Sagrada Família     5.8  \n",
       "6                 la Dreta de l'Eixample     2.6  \n",
       "7        l'Antiga Esquerra de l'Eixample     3.5  \n",
       "8         la Nova Esquerra de l'Eixample     3.1  \n",
       "9                            Sant Antoni     7.0  "
      ]
     },
     "execution_count": 624,
     "metadata": {},
     "output_type": "execute_result"
    }
   ],
   "source": [
    "import numpy as np\n",
    "import pandas as pd\n",
    "from sklearn.model_selection import cross_val_score\n",
    "from sklearn.preprocessing import PolynomialFeatures\n",
    "from sklearn.linear_model import LinearRegression\n",
    "from sklearn.pipeline import make_pipeline\n",
    "\n",
    "# Cargar los datos en un DataFrame\n",
    "df = pd.read_csv('2020_est_salut_publica_tax_espec_fec_mares_15_19a.csv')\n",
    "\n",
    "df.head(10)\n"
   ]
  },
  {
   "cell_type": "code",
   "execution_count": 625,
   "id": "0d4bcabf",
   "metadata": {},
   "outputs": [
    {
     "data": {
      "text/plain": [
       "array(['2003-2007', '2004-2008', '2005-2009', '2006-2010', '2007-2011',\n",
       "       '2008-2012', '2009-2013', '2010-2014', '2011-2015', '2012-2016',\n",
       "       '2013-2017', '2014-2018', '2015-2019', '2016-2020'], dtype=object)"
      ]
     },
     "execution_count": 625,
     "metadata": {},
     "output_type": "execute_result"
    }
   ],
   "source": [
    "valores_categoricos = df['Anys_Periode'].unique()\n",
    "valores_categoricos"
   ]
  },
  {
   "cell_type": "code",
   "execution_count": 582,
   "id": "01412718",
   "metadata": {},
   "outputs": [],
   "source": [
    "#df.describe().transpose()"
   ]
  },
  {
   "cell_type": "code",
   "execution_count": 583,
   "id": "49156db6",
   "metadata": {},
   "outputs": [],
   "source": [
    "#df.info()"
   ]
  },
  {
   "cell_type": "code",
   "execution_count": 584,
   "id": "528b4b10",
   "metadata": {},
   "outputs": [],
   "source": [
    "#df.columns"
   ]
  },
  {
   "cell_type": "code",
   "execution_count": 585,
   "id": "0b926af5",
   "metadata": {},
   "outputs": [],
   "source": [
    "#df['Anys_Periode'].unique()"
   ]
  },
  {
   "cell_type": "code",
   "execution_count": 586,
   "id": "84d0db1f",
   "metadata": {},
   "outputs": [],
   "source": [
    "#barrios = df['Nom_Barri'].unique()"
   ]
  },
  {
   "cell_type": "code",
   "execution_count": 587,
   "id": "7e8116a4",
   "metadata": {},
   "outputs": [],
   "source": [
    "#df.isna().sum()"
   ]
  },
  {
   "cell_type": "code",
   "execution_count": 588,
   "id": "d7e47dc9",
   "metadata": {},
   "outputs": [],
   "source": [
    "#df.isnull().sum()"
   ]
  },
  {
   "cell_type": "code",
   "execution_count": 589,
   "id": "b208e13a",
   "metadata": {},
   "outputs": [],
   "source": [
    "#df.shape"
   ]
  },
  {
   "cell_type": "code",
   "execution_count": 626,
   "id": "7af732d8",
   "metadata": {},
   "outputs": [
    {
     "data": {
      "text/plain": [
       "(1022, 6)"
      ]
     },
     "execution_count": 626,
     "metadata": {},
     "output_type": "execute_result"
    }
   ],
   "source": [
    "df.dropna(inplace=True)\n",
    "df.shape"
   ]
  },
  {
   "cell_type": "code",
   "execution_count": 627,
   "id": "755a7d48",
   "metadata": {},
   "outputs": [
    {
     "data": {
      "text/html": [
       "<div>\n",
       "<style scoped>\n",
       "    .dataframe tbody tr th:only-of-type {\n",
       "        vertical-align: middle;\n",
       "    }\n",
       "\n",
       "    .dataframe tbody tr th {\n",
       "        vertical-align: top;\n",
       "    }\n",
       "\n",
       "    .dataframe thead th {\n",
       "        text-align: right;\n",
       "    }\n",
       "</style>\n",
       "<table border=\"1\" class=\"dataframe\">\n",
       "  <thead>\n",
       "    <tr style=\"text-align: right;\">\n",
       "      <th></th>\n",
       "      <th>Anys_Periode</th>\n",
       "      <th>Codi_Districte</th>\n",
       "      <th>Codi_Barri</th>\n",
       "      <th>Nombre</th>\n",
       "    </tr>\n",
       "  </thead>\n",
       "  <tbody>\n",
       "    <tr>\n",
       "      <th>0</th>\n",
       "      <td>2003-2007</td>\n",
       "      <td>1</td>\n",
       "      <td>1</td>\n",
       "      <td>19.4</td>\n",
       "    </tr>\n",
       "    <tr>\n",
       "      <th>1</th>\n",
       "      <td>2003-2007</td>\n",
       "      <td>1</td>\n",
       "      <td>2</td>\n",
       "      <td>11.6</td>\n",
       "    </tr>\n",
       "    <tr>\n",
       "      <th>2</th>\n",
       "      <td>2003-2007</td>\n",
       "      <td>1</td>\n",
       "      <td>3</td>\n",
       "      <td>11.6</td>\n",
       "    </tr>\n",
       "    <tr>\n",
       "      <th>3</th>\n",
       "      <td>2003-2007</td>\n",
       "      <td>1</td>\n",
       "      <td>4</td>\n",
       "      <td>14.6</td>\n",
       "    </tr>\n",
       "    <tr>\n",
       "      <th>4</th>\n",
       "      <td>2003-2007</td>\n",
       "      <td>2</td>\n",
       "      <td>5</td>\n",
       "      <td>4.7</td>\n",
       "    </tr>\n",
       "    <tr>\n",
       "      <th>5</th>\n",
       "      <td>2003-2007</td>\n",
       "      <td>2</td>\n",
       "      <td>6</td>\n",
       "      <td>5.8</td>\n",
       "    </tr>\n",
       "    <tr>\n",
       "      <th>6</th>\n",
       "      <td>2003-2007</td>\n",
       "      <td>2</td>\n",
       "      <td>7</td>\n",
       "      <td>2.6</td>\n",
       "    </tr>\n",
       "    <tr>\n",
       "      <th>7</th>\n",
       "      <td>2003-2007</td>\n",
       "      <td>2</td>\n",
       "      <td>8</td>\n",
       "      <td>3.5</td>\n",
       "    </tr>\n",
       "    <tr>\n",
       "      <th>8</th>\n",
       "      <td>2003-2007</td>\n",
       "      <td>2</td>\n",
       "      <td>9</td>\n",
       "      <td>3.1</td>\n",
       "    </tr>\n",
       "    <tr>\n",
       "      <th>9</th>\n",
       "      <td>2003-2007</td>\n",
       "      <td>2</td>\n",
       "      <td>10</td>\n",
       "      <td>7.0</td>\n",
       "    </tr>\n",
       "  </tbody>\n",
       "</table>\n",
       "</div>"
      ],
      "text/plain": [
       "  Anys_Periode  Codi_Districte  Codi_Barri  Nombre\n",
       "0    2003-2007               1           1    19.4\n",
       "1    2003-2007               1           2    11.6\n",
       "2    2003-2007               1           3    11.6\n",
       "3    2003-2007               1           4    14.6\n",
       "4    2003-2007               2           5     4.7\n",
       "5    2003-2007               2           6     5.8\n",
       "6    2003-2007               2           7     2.6\n",
       "7    2003-2007               2           8     3.5\n",
       "8    2003-2007               2           9     3.1\n",
       "9    2003-2007               2          10     7.0"
      ]
     },
     "execution_count": 627,
     "metadata": {},
     "output_type": "execute_result"
    }
   ],
   "source": [
    "df_main_preprocesado = df.drop(['Nom_Districte','Nom_Barri'],axis=1)\n",
    "df_main_preprocesado.head(10)"
   ]
  },
  {
   "cell_type": "code",
   "execution_count": 628,
   "id": "16a93a78",
   "metadata": {},
   "outputs": [
    {
     "name": "stdout",
     "output_type": "stream",
     "text": [
      "<class 'pandas.core.frame.DataFrame'>\n",
      "RangeIndex: 1022 entries, 0 to 1021\n",
      "Data columns (total 5 columns):\n",
      " #   Column          Non-Null Count  Dtype  \n",
      "---  ------          --------------  -----  \n",
      " 0   Codi_Districte  1022 non-null   int64  \n",
      " 1   Codi_Barri      1022 non-null   int64  \n",
      " 2   Nombre          1022 non-null   float64\n",
      " 3   Ano_Inicial     1022 non-null   object \n",
      " 4   Ano_Final       1022 non-null   object \n",
      "dtypes: float64(1), int64(2), object(2)\n",
      "memory usage: 40.0+ KB\n",
      "      Codi_Districte  Codi_Barri  Nombre Ano_Inicial Ano_Final\n",
      "0                  1           1    19.4        2003      2007\n",
      "1                  1           2    11.6        2003      2007\n",
      "2                  1           3    11.6        2003      2007\n",
      "3                  1           4    14.6        2003      2007\n",
      "4                  2           5     4.7        2003      2007\n",
      "...              ...         ...     ...         ...       ...\n",
      "1017              10          69     2.1        2016      2020\n",
      "1018              10          70     9.0        2016      2020\n",
      "1019              10          71     4.4        2016      2020\n",
      "1020              10          72     3.4        2016      2020\n",
      "1021              10          73     5.8        2016      2020\n",
      "\n",
      "[1022 rows x 5 columns]\n"
     ]
    }
   ],
   "source": [
    "# Dividir la columna 'Anys_Periode' en 'Ano_Inicial' y 'Ano_Final'\n",
    "df_main_preprocesado[['Ano_Inicial', 'Ano_Final']] = df_main_preprocesado['Anys_Periode'].str.split('-', expand=True)\n",
    "df_main_preprocesado = df_main_preprocesado.drop('Anys_Periode', axis=1)\n",
    "df_main_preprocesado.info()\n",
    "# Mostrar el DataFrame actualizado\n",
    "print(df_main_preprocesado)"
   ]
  },
  {
   "cell_type": "code",
   "execution_count": 629,
   "id": "72876477",
   "metadata": {},
   "outputs": [
    {
     "name": "stdout",
     "output_type": "stream",
     "text": [
      "     Ano_Inicial Ano_Final  Codi_Districte  Codi_Barri  Nombre\n",
      "0           2003      2007               1           1    19.4\n",
      "1           2003      2007               1           2    11.6\n",
      "2           2003      2007               1           3    11.6\n",
      "3           2003      2007               1           4    14.6\n",
      "4           2003      2007               2           5     4.7\n",
      "...          ...       ...             ...         ...     ...\n",
      "1017        2016      2020              10          69     2.1\n",
      "1018        2016      2020              10          70     9.0\n",
      "1019        2016      2020              10          71     4.4\n",
      "1020        2016      2020              10          72     3.4\n",
      "1021        2016      2020              10          73     5.8\n",
      "\n",
      "[1022 rows x 5 columns]\n"
     ]
    }
   ],
   "source": [
    "df_main_preprocesado = df_main_preprocesado.reindex(columns=[\"Ano_Inicial\", \"Ano_Final\", \"Codi_Districte\", \"Codi_Barri\", \"Nombre\"])\n",
    "print(df_main_preprocesado)"
   ]
  },
  {
   "cell_type": "code",
   "execution_count": 630,
   "id": "b649ed23",
   "metadata": {},
   "outputs": [
    {
     "name": "stdout",
     "output_type": "stream",
     "text": [
      "<class 'pandas.core.frame.DataFrame'>\n",
      "RangeIndex: 1022 entries, 0 to 1021\n",
      "Data columns (total 5 columns):\n",
      " #   Column          Non-Null Count  Dtype  \n",
      "---  ------          --------------  -----  \n",
      " 0   Ano_Inicial     1022 non-null   int64  \n",
      " 1   Ano_Final       1022 non-null   int64  \n",
      " 2   Codi_Districte  1022 non-null   int64  \n",
      " 3   Codi_Barri      1022 non-null   int64  \n",
      " 4   Nombre          1022 non-null   float64\n",
      "dtypes: float64(1), int64(4)\n",
      "memory usage: 40.0 KB\n"
     ]
    },
    {
     "data": {
      "text/html": [
       "<div>\n",
       "<style scoped>\n",
       "    .dataframe tbody tr th:only-of-type {\n",
       "        vertical-align: middle;\n",
       "    }\n",
       "\n",
       "    .dataframe tbody tr th {\n",
       "        vertical-align: top;\n",
       "    }\n",
       "\n",
       "    .dataframe thead th {\n",
       "        text-align: right;\n",
       "    }\n",
       "</style>\n",
       "<table border=\"1\" class=\"dataframe\">\n",
       "  <thead>\n",
       "    <tr style=\"text-align: right;\">\n",
       "      <th></th>\n",
       "      <th>Ano_Inicial</th>\n",
       "      <th>Ano_Final</th>\n",
       "      <th>Codi_Districte</th>\n",
       "      <th>Codi_Barri</th>\n",
       "      <th>Nombre</th>\n",
       "    </tr>\n",
       "  </thead>\n",
       "  <tbody>\n",
       "    <tr>\n",
       "      <th>0</th>\n",
       "      <td>2003</td>\n",
       "      <td>2007</td>\n",
       "      <td>1</td>\n",
       "      <td>1</td>\n",
       "      <td>19.4</td>\n",
       "    </tr>\n",
       "    <tr>\n",
       "      <th>1</th>\n",
       "      <td>2003</td>\n",
       "      <td>2007</td>\n",
       "      <td>1</td>\n",
       "      <td>2</td>\n",
       "      <td>11.6</td>\n",
       "    </tr>\n",
       "    <tr>\n",
       "      <th>2</th>\n",
       "      <td>2003</td>\n",
       "      <td>2007</td>\n",
       "      <td>1</td>\n",
       "      <td>3</td>\n",
       "      <td>11.6</td>\n",
       "    </tr>\n",
       "    <tr>\n",
       "      <th>3</th>\n",
       "      <td>2003</td>\n",
       "      <td>2007</td>\n",
       "      <td>1</td>\n",
       "      <td>4</td>\n",
       "      <td>14.6</td>\n",
       "    </tr>\n",
       "    <tr>\n",
       "      <th>4</th>\n",
       "      <td>2003</td>\n",
       "      <td>2007</td>\n",
       "      <td>2</td>\n",
       "      <td>5</td>\n",
       "      <td>4.7</td>\n",
       "    </tr>\n",
       "    <tr>\n",
       "      <th>5</th>\n",
       "      <td>2003</td>\n",
       "      <td>2007</td>\n",
       "      <td>2</td>\n",
       "      <td>6</td>\n",
       "      <td>5.8</td>\n",
       "    </tr>\n",
       "    <tr>\n",
       "      <th>6</th>\n",
       "      <td>2003</td>\n",
       "      <td>2007</td>\n",
       "      <td>2</td>\n",
       "      <td>7</td>\n",
       "      <td>2.6</td>\n",
       "    </tr>\n",
       "    <tr>\n",
       "      <th>7</th>\n",
       "      <td>2003</td>\n",
       "      <td>2007</td>\n",
       "      <td>2</td>\n",
       "      <td>8</td>\n",
       "      <td>3.5</td>\n",
       "    </tr>\n",
       "    <tr>\n",
       "      <th>8</th>\n",
       "      <td>2003</td>\n",
       "      <td>2007</td>\n",
       "      <td>2</td>\n",
       "      <td>9</td>\n",
       "      <td>3.1</td>\n",
       "    </tr>\n",
       "    <tr>\n",
       "      <th>9</th>\n",
       "      <td>2003</td>\n",
       "      <td>2007</td>\n",
       "      <td>2</td>\n",
       "      <td>10</td>\n",
       "      <td>7.0</td>\n",
       "    </tr>\n",
       "  </tbody>\n",
       "</table>\n",
       "</div>"
      ],
      "text/plain": [
       "   Ano_Inicial  Ano_Final  Codi_Districte  Codi_Barri  Nombre\n",
       "0         2003       2007               1           1    19.4\n",
       "1         2003       2007               1           2    11.6\n",
       "2         2003       2007               1           3    11.6\n",
       "3         2003       2007               1           4    14.6\n",
       "4         2003       2007               2           5     4.7\n",
       "5         2003       2007               2           6     5.8\n",
       "6         2003       2007               2           7     2.6\n",
       "7         2003       2007               2           8     3.5\n",
       "8         2003       2007               2           9     3.1\n",
       "9         2003       2007               2          10     7.0"
      ]
     },
     "execution_count": 630,
     "metadata": {},
     "output_type": "execute_result"
    }
   ],
   "source": [
    "df_main_preprocesado['Ano_Inicial'] = df_main_preprocesado['Ano_Inicial'].astype('int64')\n",
    "df_main_preprocesado['Ano_Final'] = df_main_preprocesado['Ano_Final'].astype('int64')\n",
    "df_main_preprocesado.info()\n",
    "df_main_preprocesado.head(10)"
   ]
  },
  {
   "cell_type": "markdown",
   "id": "2e25c8f1",
   "metadata": {},
   "source": [
    "Verificacion de outliers"
   ]
  },
  {
   "cell_type": "code",
   "execution_count": 631,
   "id": "89201e49",
   "metadata": {},
   "outputs": [
    {
     "name": "stdout",
     "output_type": "stream",
     "text": [
      "Outliers identificados:\n",
      "      Ano_Inicial  Ano_Final  Codi_Districte  Codi_Barri  Nombre\n",
      "0             NaN        NaN             NaN         NaN     NaN\n",
      "1             NaN        NaN             NaN         NaN     NaN\n",
      "2             NaN        NaN             NaN         NaN     NaN\n",
      "3             NaN        NaN             NaN         NaN     NaN\n",
      "4             NaN        NaN             NaN         NaN     NaN\n",
      "...           ...        ...             ...         ...     ...\n",
      "1017          NaN        NaN             NaN         NaN     NaN\n",
      "1018          NaN        NaN             NaN         NaN     NaN\n",
      "1019          NaN        NaN             NaN         NaN     NaN\n",
      "1020          NaN        NaN             NaN         NaN     NaN\n",
      "1021          NaN        NaN             NaN         NaN     NaN\n",
      "\n",
      "[1022 rows x 5 columns]\n"
     ]
    }
   ],
   "source": [
    "import numpy as np\n",
    "import pandas as pd\n",
    "from sklearn.preprocessing import RobustScaler\n",
    "\n",
    "# Crear una copia del dataset original\n",
    "#df_main_outliers = df_main.copy()\n",
    "\n",
    "df_main_outliers = df_main_preprocesado.copy()\n",
    "# Seleccionar las columnas numéricas en las que deseas identificar outliers\n",
    "columnas_numericas = ['Ano_Inicial', 'Ano_Final', 'Codi_Districte', 'Codi_Barri', 'Nombre']\n",
    "\n",
    "# Aplicar RobustScaler a las columnas numéricas\n",
    "scaler = RobustScaler()\n",
    "df_main_outliers[columnas_numericas] = scaler.fit_transform(df_main_preprocesado[columnas_numericas])\n",
    "\n",
    "# Calcular los límites para identificar los outliers\n",
    "percentil_25 = np.percentile(df_main_preprocesado[columnas_numericas], 25, axis=0)\n",
    "percentil_75 = np.percentile(df_main_preprocesado[columnas_numericas], 75, axis=0)\n",
    "rango_intercuartil = percentil_75 - percentil_25\n",
    "limite_inferior = percentil_25 - 1.5 * rango_intercuartil\n",
    "limite_superior = percentil_75 + 1.5 * rango_intercuartil\n",
    "\n",
    "# Identificar los outliers\n",
    "outliers = df_main_outliers[\n",
    "    (df_main_preprocesado[columnas_numericas] < limite_inferior) |\n",
    "    (df_main_preprocesado[columnas_numericas] > limite_superior)\n",
    "]\n",
    "\n",
    "# Imprimir los outliers identificados\n",
    "print(\"Outliers identificados:\")\n",
    "print(outliers)\n",
    "#print(df_main_preprocesado.head(10))\n"
   ]
  },
  {
   "cell_type": "markdown",
   "id": "216bcfd8",
   "metadata": {},
   "source": [
    "Normalizamos los datos del dataset"
   ]
  },
  {
   "cell_type": "code",
   "execution_count": 632,
   "id": "629c84c5",
   "metadata": {},
   "outputs": [
    {
     "name": "stdout",
     "output_type": "stream",
     "text": [
      "      Ano_Inicial  Ano_Final  Codi_Districte  Codi_Barri    Nombre\n",
      "0             0.0        0.0        0.000000    0.000000  0.293939\n",
      "1             0.0        0.0        0.000000    0.013889  0.175758\n",
      "2             0.0        0.0        0.000000    0.027778  0.175758\n",
      "3             0.0        0.0        0.000000    0.041667  0.221212\n",
      "4             0.0        0.0        0.111111    0.055556  0.071212\n",
      "...           ...        ...             ...         ...       ...\n",
      "1017          1.0        1.0        1.000000    0.944444  0.031818\n",
      "1018          1.0        1.0        1.000000    0.958333  0.136364\n",
      "1019          1.0        1.0        1.000000    0.972222  0.066667\n",
      "1020          1.0        1.0        1.000000    0.986111  0.051515\n",
      "1021          1.0        1.0        1.000000    1.000000  0.087879\n",
      "\n",
      "[1022 rows x 5 columns]\n"
     ]
    }
   ],
   "source": [
    "import pandas as pd\n",
    "from sklearn.preprocessing import MinMaxScaler\n",
    "\n",
    "# Crear el DataFrame con los datos\n",
    "#df = df_main_preprocesado\n",
    "\n",
    "# Inicializar el objeto MinMaxScaler\n",
    "scaler = MinMaxScaler()\n",
    "\n",
    "# Seleccionar las columnas a normalizar\n",
    "cols_to_normalize = ['Ano_Inicial', 'Ano_Final', 'Codi_Districte', 'Codi_Barri', 'Nombre']\n",
    "\n",
    "# Normalizar las columnas seleccionadas\n",
    "df_main_preprocesado[cols_to_normalize] = scaler.fit_transform(df_main_preprocesado[cols_to_normalize])\n",
    "\n",
    "# Imprimir el DataFrame normalizado\n",
    "print(df_main_preprocesado)\n"
   ]
  },
  {
   "cell_type": "code",
   "execution_count": 633,
   "id": "afaa0dc6",
   "metadata": {},
   "outputs": [
    {
     "data": {
      "text/html": [
       "<div>\n",
       "<style scoped>\n",
       "    .dataframe tbody tr th:only-of-type {\n",
       "        vertical-align: middle;\n",
       "    }\n",
       "\n",
       "    .dataframe tbody tr th {\n",
       "        vertical-align: top;\n",
       "    }\n",
       "\n",
       "    .dataframe thead th {\n",
       "        text-align: right;\n",
       "    }\n",
       "</style>\n",
       "<table border=\"1\" class=\"dataframe\">\n",
       "  <thead>\n",
       "    <tr style=\"text-align: right;\">\n",
       "      <th></th>\n",
       "      <th>Ano_Inicial</th>\n",
       "      <th>Ano_Final</th>\n",
       "      <th>Codi_Districte</th>\n",
       "      <th>Codi_Barri</th>\n",
       "      <th>Nombre</th>\n",
       "    </tr>\n",
       "  </thead>\n",
       "  <tbody>\n",
       "    <tr>\n",
       "      <th>0</th>\n",
       "      <td>0.0</td>\n",
       "      <td>0.0</td>\n",
       "      <td>0.000000</td>\n",
       "      <td>0.000000</td>\n",
       "      <td>0.293939</td>\n",
       "    </tr>\n",
       "    <tr>\n",
       "      <th>1</th>\n",
       "      <td>0.0</td>\n",
       "      <td>0.0</td>\n",
       "      <td>0.000000</td>\n",
       "      <td>0.013889</td>\n",
       "      <td>0.175758</td>\n",
       "    </tr>\n",
       "    <tr>\n",
       "      <th>2</th>\n",
       "      <td>0.0</td>\n",
       "      <td>0.0</td>\n",
       "      <td>0.000000</td>\n",
       "      <td>0.027778</td>\n",
       "      <td>0.175758</td>\n",
       "    </tr>\n",
       "    <tr>\n",
       "      <th>3</th>\n",
       "      <td>0.0</td>\n",
       "      <td>0.0</td>\n",
       "      <td>0.000000</td>\n",
       "      <td>0.041667</td>\n",
       "      <td>0.221212</td>\n",
       "    </tr>\n",
       "    <tr>\n",
       "      <th>4</th>\n",
       "      <td>0.0</td>\n",
       "      <td>0.0</td>\n",
       "      <td>0.111111</td>\n",
       "      <td>0.055556</td>\n",
       "      <td>0.071212</td>\n",
       "    </tr>\n",
       "    <tr>\n",
       "      <th>...</th>\n",
       "      <td>...</td>\n",
       "      <td>...</td>\n",
       "      <td>...</td>\n",
       "      <td>...</td>\n",
       "      <td>...</td>\n",
       "    </tr>\n",
       "    <tr>\n",
       "      <th>1017</th>\n",
       "      <td>1.0</td>\n",
       "      <td>1.0</td>\n",
       "      <td>1.000000</td>\n",
       "      <td>0.944444</td>\n",
       "      <td>0.031818</td>\n",
       "    </tr>\n",
       "    <tr>\n",
       "      <th>1018</th>\n",
       "      <td>1.0</td>\n",
       "      <td>1.0</td>\n",
       "      <td>1.000000</td>\n",
       "      <td>0.958333</td>\n",
       "      <td>0.136364</td>\n",
       "    </tr>\n",
       "    <tr>\n",
       "      <th>1019</th>\n",
       "      <td>1.0</td>\n",
       "      <td>1.0</td>\n",
       "      <td>1.000000</td>\n",
       "      <td>0.972222</td>\n",
       "      <td>0.066667</td>\n",
       "    </tr>\n",
       "    <tr>\n",
       "      <th>1020</th>\n",
       "      <td>1.0</td>\n",
       "      <td>1.0</td>\n",
       "      <td>1.000000</td>\n",
       "      <td>0.986111</td>\n",
       "      <td>0.051515</td>\n",
       "    </tr>\n",
       "    <tr>\n",
       "      <th>1021</th>\n",
       "      <td>1.0</td>\n",
       "      <td>1.0</td>\n",
       "      <td>1.000000</td>\n",
       "      <td>1.000000</td>\n",
       "      <td>0.087879</td>\n",
       "    </tr>\n",
       "  </tbody>\n",
       "</table>\n",
       "<p>1022 rows × 5 columns</p>\n",
       "</div>"
      ],
      "text/plain": [
       "      Ano_Inicial  Ano_Final  Codi_Districte  Codi_Barri    Nombre\n",
       "0             0.0        0.0        0.000000    0.000000  0.293939\n",
       "1             0.0        0.0        0.000000    0.013889  0.175758\n",
       "2             0.0        0.0        0.000000    0.027778  0.175758\n",
       "3             0.0        0.0        0.000000    0.041667  0.221212\n",
       "4             0.0        0.0        0.111111    0.055556  0.071212\n",
       "...           ...        ...             ...         ...       ...\n",
       "1017          1.0        1.0        1.000000    0.944444  0.031818\n",
       "1018          1.0        1.0        1.000000    0.958333  0.136364\n",
       "1019          1.0        1.0        1.000000    0.972222  0.066667\n",
       "1020          1.0        1.0        1.000000    0.986111  0.051515\n",
       "1021          1.0        1.0        1.000000    1.000000  0.087879\n",
       "\n",
       "[1022 rows x 5 columns]"
      ]
     },
     "execution_count": 633,
     "metadata": {},
     "output_type": "execute_result"
    }
   ],
   "source": [
    "df_main_preprocesado"
   ]
  },
  {
   "cell_type": "markdown",
   "id": "cacdddae",
   "metadata": {},
   "source": [
    "Vemos que las columnas Año inicial y final tienen las mismo valores por lo que eliminaremos y cambiaremos el nombre a Anys_Periode"
   ]
  },
  {
   "cell_type": "code",
   "execution_count": 598,
   "id": "7fc208fa",
   "metadata": {},
   "outputs": [
    {
     "data": {
      "text/html": [
       "<div>\n",
       "<style scoped>\n",
       "    .dataframe tbody tr th:only-of-type {\n",
       "        vertical-align: middle;\n",
       "    }\n",
       "\n",
       "    .dataframe tbody tr th {\n",
       "        vertical-align: top;\n",
       "    }\n",
       "\n",
       "    .dataframe thead th {\n",
       "        text-align: right;\n",
       "    }\n",
       "</style>\n",
       "<table border=\"1\" class=\"dataframe\">\n",
       "  <thead>\n",
       "    <tr style=\"text-align: right;\">\n",
       "      <th></th>\n",
       "      <th>Anys_Periode</th>\n",
       "      <th>Codi_Districte</th>\n",
       "      <th>Codi_Barri</th>\n",
       "      <th>Nombre</th>\n",
       "    </tr>\n",
       "  </thead>\n",
       "  <tbody>\n",
       "    <tr>\n",
       "      <th>0</th>\n",
       "      <td>0.0</td>\n",
       "      <td>0.000000</td>\n",
       "      <td>0.000000</td>\n",
       "      <td>0.293939</td>\n",
       "    </tr>\n",
       "    <tr>\n",
       "      <th>1</th>\n",
       "      <td>0.0</td>\n",
       "      <td>0.000000</td>\n",
       "      <td>0.013889</td>\n",
       "      <td>0.175758</td>\n",
       "    </tr>\n",
       "    <tr>\n",
       "      <th>2</th>\n",
       "      <td>0.0</td>\n",
       "      <td>0.000000</td>\n",
       "      <td>0.027778</td>\n",
       "      <td>0.175758</td>\n",
       "    </tr>\n",
       "    <tr>\n",
       "      <th>3</th>\n",
       "      <td>0.0</td>\n",
       "      <td>0.000000</td>\n",
       "      <td>0.041667</td>\n",
       "      <td>0.221212</td>\n",
       "    </tr>\n",
       "    <tr>\n",
       "      <th>4</th>\n",
       "      <td>0.0</td>\n",
       "      <td>0.111111</td>\n",
       "      <td>0.055556</td>\n",
       "      <td>0.071212</td>\n",
       "    </tr>\n",
       "    <tr>\n",
       "      <th>...</th>\n",
       "      <td>...</td>\n",
       "      <td>...</td>\n",
       "      <td>...</td>\n",
       "      <td>...</td>\n",
       "    </tr>\n",
       "    <tr>\n",
       "      <th>1017</th>\n",
       "      <td>1.0</td>\n",
       "      <td>1.000000</td>\n",
       "      <td>0.944444</td>\n",
       "      <td>0.031818</td>\n",
       "    </tr>\n",
       "    <tr>\n",
       "      <th>1018</th>\n",
       "      <td>1.0</td>\n",
       "      <td>1.000000</td>\n",
       "      <td>0.958333</td>\n",
       "      <td>0.136364</td>\n",
       "    </tr>\n",
       "    <tr>\n",
       "      <th>1019</th>\n",
       "      <td>1.0</td>\n",
       "      <td>1.000000</td>\n",
       "      <td>0.972222</td>\n",
       "      <td>0.066667</td>\n",
       "    </tr>\n",
       "    <tr>\n",
       "      <th>1020</th>\n",
       "      <td>1.0</td>\n",
       "      <td>1.000000</td>\n",
       "      <td>0.986111</td>\n",
       "      <td>0.051515</td>\n",
       "    </tr>\n",
       "    <tr>\n",
       "      <th>1021</th>\n",
       "      <td>1.0</td>\n",
       "      <td>1.000000</td>\n",
       "      <td>1.000000</td>\n",
       "      <td>0.087879</td>\n",
       "    </tr>\n",
       "  </tbody>\n",
       "</table>\n",
       "<p>1022 rows × 4 columns</p>\n",
       "</div>"
      ],
      "text/plain": [
       "      Anys_Periode  Codi_Districte  Codi_Barri    Nombre\n",
       "0              0.0        0.000000    0.000000  0.293939\n",
       "1              0.0        0.000000    0.013889  0.175758\n",
       "2              0.0        0.000000    0.027778  0.175758\n",
       "3              0.0        0.000000    0.041667  0.221212\n",
       "4              0.0        0.111111    0.055556  0.071212\n",
       "...            ...             ...         ...       ...\n",
       "1017           1.0        1.000000    0.944444  0.031818\n",
       "1018           1.0        1.000000    0.958333  0.136364\n",
       "1019           1.0        1.000000    0.972222  0.066667\n",
       "1020           1.0        1.000000    0.986111  0.051515\n",
       "1021           1.0        1.000000    1.000000  0.087879\n",
       "\n",
       "[1022 rows x 4 columns]"
      ]
     },
     "execution_count": 598,
     "metadata": {},
     "output_type": "execute_result"
    }
   ],
   "source": [
    "df_main_preprocesado = df_main_preprocesado.drop('Ano_Final', axis=1)\n",
    "df_main_preprocesado = df_main_preprocesado.rename(columns={'Ano_Inicial': 'Anys_Periode'})\n",
    "df_main_preprocesado"
   ]
  },
  {
   "cell_type": "markdown",
   "id": "9045626a",
   "metadata": {},
   "source": [
    "graficamos los puntos y headmap"
   ]
  },
  {
   "cell_type": "code",
   "execution_count": 600,
   "id": "779d429a",
   "metadata": {},
   "outputs": [
    {
     "data": {
      "image/png": "[encoded data removed]",
      "text/plain": [
       "<Figure size 432x288 with 1 Axes>"
      ]
     },
     "metadata": {
      "needs_background": "light"
     },
     "output_type": "display_data"
    }
   ],
   "source": [
    "import seaborn as sns\n",
    "import matplotlib.pyplot as plt\n",
    "\n",
    "# Graficar los puntos\n",
    "plt.scatter(df_main_preprocesado['Anys_Periode'], df_main_preprocesado['Nombre'])\n",
    "plt.xlabel('Anys_Periode')\n",
    "plt.ylabel('Nombre')\n",
    "plt.title('Distribución de los puntos')\n",
    "plt.show()"
   ]
  },
  {
   "cell_type": "markdown",
   "id": "65106cf6",
   "metadata": {},
   "source": [
    "correlacion"
   ]
  },
  {
   "cell_type": "code",
   "execution_count": 601,
   "id": "8d0a0407",
   "metadata": {},
   "outputs": [
    {
     "data": {
      "image/png": "[encoded data removed]",
      "text/plain": [
       "<Figure size 432x288 with 2 Axes>"
      ]
     },
     "metadata": {
      "needs_background": "light"
     },
     "output_type": "display_data"
    }
   ],
   "source": [
    "# Generar un heatmap\n",
    "corr_matrix = df_main_preprocesado.corr()\n",
    "sns.heatmap(corr_matrix, annot=True)\n",
    "plt.title('Heatmap de correlación')\n",
    "plt.show()"
   ]
  },
  {
   "cell_type": "markdown",
   "id": "211faf5f",
   "metadata": {},
   "source": [
    "Preparamos los modelos"
   ]
  },
  {
   "cell_type": "code",
   "execution_count": 602,
   "id": "2e19bea1",
   "metadata": {},
   "outputs": [
    {
     "name": "stdout",
     "output_type": "stream",
     "text": [
      "(817, 3)\n",
      "(205, 3)\n"
     ]
    }
   ],
   "source": [
    "from sklearn.model_selection import train_test_split\n",
    "from sklearn.metrics import r2_score, mean_squared_error, mean_absolute_error\n",
    "\n",
    "#df_housing.columns = df_housing.columns.astype(str)\n",
    "\n",
    "# Separamos los datos en conjuntos de entrenamiento y de prueba\n",
    "X = df_main_preprocesado.drop(['Nombre'], axis=1)\n",
    "y = df_main_preprocesado['Nombre']\n",
    "X_train, X_test, y_train, y_test = train_test_split(X, y, test_size=0.2, random_state=42)\n",
    "print(X_train.shape); print(X_test.shape)"
   ]
  },
  {
   "cell_type": "markdown",
   "id": "169e4d9e",
   "metadata": {},
   "source": [
    "Regresion Lineal"
   ]
  },
  {
   "cell_type": "markdown",
   "id": "a7127f38",
   "metadata": {},
   "source": [
    "Polinomial"
   ]
  },
  {
   "cell_type": "markdown",
   "id": "6502d2e5",
   "metadata": {},
   "source": [
    "Ramdom Forest"
   ]
  },
  {
   "cell_type": "markdown",
   "id": "2a4d1964",
   "metadata": {},
   "source": [
    "Validacion Cruzada"
   ]
  },
  {
   "cell_type": "code",
   "execution_count": 603,
   "id": "4a20651e",
   "metadata": {},
   "outputs": [
    {
     "name": "stdout",
     "output_type": "stream",
     "text": [
      "Linear Regression:\n",
      "Best Parameters: {}\n",
      "Best Metrics: -0.014751381148198572\n",
      "\n",
      "Random Forest Regression:\n",
      "Best Parameters: {'max_depth': None, 'n_estimators': 300}\n",
      "Best Metrics: -0.002877224386954786\n"
     ]
    }
   ],
   "source": [
    "from sklearn.model_selection import GridSearchCV\n",
    "from sklearn.linear_model import LinearRegression\n",
    "from sklearn.preprocessing import PolynomialFeatures\n",
    "from sklearn.ensemble import RandomForestRegressor\n",
    "\n",
    "# Crear los modelos\n",
    "model_lr = LinearRegression()\n",
    "model_rf = RandomForestRegressor()\n",
    "\n",
    "# Definir los parámetros a ajustar para cada modelo\n",
    "params_lr = {}\n",
    "params_rf = {'n_estimators': [100, 200, 300], 'max_depth': [None, 5, 10]}\n",
    "\n",
    "# Definir los scorers a utilizar para evaluar los modelos\n",
    "scorers = {'MAE': 'neg_mean_absolute_error', 'MSE': 'neg_mean_squared_error'}\n",
    "\n",
    "# Crear el objeto PolynomialFeatures\n",
    "\n",
    "# Realizar la validación cruzada para cada modelo y obtener los mejores parámetros y métricas\n",
    "grid_lr = GridSearchCV(model_lr, params_lr, scoring=scorers, refit='MSE', cv=5)\n",
    "grid_rf = GridSearchCV(model_rf, params_rf, scoring=scorers, refit='MSE', cv=5)\n",
    "\n",
    "# Transformar las características con PolynomialFeatures antes de ajustar los modelos\n",
    "\n",
    "# Ajustar los modelos\n",
    "grid_lr.fit(X_train, y_train)\n",
    "grid_rf.fit(X_train, y_train)\n",
    "\n",
    "# Obtener los mejores parámetros y métricas para cada modelo\n",
    "best_params_lr = grid_lr.best_params_\n",
    "best_metrics_lr = grid_lr.best_score_\n",
    "best_params_rf = grid_rf.best_params_\n",
    "best_metrics_rf = grid_rf.best_score_\n",
    "\n",
    "# Imprimir los mejores parámetros y métricas para cada modelo\n",
    "print(\"Linear Regression:\")\n",
    "print(\"Best Parameters:\", best_params_lr)\n",
    "print(\"Best Metrics:\", best_metrics_lr)\n",
    "print(\"\\nRandom Forest Regression:\")\n",
    "print(\"Best Parameters:\", best_params_rf)\n",
    "print(\"Best Metrics:\", best_metrics_rf)\n"
   ]
  },
  {
   "cell_type": "markdown",
   "id": "6038c995",
   "metadata": {},
   "source": [
    "Ya sabemos que Random Forest es el modelo que mejor puede predecir nuestros datos ahora vamos utilizar este modelo para obtener los valores"
   ]
  },
  {
   "cell_type": "code",
   "execution_count": null,
   "id": "e8e6b133",
   "metadata": {},
   "outputs": [],
   "source": [
    "df_main_preprocesado['Anys_Periode'].unique()"
   ]
  },
  {
   "cell_type": "code",
   "execution_count": null,
   "id": "96c09472",
   "metadata": {},
   "outputs": [],
   "source": [
    "import numpy as np\n",
    "import pandas as pd\n",
    "from sklearn.ensemble import RandomForestRegressor\n",
    "\n",
    "df_pred = df_main_preprocesado\n",
    "\n",
    "# Crear el DataFrame df_result vacío\n",
    "df_result = pd.DataFrame(columns=['Anys_Periode', 'Codi_Districte', 'Codi_Barri', 'Nombre_prediccion'])\n",
    "\n",
    "# Recorrer los distritos y barrios únicos en el dataset\n",
    "distritos_barrios = df_pred[['Codi_Districte', 'Codi_Barri']].drop_duplicates()\n",
    "for _, row in distritos_barrios.iterrows():\n",
    "    codi_districte = row['Codi_Districte']\n",
    "    codi_barri = row['Codi_Barri']\n",
    "    \n",
    "    # Filtrar los datos para el distrito y barrio actual\n",
    "    df_pred_districte_barri = df_pred[(df_pred['Codi_Districte'] == codi_districte) & (df_pred['Codi_Barri'] == codi_barri)]\n",
    "    \n",
    "    # Filtrar los datos para períodos anteriores a '2020-2024'\n",
    "    df_pred_anteriores = df_pred_districte_barri[df_pred_districte_barri['Anys_Periode'] <= 1]\n",
    "    \n",
    "    if len(df_pred_anteriores) > 0:\n",
    "        # Dividir los datos en variables independientes (X_pred) y variable dependiente (y_pred)\n",
    "        X_pred = df_pred_anteriores[['Anys_Periode', 'Codi_Districte', 'Codi_Barri']]\n",
    "        y_pred = df_pred_anteriores['Nombre']\n",
    "        \n",
    "        # Crear y entrenar el modelo de Random Forest con los mejores parámetros\n",
    "        model = RandomForestRegressor(max_depth=None, n_estimators=100)\n",
    "        model.fit(X_pred, y_pred)\n",
    "\n",
    "        # Importancias de las características\n",
    "        #importances = model.feature_importances_\n",
    "\n",
    "        #for i, feature in enumerate(X_pred.columns):\n",
    "        #    print(f\"Feature: {feature}, Importance: {importances[i]}\")\n",
    "\n",
    "        \n",
    "        # Realizar la predicción para el período '2020-2024'\n",
    "        X_pred_prediccion = pd.DataFrame({'Anys_Periode': [1], 'Codi_Districte': [codi_districte], 'Codi_Barri': [codi_barri]})\n",
    "        y_pred_prediccion = model.predict(X_pred_prediccion)\n",
    "        \n",
    "        # Agregar los resultados al DataFrame df_result\n",
    "        df_result = pd.concat([df_result, pd.DataFrame({\n",
    "            'Anys_Periode': [1],\n",
    "            'Codi_Districte': codi_districte,\n",
    "            'Codi_Barri': codi_barri,\n",
    "            'Nombre_prediccion': y_pred_prediccion[0]\n",
    "        })], ignore_index=True)\n",
    "\n",
    "# Imprimir el DataFrame df_result\n",
    "print(df_result)"
   ]
  },
  {
   "cell_type": "code",
   "execution_count": null,
   "id": "b9844b53",
   "metadata": {},
   "outputs": [],
   "source": []
  },
  {
   "cell_type": "code",
   "execution_count": null,
   "id": "c790cc12",
   "metadata": {},
   "outputs": [],
   "source": [
    "from sklearn.preprocessing import MinMaxScaler\n",
    "import numpy as np\n",
    "\n",
    "# Extraer los Nombres normalizados\n",
    "valores_normalizados_Codi_Districte = df_result['Codi_Districte'].values.reshape(-1, 1)\n",
    "valores_normalizados_Codi_Barri = df_result['Codi_Barri'].values.reshape(-1, 1)\n",
    "valores_normalizados_Nombre = df_result['Nombre_prediccion'].values.reshape(-1, 1)\n",
    "\n",
    "# Crea una instancia de MinMaxScaler y ajusta la escala con los valores originales\n",
    "scaler = MinMaxScaler()\n",
    "scaler.fit(df[['Codi_Districte', 'Codi_Barri', 'Nombre']])\n",
    "\n",
    "# Combina las columnas normalizadas en un solo arreglo\n",
    "valores_normalizados = np.hstack((valores_normalizados_Codi_Districte, valores_normalizados_Codi_Barri, valores_normalizados_Nombre))\n",
    "\n",
    "# Deshace la normalización utilizando inverse_transform\n",
    "valores_desnormalizados = scaler.inverse_transform(valores_normalizados)\n",
    "\n",
    "# Actualiza las columnas 'Nombre_prediccion', 'Codi_Districte' y 'Codi_Barri' con los valores desnormalizados\n",
    "\n",
    "df_result['Codi_Districte'] = valores_desnormalizados[:, 0]\n",
    "df_result['Codi_Barri'] = valores_desnormalizados[:, 1]\n",
    "df_result['Nombre_prediccion'] = valores_desnormalizados[:, 2]\n"
   ]
  },
  {
   "cell_type": "code",
   "execution_count": null,
   "id": "4eb88505",
   "metadata": {},
   "outputs": [],
   "source": [
    "# Convertir las columnas en enteros\n",
    "df_result['Anys_Periode'] = '2020-2024'\n",
    "df_result['Codi_Districte'] = df_result['Codi_Districte'].astype(int)\n",
    "df_result['Codi_Barri'] = df_result['Codi_Barri'].astype(int)\n",
    "\n",
    "df_result = df_result.rename(columns={'Nombre_prediccion': 'Nombre'})\n",
    "\n",
    "# Mostrar la tabla\n",
    "print(df_result)"
   ]
  },
  {
   "cell_type": "code",
   "execution_count": null,
   "id": "11c776b0",
   "metadata": {},
   "outputs": [],
   "source": [
    "df_result."
   ]
  },
  {
   "cell_type": "code",
   "execution_count": 610,
   "id": "26098d73",
   "metadata": {},
   "outputs": [
    {
     "name": "stdout",
     "output_type": "stream",
     "text": [
      "[ 1  2  3  4  5  6  8  9 10 11 12 13 15 16 17 18 19 20 21 22 23 24 25 26\n",
      " 27 29 30 31 32 33 34 35 36 37 38 39 40 41 42 43 44 45 46 47 48 49 50 51\n",
      " 52 53 54 55 57 58 59 60 61 62 63 64 65 66 67 68 69 70 71 72 73]\n"
     ]
    }
   ],
   "source": [
    "print(df_result['Codi_Barri'].unique())"
   ]
  },
  {
   "cell_type": "code",
   "execution_count": 608,
   "id": "92449c8f",
   "metadata": {},
   "outputs": [
    {
     "name": "stdout",
     "output_type": "stream",
     "text": [
      "   Anys_Periode  Codi_Districte  Codi_Barri  Nombre\n",
      "72    2020-2024              10          73    5.91\n"
     ]
    }
   ],
   "source": [
    "print(df_result[df_result['Codi_Barri']==73]) "
   ]
  },
  {
   "cell_type": "code",
   "execution_count": 609,
   "id": "d0d6c83c",
   "metadata": {},
   "outputs": [
    {
     "name": "stdout",
     "output_type": "stream",
     "text": [
      "     Anys_Periode  Codi_Districte Nom_Districte  Codi_Barri  \\\n",
      "72      2003-2007              10    Sant Martí          73   \n",
      "145     2004-2008              10    Sant Martí          73   \n",
      "218     2005-2009              10    Sant Martí          73   \n",
      "291     2006-2010              10    Sant Martí          73   \n",
      "364     2007-2011              10    Sant Martí          73   \n",
      "437     2008-2012              10    Sant Martí          73   \n",
      "510     2009-2013              10    Sant Martí          73   \n",
      "583     2010-2014              10    Sant Martí          73   \n",
      "656     2011-2015              10    Sant Martí          73   \n",
      "729     2012-2016              10    Sant Martí          73   \n",
      "802     2013-2017              10    Sant Martí          73   \n",
      "875     2014-2018              10    Sant Martí          73   \n",
      "948     2015-2019              10    Sant Martí          73   \n",
      "1021    2016-2020              10    Sant Martí          73   \n",
      "\n",
      "                Nom_Barri  Nombre  \n",
      "72    la Verneda i la Pau     5.4  \n",
      "145   la Verneda i la Pau     7.0  \n",
      "218   la Verneda i la Pau     7.7  \n",
      "291   la Verneda i la Pau     8.1  \n",
      "364   la Verneda i la Pau     7.5  \n",
      "437   la Verneda i la Pau     7.6  \n",
      "510   la Verneda i la Pau     7.0  \n",
      "583   la Verneda i la Pau     8.1  \n",
      "656   la Verneda i la Pau     5.6  \n",
      "729   la Verneda i la Pau     6.7  \n",
      "802   la Verneda i la Pau     6.8  \n",
      "875   la Verneda i la Pau     6.4  \n",
      "948   la Verneda i la Pau     5.9  \n",
      "1021  la Verneda i la Pau     5.8  \n"
     ]
    }
   ],
   "source": [
    "print(df[df['Codi_Barri']==73])"
   ]
  },
  {
   "cell_type": "code",
   "execution_count": 479,
   "id": "4121f3f1",
   "metadata": {},
   "outputs": [
    {
     "name": "stdout",
     "output_type": "stream",
     "text": [
      "     Anys_Periode  Codi_Districte Nom_Districte  Codi_Barri  \\\n",
      "0       2003-2007               1  Ciutat Vella           1   \n",
      "1       2003-2007               1  Ciutat Vella           2   \n",
      "2       2003-2007               1  Ciutat Vella           3   \n",
      "3       2003-2007               1  Ciutat Vella           4   \n",
      "4       2003-2007               2      Eixample           5   \n",
      "...           ...             ...           ...         ...   \n",
      "1090    2020-2024              10           NaN          69   \n",
      "1091    2020-2024              10           NaN          70   \n",
      "1092    2020-2024              10           NaN          71   \n",
      "1093    2020-2024              10           NaN          72   \n",
      "1094    2020-2024              10           NaN          73   \n",
      "\n",
      "                                  Nom_Barri  Nombre  \n",
      "0                                  el Raval  19.400  \n",
      "1                            el Barri Gòtic  11.600  \n",
      "2                            la Barceloneta  11.600  \n",
      "3     Sant Pere, Santa Caterina i la Ribera  14.600  \n",
      "4                             el Fort Pienc   4.700  \n",
      "...                                     ...     ...  \n",
      "1090                                    NaN   2.485  \n",
      "1091                                    NaN  10.359  \n",
      "1092                                    NaN   4.815  \n",
      "1093                                    NaN   4.018  \n",
      "1094                                    NaN   5.910  \n",
      "\n",
      "[1095 rows x 6 columns]\n"
     ]
    }
   ],
   "source": [
    "# Unir df_main y df_result utilizando concat\n",
    "df_final = pd.concat([df, df_result], ignore_index=True)\n",
    "\n",
    "# Mostrar el DataFrame final\n",
    "print(df_final)\n"
   ]
  },
  {
   "cell_type": "code",
   "execution_count": 530,
   "id": "bbe7580a",
   "metadata": {},
   "outputs": [],
   "source": [
    "#print(df_final['Codi_Barri'].unique())\n",
    "#print(df_final[df_final['Codi_Barri']==56])"
   ]
  },
  {
   "cell_type": "code",
   "execution_count": 542,
   "id": "f98a34d9",
   "metadata": {},
   "outputs": [
    {
     "name": "stdout",
     "output_type": "stream",
     "text": [
      "{1: 'Ciutat Vella', 2: 'Eixample', 3: 'Sants-Montjuïc', 4: 'Les Corts', 5: 'Sarrià-Sant Gervasi', 6: 'Gràcia', 7: 'Horta-Guinardó', 8: 'Nou Barris', 9: 'Sant Andreu', 10: 'Sant Martí'}\n"
     ]
    }
   ],
   "source": [
    "# Obtener los valores únicos de Codi_Districte y Codi_Barri del DataFrame final\n",
    "codi_districte_unique = df['Codi_Districte'].unique()\n",
    "codi_barri_unique = df['Codi_Barri'].unique()\n",
    "\n",
    "# Crear un diccionario para mapear los valores de Codi_Districte y Codi_Barri a Nom_Districte y Nom_Barri\n",
    "mapping_dist = {}\n",
    "for codi_districte in codi_districte_unique:\n",
    "    nom_districte = df.loc[df['Codi_Districte'] == codi_districte, 'Nom_Districte'].iloc[0]\n",
    "    mapping_dist[codi_districte] = nom_districte\n",
    "mapping_barri = {}\n",
    "for codi_barri in codi_barri_unique:\n",
    "    nom_barri = df.loc[df['Codi_Barri'] == codi_barri, 'Nom_Barri'].iloc[0]\n",
    "    mapping_barri[codi_barri] = nom_barri\n",
    "#print (mapping_dist)"
   ]
  },
  {
   "cell_type": "code",
   "execution_count": 543,
   "id": "0879a2ad",
   "metadata": {},
   "outputs": [
    {
     "name": "stdout",
     "output_type": "stream",
     "text": [
      "     Anys_Periode  Codi_Districte Nom_Districte  Codi_Barri  \\\n",
      "0       2003-2007               1  Ciutat Vella           1   \n",
      "1       2003-2007               1  Ciutat Vella           2   \n",
      "2       2003-2007               1  Ciutat Vella           3   \n",
      "3       2003-2007               1  Ciutat Vella           4   \n",
      "4       2003-2007               2      Eixample           5   \n",
      "...           ...             ...           ...         ...   \n",
      "1090    2020-2024              10    Sant Martí          69   \n",
      "1091    2020-2024              10    Sant Martí          70   \n",
      "1092    2020-2024              10    Sant Martí          71   \n",
      "1093    2020-2024              10    Sant Martí          72   \n",
      "1094    2020-2024              10    Sant Martí          73   \n",
      "\n",
      "                                         Nom_Barri  Nombre  \n",
      "0                                         el Raval  19.400  \n",
      "1                                   el Barri Gòtic  11.600  \n",
      "2                                   la Barceloneta  11.600  \n",
      "3            Sant Pere, Santa Caterina i la Ribera  14.600  \n",
      "4                                    el Fort Pienc   4.700  \n",
      "...                                            ...     ...  \n",
      "1090  Diagonal Mar i el Front Marítim del Poblenou   2.485  \n",
      "1091                         el Besòs i el Maresme  10.359  \n",
      "1092                       Provençals del Poblenou   4.815  \n",
      "1093                      Sant Martí de Provençals   4.018  \n",
      "1094                           la Verneda i la Pau   5.910  \n",
      "\n",
      "[1095 rows x 6 columns]\n"
     ]
    }
   ],
   "source": [
    "# Remplazar los valores de Codi_Districte y Codi_Barri con sus respectivos nombres en el DataFrame final\n",
    "df_final['Nom_Districte'] = df_final['Codi_Districte'].map(mapping_dist)\n",
    "df_final['Nom_Barri'] = df_final['Codi_Barri'].map(mapping_barri)\n",
    "\n",
    "# Mostrar el DataFrame final con los campos Nom_Districte y Nom_Barri llenos\n",
    "print(df_final)"
   ]
  },
  {
   "cell_type": "code",
   "execution_count": 546,
   "id": "846da6c3",
   "metadata": {},
   "outputs": [
    {
     "name": "stdout",
     "output_type": "stream",
     "text": [
      "     Anys_Periode  Codi_Districte Nom_Districte  Codi_Barri      Nom_Barri  \\\n",
      "58      2003-2007               9   Sant Andreu          59  el Bon Pastor   \n",
      "131     2004-2008               9   Sant Andreu          59  el Bon Pastor   \n",
      "204     2005-2009               9   Sant Andreu          59  el Bon Pastor   \n",
      "277     2006-2010               9   Sant Andreu          59  el Bon Pastor   \n",
      "350     2007-2011               9   Sant Andreu          59  el Bon Pastor   \n",
      "423     2008-2012               9   Sant Andreu          59  el Bon Pastor   \n",
      "496     2009-2013               9   Sant Andreu          59  el Bon Pastor   \n",
      "569     2010-2014               9   Sant Andreu          59  el Bon Pastor   \n",
      "642     2011-2015               9   Sant Andreu          59  el Bon Pastor   \n",
      "715     2012-2016               9   Sant Andreu          59  el Bon Pastor   \n",
      "788     2013-2017               9   Sant Andreu          59  el Bon Pastor   \n",
      "861     2014-2018               9   Sant Andreu          59  el Bon Pastor   \n",
      "934     2015-2019               9   Sant Andreu          59  el Bon Pastor   \n",
      "1007    2016-2020               9   Sant Andreu          59  el Bon Pastor   \n",
      "1080    2020-2024               9   Sant Andreu          59  el Bon Pastor   \n",
      "\n",
      "      Nombre  \n",
      "58    21.900  \n",
      "131   23.300  \n",
      "204   23.300  \n",
      "277   22.100  \n",
      "350   18.900  \n",
      "423   16.400  \n",
      "496   12.800  \n",
      "569   16.900  \n",
      "642   13.800  \n",
      "715   15.600  \n",
      "788   15.400  \n",
      "861   18.300  \n",
      "934   13.300  \n",
      "1007  12.500  \n",
      "1080  13.203  \n"
     ]
    },
    {
     "data": {
      "image/png": "[encoded data removed]",
      "text/plain": [
       "<Figure size 576x432 with 1 Axes>"
      ]
     },
     "metadata": {
      "needs_background": "light"
     },
     "output_type": "display_data"
    }
   ],
   "source": [
    "import matplotlib.pyplot as plt\n",
    "\n",
    "# Filtrar los datos para el Nom_Barri \"La marina del prat vermell\"\n",
    "df_barri = df_final[df_final['Codi_Barri'] == 59]\n",
    "\n",
    "print(df_barri)\n",
    "\n",
    "# Filtrar los datos para la evolución de Nombre por año (Anys_Periode)\n",
    "df_evolucion = df_barri[['Anys_Periode', 'Nombre']]\n",
    "\n",
    "# Ordenar los datos por Anys_Periode\n",
    "df_evolucion = df_evolucion.sort_values('Anys_Periode')\n",
    "\n",
    "# Crear la gráfica de puntos\n",
    "plt.figure(figsize=(8, 6))\n",
    "plt.scatter(df_evolucion['Anys_Periode'], df_evolucion['Nombre'])\n",
    "plt.xlabel('Anys_Periode')\n",
    "plt.ylabel('Nombre')\n",
    "plt.title('Evolución de Nombre en el Nom_Barri \"La marina del prat vermell\"')\n",
    "plt.xticks(rotation=45)\n",
    "plt.grid(True)\n",
    "plt.show()"
   ]
  },
  {
   "cell_type": "code",
   "execution_count": null,
   "id": "22d8afc1",
   "metadata": {},
   "outputs": [],
   "source": []
  }
 ],
 "metadata": {
  "hide_input": false,
  "kernelspec": {
   "display_name": "Python 3 (ipykernel)",
   "language": "python",
   "name": "python3"
  },
  "language_info": {
   "codemirror_mode": {
    "name": "ipython",
    "version": 3
   },
   "file_extension": ".py",
   "mimetype": "text/x-python",
   "name": "python",
   "nbconvert_exporter": "python",
   "pygments_lexer": "ipython3",
   "version": "3.9.12"
  },
  "nbTranslate": {
   "displayLangs": [
    "*"
   ],
   "hotkey": "alt-t",
   "langInMainMenu": true,
   "sourceLang": "en",
   "targetLang": "fr",
   "useGoogleTranslate": true
  },
  "toc": {
   "base_numbering": 1,
   "nav_menu": {},
   "number_sections": true,
   "sideBar": true,
   "skip_h1_title": false,
   "title_cell": "Table of Contents",
   "title_sidebar": "Contents",
   "toc_cell": false,
   "toc_position": {},
   "toc_section_display": true,
   "toc_window_display": false
  },
  "varInspector": {
   "cols": {
    "lenName": 16,
    "lenType": 16,
    "lenVar": 40
   },
   "kernels_config": {
    "python": {
     "delete_cmd_postfix": "",
     "delete_cmd_prefix": "del ",
     "library": "var_list.py",
     "varRefreshCmd": "print(var_dic_list())"
    },
    "r": {
     "delete_cmd_postfix": ") ",
     "delete_cmd_prefix": "rm(",
     "library": "var_list.r",
     "varRefreshCmd": "cat(var_dic_list()) "
    }
   },
   "types_to_exclude": [
    "module",
    "function",
    "builtin_function_or_method",
    "instance",
    "_Feature"
   ],
   "window_display": false
  }
 },
 "nbformat": 4,
 "nbformat_minor": 5
}
