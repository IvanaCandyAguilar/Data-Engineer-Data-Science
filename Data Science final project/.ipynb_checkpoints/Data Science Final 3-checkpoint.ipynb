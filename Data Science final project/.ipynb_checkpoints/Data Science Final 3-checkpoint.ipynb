{
 "cells": [
  {
   "cell_type": "code",
   "execution_count": 805,
   "id": "c4c4c4a3",
   "metadata": {},
   "outputs": [],
   "source": [
    "import numpy as np\n",
    "import pandas as pd\n",
    "from sklearn.model_selection import cross_val_score\n",
    "from sklearn.preprocessing import PolynomialFeatures\n",
    "from sklearn.linear_model import LinearRegression\n",
    "from sklearn.pipeline import make_pipeline\n",
    "\n",
    "# Cargar los datos en un DataFrame\n",
    "df = pd.read_csv('2020_est_salut_publica_tax_espec_fec_mares_15_19a.csv')\n",
    "\n",
    "#df.head(10)\n"
   ]
  },
  {
   "cell_type": "code",
   "execution_count": 806,
   "id": "0ed8ae90",
   "metadata": {},
   "outputs": [],
   "source": [
    "#print(df['Anys_Periode'].unique())"
   ]
  },
  {
   "cell_type": "code",
   "execution_count": 807,
   "id": "01412718",
   "metadata": {},
   "outputs": [],
   "source": [
    "#df.describe().transpose()"
   ]
  },
  {
   "cell_type": "code",
   "execution_count": 808,
   "id": "49156db6",
   "metadata": {},
   "outputs": [],
   "source": [
    "#df.info()"
   ]
  },
  {
   "cell_type": "code",
   "execution_count": 809,
   "id": "528b4b10",
   "metadata": {},
   "outputs": [],
   "source": [
    "#df.columns"
   ]
  },
  {
   "cell_type": "code",
   "execution_count": 810,
   "id": "0b926af5",
   "metadata": {},
   "outputs": [],
   "source": [
    "#df['Anys_Periode'].unique()"
   ]
  },
  {
   "cell_type": "code",
   "execution_count": 811,
   "id": "84d0db1f",
   "metadata": {},
   "outputs": [],
   "source": [
    "#barrios = df['Nom_Barri'].unique()"
   ]
  },
  {
   "cell_type": "code",
   "execution_count": 812,
   "id": "7e8116a4",
   "metadata": {},
   "outputs": [],
   "source": [
    "#df.isna().sum()"
   ]
  },
  {
   "cell_type": "code",
   "execution_count": 813,
   "id": "d7e47dc9",
   "metadata": {},
   "outputs": [],
   "source": [
    "#df.isnull().sum()"
   ]
  },
  {
   "cell_type": "code",
   "execution_count": 814,
   "id": "b208e13a",
   "metadata": {},
   "outputs": [],
   "source": [
    "#df.shape"
   ]
  },
  {
   "cell_type": "code",
   "execution_count": 815,
   "id": "7af732d8",
   "metadata": {},
   "outputs": [
    {
     "data": {
      "text/plain": [
       "(1022, 6)"
      ]
     },
     "execution_count": 815,
     "metadata": {},
     "output_type": "execute_result"
    }
   ],
   "source": [
    "df.dropna(inplace=True)\n",
    "df.shape"
   ]
  },
  {
   "cell_type": "code",
   "execution_count": 816,
   "id": "755a7d48",
   "metadata": {},
   "outputs": [],
   "source": [
    "df_main_preprocesado = df.drop(['Nom_Districte','Nom_Barri'],axis=1)\n",
    "#df_main_preprocesado.head(10)"
   ]
  },
  {
   "cell_type": "code",
   "execution_count": 817,
   "id": "100420fe",
   "metadata": {},
   "outputs": [
    {
     "name": "stdout",
     "output_type": "stream",
     "text": [
      "      Anys_Periode  Codi_Districte  Codi_Barri  Nombre\n",
      "1012            13              10          64     3.6\n",
      "1013            13              10          65     0.7\n",
      "1014            13              10          66     1.5\n",
      "1015            13              10          67     0.0\n",
      "1016            13              10          68     0.9\n",
      "1017            13              10          69     2.1\n",
      "1018            13              10          70     9.0\n",
      "1019            13              10          71     4.4\n",
      "1020            13              10          72     3.4\n",
      "1021            13              10          73     5.8\n"
     ]
    }
   ],
   "source": [
    "from sklearn.preprocessing import LabelEncoder\n",
    "\n",
    "# Crear una instancia de LabelEncoder\n",
    "encoder = LabelEncoder()\n",
    "\n",
    "# Ajustar y transformar la columna \"Anys_Periode\" en la tabla\n",
    "df_main_preprocesado['Anys_Periode'] = encoder.fit_transform(df['Anys_Periode'])\n",
    "\n",
    "# Mostrar la tabla actualizada\n",
    "print(df_main_preprocesado.tail(10))"
   ]
  },
  {
   "cell_type": "markdown",
   "id": "2e25c8f1",
   "metadata": {},
   "source": [
    "Verificacion de outliers"
   ]
  },
  {
   "cell_type": "code",
   "execution_count": 818,
   "id": "89201e49",
   "metadata": {},
   "outputs": [
    {
     "name": "stdout",
     "output_type": "stream",
     "text": [
      "Outliers identificados:\n",
      "      Anys_Periode  Codi_Districte  Codi_Barri  Nombre\n",
      "0              NaN             NaN         NaN     NaN\n",
      "1              NaN             NaN         NaN     NaN\n",
      "2              NaN             NaN         NaN     NaN\n",
      "3              NaN             NaN         NaN     NaN\n",
      "4              NaN             NaN         NaN     NaN\n",
      "...            ...             ...         ...     ...\n",
      "1017           NaN             NaN         NaN     NaN\n",
      "1018           NaN             NaN         NaN     NaN\n",
      "1019           NaN             NaN         NaN     NaN\n",
      "1020           NaN             NaN         NaN     NaN\n",
      "1021           NaN             NaN         NaN     NaN\n",
      "\n",
      "[1022 rows x 4 columns]\n"
     ]
    }
   ],
   "source": [
    "import numpy as np\n",
    "import pandas as pd\n",
    "from sklearn.preprocessing import RobustScaler\n",
    "\n",
    "# Crear una copia del dataset original\n",
    "#df_main_outliers = df_main.copy()\n",
    "\n",
    "df_main_outliers = df_main_preprocesado.copy()\n",
    "# Seleccionar las columnas numéricas en las que deseas identificar outliers\n",
    "columnas_numericas = ['Anys_Periode','Codi_Districte', 'Codi_Barri', 'Nombre']\n",
    "\n",
    "# Aplicar RobustScaler a las columnas numéricas\n",
    "scaler = RobustScaler()\n",
    "df_main_outliers[columnas_numericas] = scaler.fit_transform(df_main_preprocesado[columnas_numericas])\n",
    "\n",
    "# Calcular los límites para identificar los outliers\n",
    "percentil_25 = np.percentile(df_main_preprocesado[columnas_numericas], 25, axis=0)\n",
    "percentil_75 = np.percentile(df_main_preprocesado[columnas_numericas], 75, axis=0)\n",
    "rango_intercuartil = percentil_75 - percentil_25\n",
    "limite_inferior = percentil_25 - 1.5 * rango_intercuartil\n",
    "limite_superior = percentil_75 + 1.5 * rango_intercuartil\n",
    "\n",
    "# Identificar los outliers\n",
    "outliers = df_main_outliers[\n",
    "    (df_main_preprocesado[columnas_numericas] < limite_inferior) |\n",
    "    (df_main_preprocesado[columnas_numericas] > limite_superior)\n",
    "]\n",
    "\n",
    "# Imprimir los outliers identificados\n",
    "print(\"Outliers identificados:\")\n",
    "print(outliers)\n",
    "#print(df_main_preprocesado.head(10))\n"
   ]
  },
  {
   "cell_type": "markdown",
   "id": "216bcfd8",
   "metadata": {},
   "source": [
    "Normalizamos los datos del dataset"
   ]
  },
  {
   "cell_type": "code",
   "execution_count": 819,
   "id": "629c84c5",
   "metadata": {},
   "outputs": [
    {
     "name": "stdout",
     "output_type": "stream",
     "text": [
      "      Anys_Periode  Codi_Districte  Codi_Barri    Nombre\n",
      "0              0.0        0.000000    0.000000  0.293939\n",
      "1              0.0        0.000000    0.013889  0.175758\n",
      "2              0.0        0.000000    0.027778  0.175758\n",
      "3              0.0        0.000000    0.041667  0.221212\n",
      "4              0.0        0.111111    0.055556  0.071212\n",
      "...            ...             ...         ...       ...\n",
      "1017           1.0        1.000000    0.944444  0.031818\n",
      "1018           1.0        1.000000    0.958333  0.136364\n",
      "1019           1.0        1.000000    0.972222  0.066667\n",
      "1020           1.0        1.000000    0.986111  0.051515\n",
      "1021           1.0        1.000000    1.000000  0.087879\n",
      "\n",
      "[1022 rows x 4 columns]\n"
     ]
    }
   ],
   "source": [
    "import pandas as pd\n",
    "from sklearn.preprocessing import MinMaxScaler\n",
    "\n",
    "# Crear el DataFrame con los datos\n",
    "#df = df_main_preprocesado\n",
    "\n",
    "# Inicializar el objeto MinMaxScaler\n",
    "scaler = MinMaxScaler()\n",
    "\n",
    "# Seleccionar las columnas a normalizar\n",
    "cols_to_normalize = ['Anys_Periode', 'Codi_Districte', 'Codi_Barri', 'Nombre']\n",
    "\n",
    "# Normalizar las columnas seleccionadas\n",
    "df_main_preprocesado[cols_to_normalize] = scaler.fit_transform(df_main_preprocesado[cols_to_normalize])\n",
    "\n",
    "# Imprimir el DataFrame normalizado\n",
    "print(df_main_preprocesado)"
   ]
  },
  {
   "cell_type": "markdown",
   "id": "9045626a",
   "metadata": {},
   "source": [
    "graficamos los puntos y headmap"
   ]
  },
  {
   "cell_type": "code",
   "execution_count": 820,
   "id": "779d429a",
   "metadata": {},
   "outputs": [
    {
     "data": {
      "image/png": "[encoded data removed]",
      "text/plain": [
       "<Figure size 432x288 with 1 Axes>"
      ]
     },
     "metadata": {
      "needs_background": "light"
     },
     "output_type": "display_data"
    }
   ],
   "source": [
    "import seaborn as sns\n",
    "import matplotlib.pyplot as plt\n",
    "\n",
    "# Graficar los puntos\n",
    "plt.scatter(df_main_preprocesado['Anys_Periode'], df_main_preprocesado['Nombre'])\n",
    "plt.xlabel('Anys_Periode')\n",
    "plt.ylabel('Nombre')\n",
    "plt.title('Distribución de los puntos')\n",
    "plt.show()"
   ]
  },
  {
   "cell_type": "markdown",
   "id": "65106cf6",
   "metadata": {},
   "source": [
    "correlacion"
   ]
  },
  {
   "cell_type": "code",
   "execution_count": 821,
   "id": "8d0a0407",
   "metadata": {},
   "outputs": [
    {
     "data": {
      "image/png": "[encoded data removed]",
      "text/plain": [
       "<Figure size 432x288 with 2 Axes>"
      ]
     },
     "metadata": {
      "needs_background": "light"
     },
     "output_type": "display_data"
    }
   ],
   "source": [
    "# Generar un heatmap\n",
    "corr_matrix = df_main_preprocesado.corr()\n",
    "sns.heatmap(corr_matrix, annot=True)\n",
    "plt.title('Heatmap de correlación')\n",
    "plt.show()"
   ]
  },
  {
   "cell_type": "markdown",
   "id": "211faf5f",
   "metadata": {},
   "source": [
    "Preparamos los modelos"
   ]
  },
  {
   "cell_type": "code",
   "execution_count": 822,
   "id": "2e19bea1",
   "metadata": {},
   "outputs": [
    {
     "name": "stdout",
     "output_type": "stream",
     "text": [
      "(817, 3)\n",
      "(205, 3)\n"
     ]
    }
   ],
   "source": [
    "from sklearn.model_selection import train_test_split\n",
    "from sklearn.metrics import r2_score, mean_squared_error, mean_absolute_error\n",
    "\n",
    "#df_housing.columns = df_housing.columns.astype(str)\n",
    "\n",
    "# Separamos los datos en conjuntos de entrenamiento y de prueba\n",
    "X = df_main_preprocesado.drop(['Nombre'], axis=1)\n",
    "y = df_main_preprocesado['Nombre']\n",
    "X_train, X_test, y_train, y_test = train_test_split(X, y, test_size=0.2, random_state=42)\n",
    "print(X_train.shape); print(X_test.shape)"
   ]
  },
  {
   "cell_type": "markdown",
   "id": "169e4d9e",
   "metadata": {},
   "source": [
    "Regresion Lineal"
   ]
  },
  {
   "cell_type": "markdown",
   "id": "a7127f38",
   "metadata": {},
   "source": [
    "Polinomial"
   ]
  },
  {
   "cell_type": "markdown",
   "id": "6502d2e5",
   "metadata": {},
   "source": [
    "Ramdom Forest"
   ]
  },
  {
   "cell_type": "markdown",
   "id": "2a4d1964",
   "metadata": {},
   "source": [
    "Validacion Cruzada"
   ]
  },
  {
   "cell_type": "code",
   "execution_count": null,
   "id": "4a20651e",
   "metadata": {},
   "outputs": [],
   "source": [
    "\n"
   ]
  },
  {
   "cell_type": "markdown",
   "id": "f990a367",
   "metadata": {},
   "source": [
    "**Prediccion **"
   ]
  },
  {
   "cell_type": "markdown",
   "id": "6038c995",
   "metadata": {},
   "source": [
    "Ya sabemos que Random Forest es el modelo que mejor puede predecir nuestros datos ahora vamos utilizar este modelo para obtener los valores"
   ]
  },
  {
   "cell_type": "code",
   "execution_count": 823,
   "id": "96c09472",
   "metadata": {},
   "outputs": [
    {
     "name": "stdout",
     "output_type": "stream",
     "text": [
      "   Anys_Periode  Codi_Districte  Codi_Barri    Nombre\n",
      "0             1        0.000000    0.000000  0.182970\n",
      "1             1        0.000000    0.013889  0.058727\n",
      "2             1        0.000000    0.027778  0.176500\n",
      "3             1        0.000000    0.041667  0.116197\n",
      "4             1        0.111111    0.055556  0.027409\n",
      "..          ...             ...         ...       ...\n",
      "68            1        1.000000    0.944444  0.037697\n",
      "69            1        1.000000    0.958333  0.162727\n",
      "70            1        1.000000    0.972222  0.072152\n",
      "71            1        1.000000    0.986111  0.059303\n",
      "72            1        1.000000    1.000000  0.089485\n",
      "\n",
      "[73 rows x 4 columns]\n"
     ]
    }
   ],
   "source": [
    "import numpy as np\n",
    "import pandas as pd\n",
    "from sklearn.ensemble import RandomForestRegressor\n",
    "\n",
    "df_pred = df_main_preprocesado\n",
    "\n",
    "# Crear el DataFrame df_result vacío\n",
    "df_result = pd.DataFrame(columns=['Anys_Periode', 'Codi_Districte', 'Codi_Barri', 'Nombre'])\n",
    "\n",
    "# Recorrer los distritos y barrios únicos en el dataset\n",
    "distritos_barrios = df_pred[['Codi_Districte', 'Codi_Barri']].drop_duplicates()\n",
    "for _, row in distritos_barrios.iterrows():\n",
    "    codi_districte = row['Codi_Districte']\n",
    "    codi_barri = row['Codi_Barri']\n",
    "    \n",
    "    # Filtrar los datos para el distrito y barrio actual\n",
    "    df_pred_districte_barri = df_pred[(df_pred['Codi_Districte'] == codi_districte) & (df_pred['Codi_Barri'] == codi_barri)]\n",
    "    \n",
    "    # Filtrar los datos para períodos anteriores a '2020-2024'\n",
    "    df_pred_anteriores = df_pred_districte_barri[df_pred_districte_barri['Anys_Periode'] <= 1]\n",
    "    \n",
    "    if len(df_pred_anteriores) > 0:\n",
    "        # Dividir los datos en variables independientes (X_pred) y variable dependiente (y_pred)\n",
    "        X_pred = df_pred_anteriores[['Anys_Periode', 'Codi_Districte', 'Codi_Barri']]\n",
    "        y_pred = df_pred_anteriores['Nombre']\n",
    "        \n",
    "        # Crear y entrenar el modelo de Random Forest con los mejores parámetros\n",
    "        model = RandomForestRegressor(max_depth=None, n_estimators=100)\n",
    "        #model = RandomForestRegressor(max_depth=10, n_estimators=300)\n",
    "        model.fit(X_pred, y_pred)\n",
    "\n",
    "        # Importancias de las características\n",
    "        #importances = model.feature_importances_\n",
    "\n",
    "        #for i, feature in enumerate(X_pred.columns):\n",
    "        #    print(f\"Feature: {feature}, Importance: {importances[i]}\")\n",
    "\n",
    "        \n",
    "        # Realizar la predicción para el período '2020-2024'\n",
    "        X_pred_prediccion = pd.DataFrame({'Anys_Periode': [1], 'Codi_Districte': [codi_districte], 'Codi_Barri': [codi_barri]})\n",
    "        y_pred_prediccion = model.predict(X_pred_prediccion)\n",
    "        \n",
    "        # Agregar los resultados al DataFrame df_result\n",
    "        df_result = pd.concat([df_result, pd.DataFrame({\n",
    "            'Anys_Periode': [1],\n",
    "            'Codi_Districte': codi_districte,\n",
    "            'Codi_Barri': codi_barri,\n",
    "            'Nombre': y_pred_prediccion[0]\n",
    "        })], ignore_index=True)\n",
    "\n",
    "# Imprimir el DataFrame df_result\n",
    "print(df_result)"
   ]
  },
  {
   "cell_type": "markdown",
   "id": "e6469a02",
   "metadata": {},
   "source": [
    "**Desnormalizacion aqui lento**"
   ]
  },
  {
   "cell_type": "code",
   "execution_count": 824,
   "id": "c790cc12",
   "metadata": {},
   "outputs": [],
   "source": [
    "from sklearn.preprocessing import MinMaxScaler\n",
    "import numpy as np\n",
    "\n",
    "# Extraer los Nombres normalizados\n",
    "valores_normalizados_Codi_Districte = df_result['Codi_Districte'].values.reshape(-1, 1)\n",
    "valores_normalizados_Codi_Barri = df_result['Codi_Barri'].values.reshape(-1, 1)\n",
    "valores_normalizados_Nombre = df_result['Nombre'].values.reshape(-1, 1)\n",
    "\n",
    "# Crea una instancia de MinMaxScaler y ajusta la escala con los valores originales\n",
    "scaler = MinMaxScaler()\n",
    "scaler.fit(df[['Codi_Districte', 'Codi_Barri', 'Nombre']])\n",
    "\n",
    "# Combina las columnas normalizadas en un solo arreglo\n",
    "valores_normalizados = np.hstack((valores_normalizados_Codi_Districte, valores_normalizados_Codi_Barri, valores_normalizados_Nombre))\n",
    "\n",
    "# Deshace la normalización utilizando inverse_transform\n",
    "valores_desnormalizados = scaler.inverse_transform(valores_normalizados)\n",
    "\n",
    "# Actualiza las columnas 'Nombre_prediccion', 'Codi_Districte' y 'Codi_Barri' con los valores desnormalizados\n",
    "\n",
    "df_result['Codi_Districte'] = valores_desnormalizados[:, 0]\n",
    "df_result['Codi_Barri'] = valores_desnormalizados[:, 1]\n",
    "df_result['Nombre'] = valores_desnormalizados[:, 2]\n"
   ]
  },
  {
   "cell_type": "markdown",
   "id": "a92287a7",
   "metadata": {},
   "source": [
    "**AQUI ESTA EL ERROR**"
   ]
  },
  {
   "cell_type": "code",
   "execution_count": 825,
   "id": "4eb88505",
   "metadata": {},
   "outputs": [],
   "source": [
    "# Convertir las columnas\n",
    "#df_result['Anys_Periode'] = '2020-2024'\n"
   ]
  },
  {
   "cell_type": "code",
   "execution_count": 826,
   "id": "93f761c1",
   "metadata": {},
   "outputs": [],
   "source": [
    "#df_result['Codi_Districte'] = df_result['Codi_Districte'].astype('int64')\n",
    "#df_result['Codi_Barri'] = df_result['Codi_Barri'].astype('int64')\n"
   ]
  },
  {
   "cell_type": "code",
   "execution_count": 827,
   "id": "22f794e9",
   "metadata": {},
   "outputs": [],
   "source": [
    "#df_result['Nombre'] = df_result['Nombre'].astype('float')"
   ]
  },
  {
   "cell_type": "code",
   "execution_count": 828,
   "id": "89d01205",
   "metadata": {},
   "outputs": [
    {
     "name": "stdout",
     "output_type": "stream",
     "text": [
      "   Anys_Periode  Codi_Districte  Codi_Barri    Nombre\n",
      "0             1        0.000000    0.000000  0.093112\n",
      "1             1        0.000000    0.013889  0.029886\n",
      "2             1        0.000000    0.027778  0.089820\n",
      "3             1        0.000000    0.041667  0.059132\n",
      "4             1        0.111111    0.055556  0.013948\n",
      "..          ...             ...         ...       ...\n",
      "68            1        1.000000    0.944444  0.019184\n",
      "69            1        1.000000    0.958333  0.082811\n",
      "70            1        1.000000    0.972222  0.036717\n",
      "71            1        1.000000    0.986111  0.030179\n",
      "72            1        1.000000    1.000000  0.045538\n",
      "\n",
      "[73 rows x 4 columns]\n"
     ]
    }
   ],
   "source": [
    "print(df_result) \n",
    "df_result.to_csv('df_result.csv', sep=',', index=False)"
   ]
  },
  {
   "cell_type": "code",
   "execution_count": 829,
   "id": "4121f3f1",
   "metadata": {},
   "outputs": [
    {
     "name": "stdout",
     "output_type": "stream",
     "text": [
      "     Anys_Periode  Codi_Districte Nom_Districte  Codi_Barri  \\\n",
      "0       2003-2007             1.0  Ciutat Vella    1.000000   \n",
      "1       2003-2007             1.0  Ciutat Vella    2.000000   \n",
      "2       2003-2007             1.0  Ciutat Vella    3.000000   \n",
      "3       2003-2007             1.0  Ciutat Vella    4.000000   \n",
      "4       2003-2007             2.0      Eixample    5.000000   \n",
      "...           ...             ...           ...         ...   \n",
      "1090            1             1.0           NaN    0.944444   \n",
      "1091            1             1.0           NaN    0.958333   \n",
      "1092            1             1.0           NaN    0.972222   \n",
      "1093            1             1.0           NaN    0.986111   \n",
      "1094            1             1.0           NaN    1.000000   \n",
      "\n",
      "                                  Nom_Barri     Nombre  \n",
      "0                                  el Raval  19.400000  \n",
      "1                            el Barri Gòtic  11.600000  \n",
      "2                            la Barceloneta  11.600000  \n",
      "3     Sant Pere, Santa Caterina i la Ribera  14.600000  \n",
      "4                             el Fort Pienc   4.700000  \n",
      "...                                     ...        ...  \n",
      "1090                                    NaN   0.019184  \n",
      "1091                                    NaN   0.082811  \n",
      "1092                                    NaN   0.036717  \n",
      "1093                                    NaN   0.030179  \n",
      "1094                                    NaN   0.045538  \n",
      "\n",
      "[1095 rows x 6 columns]\n"
     ]
    }
   ],
   "source": [
    "# Unir df_main y df_result utilizando concat\n",
    "df_final = pd.concat([df, df_result], ignore_index=True)\n",
    "#df_final = df.merge(df_result, on=['Anys_Periode', 'Codi_Districte', 'Codi_Barri'], how='left')\n",
    "\n",
    "# Mostrar el DataFrame final\n",
    "print(df_final)"
   ]
  },
  {
   "cell_type": "code",
   "execution_count": 830,
   "id": "f98a34d9",
   "metadata": {},
   "outputs": [],
   "source": [
    "# Obtener los valores únicos de Codi_Districte y Codi_Barri del DataFrame final\n",
    "codi_districte_unique = df['Codi_Districte'].unique()\n",
    "codi_barri_unique = df['Codi_Barri'].unique()\n",
    "\n",
    "# Crear un diccionario para mapear los valores de Codi_Districte y Codi_Barri a Nom_Districte y Nom_Barri\n",
    "mapping_dist = {}\n",
    "for codi_districte in codi_districte_unique:\n",
    "    nom_districte = df.loc[df['Codi_Districte'] == codi_districte, 'Nom_Districte'].iloc[0]\n",
    "    mapping_dist[codi_districte] = nom_districte\n",
    "mapping_barri = {}\n",
    "for codi_barri in codi_barri_unique:\n",
    "    nom_barri = df.loc[df['Codi_Barri'] == codi_barri, 'Nom_Barri'].iloc[0]\n",
    "    mapping_barri[codi_barri] = nom_barri\n",
    "#print (mapping_dist)"
   ]
  },
  {
   "cell_type": "code",
   "execution_count": 831,
   "id": "0879a2ad",
   "metadata": {},
   "outputs": [
    {
     "name": "stdout",
     "output_type": "stream",
     "text": [
      "     Anys_Periode  Codi_Districte Nom_Districte  Codi_Barri  \\\n",
      "0       2003-2007             1.0  Ciutat Vella    1.000000   \n",
      "1       2003-2007             1.0  Ciutat Vella    2.000000   \n",
      "2       2003-2007             1.0  Ciutat Vella    3.000000   \n",
      "3       2003-2007             1.0  Ciutat Vella    4.000000   \n",
      "4       2003-2007             2.0      Eixample    5.000000   \n",
      "...           ...             ...           ...         ...   \n",
      "1090            1             1.0  Ciutat Vella    0.944444   \n",
      "1091            1             1.0  Ciutat Vella    0.958333   \n",
      "1092            1             1.0  Ciutat Vella    0.972222   \n",
      "1093            1             1.0  Ciutat Vella    0.986111   \n",
      "1094            1             1.0  Ciutat Vella    1.000000   \n",
      "\n",
      "                                  Nom_Barri     Nombre  \n",
      "0                                  el Raval  19.400000  \n",
      "1                            el Barri Gòtic  11.600000  \n",
      "2                            la Barceloneta  11.600000  \n",
      "3     Sant Pere, Santa Caterina i la Ribera  14.600000  \n",
      "4                             el Fort Pienc   4.700000  \n",
      "...                                     ...        ...  \n",
      "1090                                    NaN   0.019184  \n",
      "1091                                    NaN   0.082811  \n",
      "1092                                    NaN   0.036717  \n",
      "1093                                    NaN   0.030179  \n",
      "1094                               el Raval   0.045538  \n",
      "\n",
      "[1095 rows x 6 columns]\n"
     ]
    }
   ],
   "source": [
    "# Remplazar los valores de Codi_Districte y Codi_Barri con sus respectivos nombres en el DataFrame final\n",
    "df_final['Nom_Districte'] = df_final['Codi_Districte'].map(mapping_dist)\n",
    "df_final['Nom_Barri'] = df_final['Codi_Barri'].map(mapping_barri)\n",
    "\n",
    "# Mostrar el DataFrame final con los campos Nom_Districte y Nom_Barri llenos\n",
    "print(df_final)\n",
    "df_final.to_csv('df_final.csv', sep=',', index=False)"
   ]
  },
  {
   "cell_type": "markdown",
   "id": "9986a8e7",
   "metadata": {},
   "source": [
    "**Graficamos un solo barrio**"
   ]
  },
  {
   "cell_type": "code",
   "execution_count": 832,
   "id": "846da6c3",
   "metadata": {},
   "outputs": [
    {
     "data": {
      "image/png": "[encoded data removed]",
      "text/plain": [
       "<Figure size 576x432 with 1 Axes>"
      ]
     },
     "metadata": {
      "needs_background": "light"
     },
     "output_type": "display_data"
    }
   ],
   "source": [
    "import matplotlib.pyplot as plt\n",
    "\n",
    "nombre_barri = df_final[df_final['Codi_Barri'] == 8]['Nom_Barri'].iloc[0]\n",
    "\n",
    "\n",
    "# Filtrar los datos para el Nom_Barri \"La marina del prat vermell\"\n",
    "df_barri = df_final[df_final['Codi_Barri'] == 7]\n",
    "\n",
    "#print(df_barri)\n",
    "\n",
    "# Filtrar los datos para la evolución de Nombre por año (Anys_Periode)\n",
    "df_evolucion = df_barri[['Anys_Periode', 'Nombre']]\n",
    "\n",
    "# Ordenar los datos por Anys_Periode\n",
    "df_evolucion = df_evolucion.sort_values('Anys_Periode')\n",
    "\n",
    "# Crear la gráfica de puntos\n",
    "plt.figure(figsize=(8, 6))\n",
    "plt.scatter(df_evolucion['Anys_Periode'], df_evolucion['Nombre'])\n",
    "plt.xlabel('Anys_Periode')\n",
    "plt.ylabel('Nombre')\n",
    "plt.title(f\"Evolución de Nombre en el {nom_barri}\")\n",
    "plt.xticks(rotation=45)\n",
    "plt.grid(True)\n",
    "plt.show()"
   ]
  },
  {
   "cell_type": "code",
   "execution_count": 833,
   "id": "22d8afc1",
   "metadata": {},
   "outputs": [
    {
     "name": "stdout",
     "output_type": "stream",
     "text": [
      "Empty DataFrame\n",
      "Columns: [Anys_Periode, Codi_Districte, Codi_Barri, Nombre]\n",
      "Index: []\n"
     ]
    }
   ],
   "source": [
    "missing_values = df_result[~df_result['Codi_Barri'].isin(df_final['Codi_Barri'])]\n",
    "print(missing_values)"
   ]
  },
  {
   "cell_type": "code",
   "execution_count": null,
   "id": "3b9b0a4c",
   "metadata": {},
   "outputs": [],
   "source": []
  },
  {
   "cell_type": "code",
   "execution_count": null,
   "id": "e3a33dcb",
   "metadata": {},
   "outputs": [],
   "source": []
  }
 ],
 "metadata": {
  "hide_input": false,
  "kernelspec": {
   "display_name": "Python 3 (ipykernel)",
   "language": "python",
   "name": "python3"
  },
  "language_info": {
   "codemirror_mode": {
    "name": "ipython",
    "version": 3
   },
   "file_extension": ".py",
   "mimetype": "text/x-python",
   "name": "python",
   "nbconvert_exporter": "python",
   "pygments_lexer": "ipython3",
   "version": "3.9.12"
  },
  "nbTranslate": {
   "displayLangs": [
    "*"
   ],
   "hotkey": "alt-t",
   "langInMainMenu": true,
   "sourceLang": "en",
   "targetLang": "fr",
   "useGoogleTranslate": true
  },
  "toc": {
   "base_numbering": 1,
   "nav_menu": {},
   "number_sections": true,
   "sideBar": true,
   "skip_h1_title": false,
   "title_cell": "Table of Contents",
   "title_sidebar": "Contents",
   "toc_cell": false,
   "toc_position": {},
   "toc_section_display": true,
   "toc_window_display": false
  },
  "varInspector": {
   "cols": {
    "lenName": 16,
    "lenType": 16,
    "lenVar": 40
   },
   "kernels_config": {
    "python": {
     "delete_cmd_postfix": "",
     "delete_cmd_prefix": "del ",
     "library": "var_list.py",
     "varRefreshCmd": "print(var_dic_list())"
    },
    "r": {
     "delete_cmd_postfix": ") ",
     "delete_cmd_prefix": "rm(",
     "library": "var_list.r",
     "varRefreshCmd": "cat(var_dic_list()) "
    }
   },
   "types_to_exclude": [
    "module",
    "function",
    "builtin_function_or_method",
    "instance",
    "_Feature"
   ],
   "window_display": false
  }
 },
 "nbformat": 4,
 "nbformat_minor": 5
}
