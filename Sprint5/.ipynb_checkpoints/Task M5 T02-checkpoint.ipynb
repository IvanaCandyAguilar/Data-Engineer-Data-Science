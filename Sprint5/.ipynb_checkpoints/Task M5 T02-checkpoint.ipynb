{
 "cells": [
  {
   "cell_type": "markdown",
   "metadata": {
    "application/vnd.databricks.v1+cell": {
     "cellMetadata": {},
     "inputWidgets": {},
     "nuid": "aa9520ed-c94c-4f40-9d39-843249510911",
     "showTitle": false,
     "title": ""
    }
   },
   "source": [
    "# Task M5 T02\n",
    "## Train-Test exercises with Python ScikitLearn"
   ]
  },
  {
   "cell_type": "markdown",
   "metadata": {},
   "source": [
    "Description\n",
    "Train-Test exercises with ScikitLearn from a dataset with information about housing in Houston."
   ]
  },
  {
   "cell_type": "markdown",
   "metadata": {
    "application/vnd.databricks.v1+cell": {
     "cellMetadata": {},
     "inputWidgets": {},
     "nuid": "00a19361-6458-4714-ad0f-119147eda649",
     "showTitle": false,
     "title": ""
    }
   },
   "source": [
    "#### - Exercise 1\n",
    "\n",
    "Start the attached data set in train and test. Study the two sets separately, at a descriptive level.\n",
    "Also attached you will find a description of the different variables of the dataset."
   ]
  },
  {
   "cell_type": "code",
   "execution_count": 43,
   "metadata": {
    "application/vnd.databricks.v1+cell": {
     "cellMetadata": {},
     "inputWidgets": {},
     "nuid": "37053a21-351a-4ce4-93d8-330fae5eaa6f",
     "showTitle": false,
     "title": ""
    }
   },
   "outputs": [
    {
     "name": "stdout",
     "output_type": "stream",
     "text": [
      "   ID     CRIM    ZN  INDUS  CHAS    NOX     RM   AGE     DIS  RAD    TAX  \\\n",
      "0   1  0.00632  18.0   2.31     0  0.538  6.575  65.2  4.0900    1  296.0   \n",
      "1   2  0.02731   0.0   7.07     0  0.469  6.421  78.9  4.9671    2  242.0   \n",
      "2   3  0.02729   0.0   7.07     0  0.469  7.185  61.1  4.9671    2  242.0   \n",
      "3   4  0.03237   0.0   2.18     0  0.458  6.998  45.8  6.0622    3  222.0   \n",
      "4   5  0.06905   0.0   2.18     0  0.458  7.147  54.2  6.0622    3  222.0   \n",
      "\n",
      "   PTRATIO       B  LSTAT  MEDV  \n",
      "0     15.3  396.90   4.98  24.0  \n",
      "1     17.8  396.90   9.14  21.6  \n",
      "2     17.8  392.83   4.03  34.7  \n",
      "3     18.7  394.63   2.94  33.4  \n",
      "4     18.7  396.90   5.33  36.2  \n"
     ]
    }
   ],
   "source": [
    "import pandas as pd\n",
    "\n",
    "col_names = ['CRIM', 'ZN', 'INDUS', 'CHAS', 'NOX', 'RM', 'AGE', 'DIS', 'RAD', 'TAX', 'PTRATIO', 'B', 'LSTAT', 'MEDV']\n",
    "df_main = pd.read_csv('housing data.csv', sep=',', names=col_names, header=None)\n",
    "\n",
    "df_main.insert(0, 'ID', range(1, len(df_main) + 1))\n",
    "\n",
    "print(df_main.head())"
   ]
  },
  {
   "cell_type": "markdown",
   "metadata": {},
   "source": [
    "Data description: "
   ]
  },
  {
   "cell_type": "markdown",
   "metadata": {},
   "source": [
    "1. CRIM  per capita crime rate by town\n",
    "2. ZNproportion of residential land zoned for lots over 25,000 sq.ft.\n",
    "3. INDUS proportion of non-retail business acres per town\n",
    "4. CHAS  Charles River dummy variable (= 1 if tract bounds river; 0 otherwise)\n",
    "5. NOX   nitric oxides concentration (parts per 10 million)\n",
    "6. RMaverage number of rooms per dwelling\n",
    "7. AGE   proportion of owner-occupied units built prior to 1940\n",
    "8. DIS   weighted distances to five Boston employment centres\n",
    "9. RAD   index of accessibility to radial highways\n",
    "10. TAX  full-value property-tax rate per 10,000\n",
    "11. PTRATIO  pupil-teacher ratio by town\n",
    "12. B1000(Bk - 0.63)^2 where Bk is the proportion of blacks by town\n",
    "13. LSTAT% lower status of the population\n",
    "14. MEDV Median value of owner-occupied homes in 1000s"
   ]
  },
  {
   "cell_type": "code",
   "execution_count": 48,
   "metadata": {},
   "outputs": [],
   "source": [
    "import numpy as np\n",
    "from sklearn.model_selection import train_test_split\n",
    "\n",
    "\n",
    "train, test = train_test_split(df_main, test_size=0.33)"
   ]
  },
  {
   "cell_type": "code",
   "execution_count": 56,
   "metadata": {},
   "outputs": [
    {
     "name": "stdout",
     "output_type": "stream",
     "text": [
      "           ID    CRIM      ZN   INDUS    CHAS     NOX      RM     AGE     DIS  \\\n",
      "count  339.00  339.00  339.00  339.00  339.00  339.00  339.00  339.00  339.00   \n",
      "mean   249.28    3.93   11.95   11.28    0.06    0.56    6.29   68.95    3.76   \n",
      "std    145.68    9.41   24.67    6.93    0.25    0.12    0.72   28.45    2.11   \n",
      "min      4.00    0.01    0.00    0.46    0.00    0.38    3.56    2.90    1.13   \n",
      "25%    126.50    0.08    0.00    5.19    0.00    0.45    5.89   44.75    2.09   \n",
      "50%    247.00    0.29    0.00    9.69    0.00    0.54    6.23   79.20    3.22   \n",
      "75%    378.50    3.94   12.50   18.10    0.00    0.63    6.62   94.30    5.11   \n",
      "max    506.00   88.98   95.00   27.74    1.00    0.87    8.78  100.00   12.13   \n",
      "\n",
      "          RAD     TAX  PTRATIO       B   LSTAT    MEDV  \n",
      "count  339.00  339.00   339.00  339.00  339.00  339.00  \n",
      "mean     9.57  410.56    18.46  351.21   12.82   22.40  \n",
      "std      8.80  168.37     2.17   97.66    7.38    9.38  \n",
      "min      1.00  187.00    12.60    0.32    1.73    5.00  \n",
      "25%      4.00  281.00    17.00  372.42    7.02   16.50  \n",
      "50%      5.00  330.00    19.10  391.13   11.45   21.20  \n",
      "75%     24.00  666.00    20.20  395.88   17.12   25.05  \n",
      "max     24.00  711.00    22.00  396.90   37.97   50.00  \n"
     ]
    }
   ],
   "source": [
    "print(train.describe().round(2))"
   ]
  },
  {
   "cell_type": "code",
   "execution_count": 55,
   "metadata": {},
   "outputs": [
    {
     "name": "stdout",
     "output_type": "stream",
     "text": [
      "           ID    CRIM      ZN   INDUS    CHAS     NOX      RM     AGE     DIS  \\\n",
      "count  167.00  167.00  167.00  167.00  167.00  167.00  167.00  167.00  167.00   \n",
      "mean   262.06    2.97   10.18   10.84    0.08    0.55    6.27   67.82    3.87   \n",
      "std    147.36    6.65   20.34    6.73    0.27    0.11    0.67   27.59    2.11   \n",
      "min      1.00    0.01    0.00    1.21    0.00    0.40    4.37    6.00    1.17   \n",
      "25%    134.50    0.08    0.00    5.16    0.00    0.46    5.89   45.35    2.12   \n",
      "50%    264.00    0.22    0.00    9.69    0.00    0.53    6.17   74.80    3.07   \n",
      "75%    385.50    2.58   19.00   18.10    0.00    0.62    6.60   92.55    5.41   \n",
      "max    505.00   51.14  100.00   27.74    1.00    0.87    8.72  100.00   10.59   \n",
      "\n",
      "          RAD     TAX  PTRATIO       B   LSTAT    MEDV  \n",
      "count  167.00  167.00   167.00  167.00  167.00  167.00  \n",
      "mean     9.51  403.53    18.44  367.76   12.32   22.80  \n",
      "std      8.54  169.29     2.17   75.85    6.65    8.84  \n",
      "min      1.00  188.00    13.00    2.52    1.92    5.00  \n",
      "25%      4.00  277.00    17.40  378.34    6.97   17.80  \n",
      "50%      5.00  330.00    19.00  391.71   11.25   21.20  \n",
      "75%     16.00  666.00    20.20  396.90   16.24   25.00  \n",
      "max     24.00  711.00    22.00  396.90   34.41   50.00  \n"
     ]
    }
   ],
   "source": [
    "print(test.describe().round(2))"
   ]
  },
  {
   "cell_type": "markdown",
   "metadata": {
    "application/vnd.databricks.v1+cell": {
     "cellMetadata": {},
     "inputWidgets": {},
     "nuid": "fe4e9eb6-e213-4724-a552-ca93228ba3d5",
     "showTitle": false,
     "title": ""
    }
   },
   "source": [
    "#### - Exercise 2\n",
    "Apply some transformation process (standardize numerical data, create dummy columns, polynomials...)."
   ]
  },
  {
   "cell_type": "code",
   "execution_count": null,
   "metadata": {
    "application/vnd.databricks.v1+cell": {
     "cellMetadata": {},
     "inputWidgets": {},
     "nuid": "ccf392db-5bc2-4a72-a02f-7e9252d2721c",
     "showTitle": false,
     "title": ""
    }
   },
   "outputs": [],
   "source": []
  },
  {
   "cell_type": "markdown",
   "metadata": {
    "application/vnd.databricks.v1+cell": {
     "cellMetadata": {},
     "inputWidgets": {},
     "nuid": "a7355bed-a91e-4c63-9136-51b86f1b3d40",
     "showTitle": false,
     "title": ""
    }
   },
   "source": [
    "#### - Exercise 3\n",
    "It summarizes the newly generated columns statistically and graphically "
   ]
  },
  {
   "cell_type": "code",
   "execution_count": null,
   "metadata": {},
   "outputs": [],
   "source": []
  }
 ],
 "metadata": {
  "application/vnd.databricks.v1+notebook": {
   "dashboards": [],
   "language": "python",
   "notebookMetadata": {
    "pythonIndentUnit": 4
   },
   "notebookName": "Task M2 T01",
   "notebookOrigID": 4067634730807463,
   "widgets": {}
  },
  "hide_input": false,
  "kernelspec": {
   "display_name": "Python 3 (ipykernel)",
   "language": "python",
   "name": "python3"
  },
  "language_info": {
   "codemirror_mode": {
    "name": "ipython",
    "version": 3
   },
   "file_extension": ".py",
   "mimetype": "text/x-python",
   "name": "python",
   "nbconvert_exporter": "python",
   "pygments_lexer": "ipython3",
   "version": "3.9.12"
  },
  "nbTranslate": {
   "displayLangs": [
    "*"
   ],
   "hotkey": "alt-t",
   "langInMainMenu": true,
   "sourceLang": "en",
   "targetLang": "fr",
   "useGoogleTranslate": true
  },
  "toc": {
   "base_numbering": 1,
   "nav_menu": {},
   "number_sections": true,
   "sideBar": true,
   "skip_h1_title": false,
   "title_cell": "Table of Contents",
   "title_sidebar": "Contents",
   "toc_cell": false,
   "toc_position": {},
   "toc_section_display": true,
   "toc_window_display": false
  },
  "varInspector": {
   "cols": {
    "lenName": 16,
    "lenType": 16,
    "lenVar": 40
   },
   "kernels_config": {
    "python": {
     "delete_cmd_postfix": "",
     "delete_cmd_prefix": "del ",
     "library": "var_list.py",
     "varRefreshCmd": "print(var_dic_list())"
    },
    "r": {
     "delete_cmd_postfix": ") ",
     "delete_cmd_prefix": "rm(",
     "library": "var_list.r",
     "varRefreshCmd": "cat(var_dic_list()) "
    }
   },
   "types_to_exclude": [
    "module",
    "function",
    "builtin_function_or_method",
    "instance",
    "_Feature"
   ],
   "window_display": false
  }
 },
 "nbformat": 4,
 "nbformat_minor": 1
}
