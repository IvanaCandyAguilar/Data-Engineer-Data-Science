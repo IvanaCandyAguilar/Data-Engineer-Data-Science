{
 "cells": [
  {
   "cell_type": "markdown",
   "metadata": {
    "application/vnd.databricks.v1+cell": {
     "cellMetadata": {},
     "inputWidgets": {},
     "nuid": "aa9520ed-c94c-4f40-9d39-843249510911",
     "showTitle": false,
     "title": ""
    }
   },
   "source": [
    "# Task M5 T01\n",
    "## Introduction to Hypothesis Testing and Machine Learning"
   ]
  },
  {
   "cell_type": "markdown",
   "metadata": {
    "application/vnd.databricks.v1+cell": {
     "cellMetadata": {},
     "inputWidgets": {},
     "nuid": "37053a21-351a-4ce4-93d8-330fae5eaa6f",
     "showTitle": false,
     "title": ""
    }
   },
   "source": [
    "Description:\n",
    "Hypothesis Testing exercises."
   ]
  },
  {
   "cell_type": "markdown",
   "metadata": {
    "application/vnd.databricks.v1+cell": {
     "cellMetadata": {},
     "inputWidgets": {},
     "nuid": "00a19361-6458-4714-ad0f-119147eda649",
     "showTitle": false,
     "title": ""
    }
   },
   "source": [
    "#### - Exercise 1\n",
    "\n",
    "Download the attached dataset of official UEFA data and select an attribute from the dataset. Calculate the p-value and say whether it rejects the null hypothesis by taking an alpha of 5%."
   ]
  },
  {
   "cell_type": "code",
   "execution_count": 20,
   "metadata": {},
   "outputs": [
    {
     "name": "stdout",
     "output_type": "stream",
     "text": [
      "<class 'pandas.core.frame.DataFrame'>\n",
      "Int64Index: 98 entries, 1 to 98\n",
      "Data columns (total 20 columns):\n",
      " #   Column           Non-Null Count  Dtype  \n",
      "---  ------           --------------  -----  \n",
      " 0   Squad            98 non-null     object \n",
      " 1   Country          98 non-null     object \n",
      " 2   LgRk             98 non-null     int64  \n",
      " 3   MP               98 non-null     int64  \n",
      " 4   W                98 non-null     int64  \n",
      " 5   D                98 non-null     int64  \n",
      " 6   L                98 non-null     int64  \n",
      " 7   GF               98 non-null     int64  \n",
      " 8   GA               98 non-null     int64  \n",
      " 9   GD               98 non-null     int64  \n",
      " 10  Pts              98 non-null     int64  \n",
      " 11  Pts/G            98 non-null     float64\n",
      " 12  xG               98 non-null     float64\n",
      " 13  xGA              98 non-null     float64\n",
      " 14  xGD              98 non-null     float64\n",
      " 15  xGD/90           98 non-null     float64\n",
      " 16  Last 5           98 non-null     object \n",
      " 17  Attendance       98 non-null     int64  \n",
      " 18  Top Team Scorer  98 non-null     object \n",
      " 19  Goalkeeper       98 non-null     object \n",
      "dtypes: float64(5), int64(10), object(5)\n",
      "memory usage: 16.1+ KB\n"
     ]
    },
    {
     "data": {
      "text/html": [
       "<div>\n",
       "<style scoped>\n",
       "    .dataframe tbody tr th:only-of-type {\n",
       "        vertical-align: middle;\n",
       "    }\n",
       "\n",
       "    .dataframe tbody tr th {\n",
       "        vertical-align: top;\n",
       "    }\n",
       "\n",
       "    .dataframe thead th {\n",
       "        text-align: right;\n",
       "    }\n",
       "</style>\n",
       "<table border=\"1\" class=\"dataframe\">\n",
       "  <thead>\n",
       "    <tr style=\"text-align: right;\">\n",
       "      <th></th>\n",
       "      <th>Squad</th>\n",
       "      <th>Country</th>\n",
       "      <th>LgRk</th>\n",
       "      <th>MP</th>\n",
       "      <th>W</th>\n",
       "      <th>D</th>\n",
       "      <th>L</th>\n",
       "      <th>GF</th>\n",
       "      <th>GA</th>\n",
       "      <th>GD</th>\n",
       "      <th>Pts</th>\n",
       "      <th>Pts/G</th>\n",
       "      <th>xG</th>\n",
       "      <th>xGA</th>\n",
       "      <th>xGD</th>\n",
       "      <th>xGD/90</th>\n",
       "      <th>Last 5</th>\n",
       "      <th>Attendance</th>\n",
       "      <th>Top Team Scorer</th>\n",
       "      <th>Goalkeeper</th>\n",
       "    </tr>\n",
       "    <tr>\n",
       "      <th>Rk</th>\n",
       "      <th></th>\n",
       "      <th></th>\n",
       "      <th></th>\n",
       "      <th></th>\n",
       "      <th></th>\n",
       "      <th></th>\n",
       "      <th></th>\n",
       "      <th></th>\n",
       "      <th></th>\n",
       "      <th></th>\n",
       "      <th></th>\n",
       "      <th></th>\n",
       "      <th></th>\n",
       "      <th></th>\n",
       "      <th></th>\n",
       "      <th></th>\n",
       "      <th></th>\n",
       "      <th></th>\n",
       "      <th></th>\n",
       "      <th></th>\n",
       "    </tr>\n",
       "  </thead>\n",
       "  <tbody>\n",
       "    <tr>\n",
       "      <th>1</th>\n",
       "      <td>Manchester City</td>\n",
       "      <td>ENG</td>\n",
       "      <td>1</td>\n",
       "      <td>37</td>\n",
       "      <td>28</td>\n",
       "      <td>6</td>\n",
       "      <td>3</td>\n",
       "      <td>96</td>\n",
       "      <td>24</td>\n",
       "      <td>72</td>\n",
       "      <td>90</td>\n",
       "      <td>2.43</td>\n",
       "      <td>86.1</td>\n",
       "      <td>26.8</td>\n",
       "      <td>59.3</td>\n",
       "      <td>1.60</td>\n",
       "      <td>W W W W D</td>\n",
       "      <td>52739</td>\n",
       "      <td>Kevin De Bruyne - 15</td>\n",
       "      <td>Ederson</td>\n",
       "    </tr>\n",
       "    <tr>\n",
       "      <th>2</th>\n",
       "      <td>Liverpool</td>\n",
       "      <td>ENG</td>\n",
       "      <td>2</td>\n",
       "      <td>36</td>\n",
       "      <td>26</td>\n",
       "      <td>8</td>\n",
       "      <td>2</td>\n",
       "      <td>89</td>\n",
       "      <td>24</td>\n",
       "      <td>65</td>\n",
       "      <td>86</td>\n",
       "      <td>2.39</td>\n",
       "      <td>84.6</td>\n",
       "      <td>33.1</td>\n",
       "      <td>51.4</td>\n",
       "      <td>1.43</td>\n",
       "      <td>W W W D W</td>\n",
       "      <td>53367</td>\n",
       "      <td>Mohamed Salah - 22</td>\n",
       "      <td>Alisson</td>\n",
       "    </tr>\n",
       "    <tr>\n",
       "      <th>3</th>\n",
       "      <td>Real Madrid</td>\n",
       "      <td>ESP</td>\n",
       "      <td>1</td>\n",
       "      <td>37</td>\n",
       "      <td>26</td>\n",
       "      <td>7</td>\n",
       "      <td>4</td>\n",
       "      <td>80</td>\n",
       "      <td>31</td>\n",
       "      <td>49</td>\n",
       "      <td>85</td>\n",
       "      <td>2.30</td>\n",
       "      <td>73.0</td>\n",
       "      <td>45.8</td>\n",
       "      <td>27.2</td>\n",
       "      <td>0.73</td>\n",
       "      <td>W W L W D</td>\n",
       "      <td>40624</td>\n",
       "      <td>Karim Benzema - 27</td>\n",
       "      <td>Thibaut Courtois</td>\n",
       "    </tr>\n",
       "    <tr>\n",
       "      <th>4</th>\n",
       "      <td>Bayern Munich</td>\n",
       "      <td>GER</td>\n",
       "      <td>1</td>\n",
       "      <td>34</td>\n",
       "      <td>24</td>\n",
       "      <td>5</td>\n",
       "      <td>5</td>\n",
       "      <td>97</td>\n",
       "      <td>37</td>\n",
       "      <td>60</td>\n",
       "      <td>77</td>\n",
       "      <td>2.26</td>\n",
       "      <td>88.1</td>\n",
       "      <td>37.1</td>\n",
       "      <td>51.0</td>\n",
       "      <td>1.50</td>\n",
       "      <td>W W L D D</td>\n",
       "      <td>33176</td>\n",
       "      <td>Robert Lewandowski - 35</td>\n",
       "      <td>Manuel Neuer</td>\n",
       "    </tr>\n",
       "    <tr>\n",
       "      <th>5</th>\n",
       "      <td>Paris S-G</td>\n",
       "      <td>FRA</td>\n",
       "      <td>1</td>\n",
       "      <td>37</td>\n",
       "      <td>25</td>\n",
       "      <td>8</td>\n",
       "      <td>4</td>\n",
       "      <td>85</td>\n",
       "      <td>36</td>\n",
       "      <td>49</td>\n",
       "      <td>83</td>\n",
       "      <td>2.24</td>\n",
       "      <td>71.6</td>\n",
       "      <td>38.1</td>\n",
       "      <td>33.4</td>\n",
       "      <td>0.90</td>\n",
       "      <td>W D D D W</td>\n",
       "      <td>41188</td>\n",
       "      <td>Kylian Mbappé - 25</td>\n",
       "      <td>Keylor Navas</td>\n",
       "    </tr>\n",
       "  </tbody>\n",
       "</table>\n",
       "</div>"
      ],
      "text/plain": [
       "              Squad Country  LgRk  MP   W  D  L  GF  GA  GD  Pts  Pts/G    xG  \\\n",
       "Rk                                                                              \n",
       "1   Manchester City     ENG     1  37  28  6  3  96  24  72   90   2.43  86.1   \n",
       "2         Liverpool     ENG     2  36  26  8  2  89  24  65   86   2.39  84.6   \n",
       "3       Real Madrid     ESP     1  37  26  7  4  80  31  49   85   2.30  73.0   \n",
       "4     Bayern Munich     GER     1  34  24  5  5  97  37  60   77   2.26  88.1   \n",
       "5         Paris S-G     FRA     1  37  25  8  4  85  36  49   83   2.24  71.6   \n",
       "\n",
       "     xGA   xGD  xGD/90     Last 5  Attendance          Top Team Scorer  \\\n",
       "Rk                                                                       \n",
       "1   26.8  59.3    1.60  W W W W D       52739     Kevin De Bruyne - 15   \n",
       "2   33.1  51.4    1.43  W W W D W       53367       Mohamed Salah - 22   \n",
       "3   45.8  27.2    0.73  W W L W D       40624       Karim Benzema - 27   \n",
       "4   37.1  51.0    1.50  W W L D D       33176  Robert Lewandowski - 35   \n",
       "5   38.1  33.4    0.90  W D D D W       41188       Kylian Mbappé - 25   \n",
       "\n",
       "          Goalkeeper  \n",
       "Rk                    \n",
       "1            Ederson  \n",
       "2            Alisson  \n",
       "3   Thibaut Courtois  \n",
       "4       Manuel Neuer  \n",
       "5       Keylor Navas  "
      ]
     },
     "execution_count": 20,
     "metadata": {},
     "output_type": "execute_result"
    }
   ],
   "source": [
    "import pandas as pd\n",
    "\n",
    "df_main = pd.read_csv('Lligues europees UEFA.csv', sep=';', encoding = 'ISO-8859-1',index_col=0, engine='python')\n",
    "\n",
    "df_main.info()\n",
    "df_main.head()\n"
   ]
  },
  {
   "cell_type": "markdown",
   "metadata": {},
   "source": [
    "Seleccionamos la variable a estudiar"
   ]
  },
  {
   "cell_type": "code",
   "execution_count": 24,
   "metadata": {},
   "outputs": [
    {
     "data": {
      "text/plain": [
       "count    98.00\n",
       "mean     13.45\n",
       "std       5.75\n",
       "min       3.00\n",
       "25%       9.00\n",
       "50%      13.00\n",
       "75%      17.00\n",
       "max      28.00\n",
       "Name: W, dtype: float64"
      ]
     },
     "execution_count": 24,
     "metadata": {},
     "output_type": "execute_result"
    }
   ],
   "source": [
    "df_main['W'].describe().round(2)"
   ]
  },
  {
   "cell_type": "markdown",
   "metadata": {},
   "source": [
    "Step1.- Select a variable reference."
   ]
  },
  {
   "cell_type": "markdown",
   "metadata": {},
   "source": [
    "Describimos las variables en el data set:\n",
    "\n",
    "- Squad: Name of the team.\n",
    "- Country: Country where the computer is located.\n",
    "- LgRk: The position of the team in the league table.\n",
    "- MP: The number of games played by the team in the league.\n",
    "- W: The number of matches won by the team in the league.\n",
    "- D: The number of games tied by the team in the league.\n",
    "- L: The number of games lost by the team in the league.\n",
    "- GF: The number of goals scored by the team in the league.\n",
    "- GA: The number of goals conceded by the team in the league.\n",
    "- GD: The goal difference of the team in the league (GF - GA).\n",
    "- Pts: The number of points obtained by the team in the league.\n",
    "- Pts/G: The average number of points obtained by the team per game.\n",
    "- xG: The expected value of the goals scored by the team based on the chances created.\n",
    "- xGA: The expected value of the goals conceded by the team based on the opportunities granted.\n",
    "- xGD: The team's expected goal difference based on chances created and conceded (xG - xGA).\n",
    "- xGD/90: The team's expected goal difference per game based on chances created and conceded.\n",
    "- Last 5: The team's performance in its last five games.\n",
    "- Attendance: The average number of attendees at the team's matches.\n",
    "- Top Team Scorer: The player from the team that scored the most goals in the league.\n",
    "- Goalkeeper: The team's starting goalkeeper in the league."
   ]
  },
  {
   "cell_type": "markdown",
   "metadata": {},
   "source": [
    "Definimos las hipotesis a comprobar."
   ]
  },
  {
   "cell_type": "code",
   "execution_count": 5,
   "metadata": {},
   "outputs": [
    {
     "name": "stdout",
     "output_type": "stream",
     "text": [
      "Número total de valores nulos:  0\n",
      "Porcentaje de valores nulos:  0.0 %\n",
      "\n",
      "Resumen de valores nulos por columna:\n",
      " Squad              0\n",
      "Country            0\n",
      "LgRk               0\n",
      "MP                 0\n",
      "W                  0\n",
      "D                  0\n",
      "L                  0\n",
      "GF                 0\n",
      "GA                 0\n",
      "GD                 0\n",
      "Pts                0\n",
      "Pts/G              0\n",
      "xG                 0\n",
      "xGA                0\n",
      "xGD                0\n",
      "xGD/90             0\n",
      "Last 5             0\n",
      "Attendance         0\n",
      "Top Team Scorer    0\n",
      "Goalkeeper         0\n",
      "dtype: int64\n",
      "\n",
      "Resumen de valores no nulos por columna:\n",
      " Squad              98\n",
      "Country            98\n",
      "LgRk               98\n",
      "MP                 98\n",
      "W                  98\n",
      "D                  98\n",
      "L                  98\n",
      "GF                 98\n",
      "GA                 98\n",
      "GD                 98\n",
      "Pts                98\n",
      "Pts/G              98\n",
      "xG                 98\n",
      "xGA                98\n",
      "xGD                98\n",
      "xGD/90             98\n",
      "Last 5             98\n",
      "Attendance         98\n",
      "Top Team Scorer    98\n",
      "Goalkeeper         98\n",
      "dtype: int64\n",
      "\n",
      "Resumen de valores únicos por columna:\n",
      " Squad              98\n",
      "Country             5\n",
      "LgRk               20\n",
      "MP                  3\n",
      "W                  25\n",
      "D                  13\n",
      "L                  24\n",
      "GF                 47\n",
      "GA                 48\n",
      "GD                 61\n",
      "Pts                52\n",
      "Pts/G              61\n",
      "xG                 87\n",
      "xGA                88\n",
      "xGD                91\n",
      "xGD/90             77\n",
      "Last 5             80\n",
      "Attendance         98\n",
      "Top Team Scorer    98\n",
      "Goalkeeper         98\n",
      "dtype: int64\n"
     ]
    }
   ],
   "source": [
    "# contar el número total de valores nulos en el DataFrame\n",
    "total_nulos = df_main.isnull().sum().sum()\n",
    "\n",
    "# calcular el porcentaje de valores nulos en el DataFrame\n",
    "porcentaje_nulos = (total_nulos / (df_main.shape[0] * df_main.shape[1])) * 100\n",
    "\n",
    "# imprimir el número total de valores nulos y el porcentaje de valores nulos\n",
    "print(\"Número total de valores nulos: \", total_nulos)\n",
    "print(\"Porcentaje de valores nulos: \", porcentaje_nulos, \"%\")\n",
    "\n",
    "# obtener un resumen de los valores nulos por columna\n",
    "resumen_nulos = df_main.isnull().sum()\n",
    "print(\"\\nResumen de valores nulos por columna:\\n\", resumen_nulos)\n",
    "\n",
    "# obtener un resumen de los valores no nulos por columna\n",
    "resumen_no_nulos = df_main.notnull().sum()\n",
    "print(\"\\nResumen de valores no nulos por columna:\\n\", resumen_no_nulos)\n",
    "\n",
    "# obtener un resumen de los valores únicos por columna\n",
    "resumen_unicos = df_main.nunique()\n",
    "print(\"\\nResumen de valores únicos por columna:\\n\", resumen_unicos)\n"
   ]
  },
  {
   "cell_type": "markdown",
   "metadata": {},
   "source": [
    "Utilizamos la prueba de hipotesis test t"
   ]
  },
  {
   "cell_type": "code",
   "execution_count": 28,
   "metadata": {},
   "outputs": [
    {
     "name": "stdout",
     "output_type": "stream",
     "text": [
      "El valor p es: 0.22060496484947323\n",
      "The null hypothesis is not rejected\n"
     ]
    }
   ],
   "source": [
    "from scipy.stats import ttest_1samp\n",
    "\n",
    "# Seleccionar la variable de interés (Número de partidos ganados)\n",
    "x = df_main['W']\n",
    "\n",
    "# Planteamiento de la hipótesis nula y alternativa\n",
    "\n",
    "# h0 --> La hipotesis nula planteada seran si el numero de partidos ganados es igual o menor a la media\n",
    "# h1 --> La hipotesis alternativa planteada indica que el numero de partidos ganados son mayores a la media \n",
    "\n",
    "h0_mean = 13\n",
    "h1_mean = 14\n",
    "t_statistic, p_value = ttest_1samp(x, h0_mean, alternative='greater')\n",
    "alpha = 0.05\n",
    "\n",
    "# Imprimir el valor p\n",
    "print(\"El valor p es:\", p_value)\n",
    "\n",
    "if p_value < alpha:\n",
    "    print('The null hypothesis is rejected')\n",
    "else:\n",
    "    print('The null hypothesis is not rejected')"
   ]
  },
  {
   "cell_type": "markdown",
   "metadata": {},
   "source": [
    "Lo que indica que "
   ]
  },
  {
   "cell_type": "markdown",
   "metadata": {
    "application/vnd.databricks.v1+cell": {
     "cellMetadata": {},
     "inputWidgets": {},
     "nuid": "fe4e9eb6-e213-4724-a552-ca93228ba3d5",
     "showTitle": false,
     "title": ""
    }
   },
   "source": [
    "#### - Exercise 2\n",
    "With the same dataset select two other attributes from the dataset. Calculate the p-values and say whether they reject the null hypothesis by taking an alpha of 5%."
   ]
  },
  {
   "cell_type": "code",
   "execution_count": 39,
   "metadata": {
    "application/vnd.databricks.v1+cell": {
     "cellMetadata": {},
     "inputWidgets": {},
     "nuid": "ccf392db-5bc2-4a72-a02f-7e9252d2721c",
     "showTitle": false,
     "title": ""
    }
   },
   "outputs": [
    {
     "name": "stdout",
     "output_type": "stream",
     "text": [
      "The p-value is: 0.1618934617852936\n",
      "The null hypothesis is not rejected\n"
     ]
    }
   ],
   "source": [
    "from scipy import stats\n",
    "import pandas as pd\n",
    "\n",
    "# Select the two attributes to compare\n",
    "x = df_main['LgRk'] # position of the team in the league table\n",
    "y = df_main['D'] # number of games tied by the team in the league\n",
    "alpha = 0.05\n",
    "\n",
    "# Calculate the p-value\n",
    "t_statistic, p_value = stats.ttest_ind(x, y)\n",
    "\n",
    "# Print the p-value\n",
    "print(\"The p-value is:\", p_value)\n",
    "\n",
    "# Test whether the null hypothesis is rejected at alpha=0.05\n",
    "if p_value < alpha:\n",
    "    print(\"The null hypothesis is rejected\")\n",
    "else:\n",
    "    print(\"The null hypothesis is not rejected\")\n"
   ]
  },
  {
   "cell_type": "markdown",
   "metadata": {
    "application/vnd.databricks.v1+cell": {
     "cellMetadata": {},
     "inputWidgets": {},
     "nuid": "a7355bed-a91e-4c63-9136-51b86f1b3d40",
     "showTitle": false,
     "title": ""
    }
   },
   "source": [
    "#### - Exercise 3\n",
    "Continue with the attached dataset and select three attributes from the dataset. Calculate the p-value and say whether it rejects the null hypothesis by taking an alpha of 5%. "
   ]
  },
  {
   "cell_type": "code",
   "execution_count": 41,
   "metadata": {
    "application/vnd.databricks.v1+cell": {
     "cellMetadata": {},
     "inputWidgets": {},
     "nuid": "849e6a5f-3a0d-4433-9681-5fef9caac45d",
     "showTitle": false,
     "title": ""
    }
   },
   "outputs": [
    {
     "name": "stdout",
     "output_type": "stream",
     "text": [
      "The p-value is: 4.1114170239876985e-59\n",
      "The null hypothesis is rejected\n"
     ]
    }
   ],
   "source": [
    "from scipy import stats\n",
    "import pandas as pd\n",
    "\n",
    "# Select the three attributes to compare\n",
    "x = df_main['GF'] # Full Time Home Goals\n",
    "y = df_main['GA'] # Full Time Away Goals\n",
    "z = df_main['GD'] # Home Team Shots\n",
    "alpha = 0.05\n",
    "\n",
    "# Calculate the p-value\n",
    "f_statistic, p_value = stats.f_oneway(x, y, z)\n",
    "\n",
    "# Print the p-value\n",
    "print(\"The p-value is:\", p_value)\n",
    "\n",
    "# Test whether the null hypothesis is rejected at alpha=0.05\n",
    "if p_value < alpha:\n",
    "    print(\"The null hypothesis is rejected\")\n",
    "else:\n",
    "    print(\"The null hypothesis is not rejected\")\n"
   ]
  },
  {
   "cell_type": "code",
   "execution_count": null,
   "metadata": {},
   "outputs": [],
   "source": []
  }
 ],
 "metadata": {
  "application/vnd.databricks.v1+notebook": {
   "dashboards": [],
   "language": "python",
   "notebookMetadata": {
    "pythonIndentUnit": 4
   },
   "notebookName": "Task M2 T01",
   "notebookOrigID": 4067634730807463,
   "widgets": {}
  },
  "hide_input": false,
  "kernelspec": {
   "display_name": "Python 3 (ipykernel)",
   "language": "python",
   "name": "python3"
  },
  "language_info": {
   "codemirror_mode": {
    "name": "ipython",
    "version": 3
   },
   "file_extension": ".py",
   "mimetype": "text/x-python",
   "name": "python",
   "nbconvert_exporter": "python",
   "pygments_lexer": "ipython3",
   "version": "3.9.12"
  },
  "nbTranslate": {
   "displayLangs": [
    "*"
   ],
   "hotkey": "alt-t",
   "langInMainMenu": true,
   "sourceLang": "en",
   "targetLang": "fr",
   "useGoogleTranslate": true
  },
  "toc": {
   "base_numbering": 1,
   "nav_menu": {},
   "number_sections": true,
   "sideBar": true,
   "skip_h1_title": false,
   "title_cell": "Table of Contents",
   "title_sidebar": "Contents",
   "toc_cell": false,
   "toc_position": {},
   "toc_section_display": true,
   "toc_window_display": false
  },
  "varInspector": {
   "cols": {
    "lenName": 16,
    "lenType": 16,
    "lenVar": 40
   },
   "kernels_config": {
    "python": {
     "delete_cmd_postfix": "",
     "delete_cmd_prefix": "del ",
     "library": "var_list.py",
     "varRefreshCmd": "print(var_dic_list())"
    },
    "r": {
     "delete_cmd_postfix": ") ",
     "delete_cmd_prefix": "rm(",
     "library": "var_list.r",
     "varRefreshCmd": "cat(var_dic_list()) "
    }
   },
   "types_to_exclude": [
    "module",
    "function",
    "builtin_function_or_method",
    "instance",
    "_Feature"
   ],
   "window_display": false
  }
 },
 "nbformat": 4,
 "nbformat_minor": 1
}
