{
 "cells": [
  {
   "cell_type": "markdown",
   "metadata": {
    "application/vnd.databricks.v1+cell": {
     "cellMetadata": {},
     "inputWidgets": {},
     "nuid": "aa9520ed-c94c-4f40-9d39-843249510911",
     "showTitle": false,
     "title": ""
    }
   },
   "source": [
    "# Task S4 T01\n",
    "## Graphical visualization of data"
   ]
  },
  {
   "cell_type": "markdown",
   "metadata": {
    "application/vnd.databricks.v1+cell": {
     "cellMetadata": {},
     "inputWidgets": {},
     "nuid": "00a19361-6458-4714-ad0f-119147eda649",
     "showTitle": false,
     "title": ""
    }
   },
   "source": [
    "#### - Exercise 1\n",
    "\n",
    "Download the attached dataset rent price by quarter and neighborhood.csv extracted from the OpenDataBCN website and summarize it statistically and graphically."
   ]
  },
  {
   "cell_type": "code",
   "execution_count": 2,
   "metadata": {},
   "outputs": [
    {
     "data": {
      "text/html": [
       "<div>\n",
       "<style scoped>\n",
       "    .dataframe tbody tr th:only-of-type {\n",
       "        vertical-align: middle;\n",
       "    }\n",
       "\n",
       "    .dataframe tbody tr th {\n",
       "        vertical-align: top;\n",
       "    }\n",
       "\n",
       "    .dataframe thead th {\n",
       "        text-align: right;\n",
       "    }\n",
       "</style>\n",
       "<table border=\"1\" class=\"dataframe\">\n",
       "  <thead>\n",
       "    <tr style=\"text-align: right;\">\n",
       "      <th></th>\n",
       "      <th>Any</th>\n",
       "      <th>Trimestre</th>\n",
       "      <th>Codi_Districte</th>\n",
       "      <th>Nom_Districte</th>\n",
       "      <th>Codi_Barri</th>\n",
       "      <th>Nom_Barri</th>\n",
       "      <th>Lloguer_mitja</th>\n",
       "      <th>Preu</th>\n",
       "    </tr>\n",
       "  </thead>\n",
       "  <tbody>\n",
       "    <tr>\n",
       "      <th>0</th>\n",
       "      <td>2021</td>\n",
       "      <td>1</td>\n",
       "      <td>1</td>\n",
       "      <td>Ciutat Vella</td>\n",
       "      <td>1</td>\n",
       "      <td>el Raval</td>\n",
       "      <td>Lloguer mitjà mensual (Euros/mes)</td>\n",
       "      <td>759.2</td>\n",
       "    </tr>\n",
       "    <tr>\n",
       "      <th>1</th>\n",
       "      <td>2021</td>\n",
       "      <td>1</td>\n",
       "      <td>1</td>\n",
       "      <td>Ciutat Vella</td>\n",
       "      <td>2</td>\n",
       "      <td>el Barri Gòtic</td>\n",
       "      <td>Lloguer mitjà mensual (Euros/mes)</td>\n",
       "      <td>929.6</td>\n",
       "    </tr>\n",
       "    <tr>\n",
       "      <th>2</th>\n",
       "      <td>2021</td>\n",
       "      <td>1</td>\n",
       "      <td>1</td>\n",
       "      <td>Ciutat Vella</td>\n",
       "      <td>3</td>\n",
       "      <td>la Barceloneta</td>\n",
       "      <td>Lloguer mitjà mensual (Euros/mes)</td>\n",
       "      <td>808.9</td>\n",
       "    </tr>\n",
       "    <tr>\n",
       "      <th>3</th>\n",
       "      <td>2021</td>\n",
       "      <td>1</td>\n",
       "      <td>1</td>\n",
       "      <td>Ciutat Vella</td>\n",
       "      <td>4</td>\n",
       "      <td>Sant Pere, Santa Caterina i la Ribera</td>\n",
       "      <td>Lloguer mitjà mensual (Euros/mes)</td>\n",
       "      <td>879.4</td>\n",
       "    </tr>\n",
       "    <tr>\n",
       "      <th>4</th>\n",
       "      <td>2021</td>\n",
       "      <td>1</td>\n",
       "      <td>2</td>\n",
       "      <td>Eixample</td>\n",
       "      <td>5</td>\n",
       "      <td>el Fort Pienc</td>\n",
       "      <td>Lloguer mitjà mensual (Euros/mes)</td>\n",
       "      <td>918.0</td>\n",
       "    </tr>\n",
       "    <tr>\n",
       "      <th>5</th>\n",
       "      <td>2021</td>\n",
       "      <td>1</td>\n",
       "      <td>2</td>\n",
       "      <td>Eixample</td>\n",
       "      <td>6</td>\n",
       "      <td>la Sagrada Família</td>\n",
       "      <td>Lloguer mitjà mensual (Euros/mes)</td>\n",
       "      <td>887.1</td>\n",
       "    </tr>\n",
       "    <tr>\n",
       "      <th>6</th>\n",
       "      <td>2021</td>\n",
       "      <td>1</td>\n",
       "      <td>2</td>\n",
       "      <td>Eixample</td>\n",
       "      <td>7</td>\n",
       "      <td>la Dreta de l'Eixample</td>\n",
       "      <td>Lloguer mitjà mensual (Euros/mes)</td>\n",
       "      <td>1176.7</td>\n",
       "    </tr>\n",
       "    <tr>\n",
       "      <th>7</th>\n",
       "      <td>2021</td>\n",
       "      <td>1</td>\n",
       "      <td>2</td>\n",
       "      <td>Eixample</td>\n",
       "      <td>8</td>\n",
       "      <td>l'Antiga Esquerra de l'Eixample</td>\n",
       "      <td>Lloguer mitjà mensual (Euros/mes)</td>\n",
       "      <td>1040.2</td>\n",
       "    </tr>\n",
       "    <tr>\n",
       "      <th>8</th>\n",
       "      <td>2021</td>\n",
       "      <td>1</td>\n",
       "      <td>2</td>\n",
       "      <td>Eixample</td>\n",
       "      <td>9</td>\n",
       "      <td>la Nova Esquerra de l'Eixample</td>\n",
       "      <td>Lloguer mitjà mensual (Euros/mes)</td>\n",
       "      <td>964.0</td>\n",
       "    </tr>\n",
       "    <tr>\n",
       "      <th>9</th>\n",
       "      <td>2021</td>\n",
       "      <td>1</td>\n",
       "      <td>2</td>\n",
       "      <td>Eixample</td>\n",
       "      <td>10</td>\n",
       "      <td>Sant Antoni</td>\n",
       "      <td>Lloguer mitjà mensual (Euros/mes)</td>\n",
       "      <td>898.7</td>\n",
       "    </tr>\n",
       "  </tbody>\n",
       "</table>\n",
       "</div>"
      ],
      "text/plain": [
       "    Any  Trimestre  Codi_Districte Nom_Districte  Codi_Barri  \\\n",
       "0  2021          1               1  Ciutat Vella           1   \n",
       "1  2021          1               1  Ciutat Vella           2   \n",
       "2  2021          1               1  Ciutat Vella           3   \n",
       "3  2021          1               1  Ciutat Vella           4   \n",
       "4  2021          1               2      Eixample           5   \n",
       "5  2021          1               2      Eixample           6   \n",
       "6  2021          1               2      Eixample           7   \n",
       "7  2021          1               2      Eixample           8   \n",
       "8  2021          1               2      Eixample           9   \n",
       "9  2021          1               2      Eixample          10   \n",
       "\n",
       "                               Nom_Barri                      Lloguer_mitja  \\\n",
       "0                               el Raval  Lloguer mitjà mensual (Euros/mes)   \n",
       "1                         el Barri Gòtic  Lloguer mitjà mensual (Euros/mes)   \n",
       "2                         la Barceloneta  Lloguer mitjà mensual (Euros/mes)   \n",
       "3  Sant Pere, Santa Caterina i la Ribera  Lloguer mitjà mensual (Euros/mes)   \n",
       "4                          el Fort Pienc  Lloguer mitjà mensual (Euros/mes)   \n",
       "5                     la Sagrada Família  Lloguer mitjà mensual (Euros/mes)   \n",
       "6                 la Dreta de l'Eixample  Lloguer mitjà mensual (Euros/mes)   \n",
       "7        l'Antiga Esquerra de l'Eixample  Lloguer mitjà mensual (Euros/mes)   \n",
       "8         la Nova Esquerra de l'Eixample  Lloguer mitjà mensual (Euros/mes)   \n",
       "9                            Sant Antoni  Lloguer mitjà mensual (Euros/mes)   \n",
       "\n",
       "     Preu  \n",
       "0   759.2  \n",
       "1   929.6  \n",
       "2   808.9  \n",
       "3   879.4  \n",
       "4   918.0  \n",
       "5   887.1  \n",
       "6  1176.7  \n",
       "7  1040.2  \n",
       "8   964.0  \n",
       "9   898.7  "
      ]
     },
     "execution_count": 2,
     "metadata": {},
     "output_type": "execute_result"
    }
   ],
   "source": [
    "import pandas as pd\n",
    "import matplotlib.pyplot as plt\n",
    "\n",
    "df_main = pd.read_csv('preu lloguer per trimestre i barri.csv')\n",
    "df_main.head(10)"
   ]
  },
  {
   "cell_type": "code",
   "execution_count": 3,
   "metadata": {},
   "outputs": [
    {
     "name": "stdout",
     "output_type": "stream",
     "text": [
      "<class 'pandas.core.frame.DataFrame'>\n",
      "RangeIndex: 584 entries, 0 to 583\n",
      "Data columns (total 8 columns):\n",
      " #   Column          Non-Null Count  Dtype \n",
      "---  ------          --------------  ----- \n",
      " 0   Any             584 non-null    int64 \n",
      " 1   Trimestre       584 non-null    int64 \n",
      " 2   Codi_Districte  584 non-null    int64 \n",
      " 3   Nom_Districte   584 non-null    object\n",
      " 4   Codi_Barri      584 non-null    int64 \n",
      " 5   Nom_Barri       584 non-null    object\n",
      " 6   Lloguer_mitja   584 non-null    object\n",
      " 7   Preu            584 non-null    object\n",
      "dtypes: int64(4), object(4)\n",
      "memory usage: 36.6+ KB\n"
     ]
    }
   ],
   "source": [
    "df_main.info()"
   ]
  },
  {
   "cell_type": "markdown",
   "metadata": {},
   "source": [
    "Necesitamos que el Precio sea float. Primero limpiamos los datos que contienen '--'"
   ]
  },
  {
   "cell_type": "code",
   "execution_count": 4,
   "metadata": {},
   "outputs": [],
   "source": [
    "for x in df_main.index:\n",
    "    if (df_main.loc[x, \"Preu\"] == \"--\"):\n",
    "        df_main.drop(x, inplace=True)"
   ]
  },
  {
   "cell_type": "markdown",
   "metadata": {},
   "source": [
    "Cambiamos los tipos a los correctos, Precio a tipo float y los demas a tipo string"
   ]
  },
  {
   "cell_type": "code",
   "execution_count": 5,
   "metadata": {},
   "outputs": [],
   "source": [
    "df_main['Preu']= df_main['Preu'].astype('float')\n",
    "df_main['Nom_Districte'] = df_main['Nom_Districte'].astype('string')\n",
    "df_main['Nom_Barri'] = df_main['Nom_Barri'].astype('string')\n",
    "df_main['Lloguer_mitja'] = df_main['Lloguer_mitja'].astype('string')"
   ]
  },
  {
   "cell_type": "code",
   "execution_count": 6,
   "metadata": {},
   "outputs": [
    {
     "name": "stdout",
     "output_type": "stream",
     "text": [
      "<class 'pandas.core.frame.DataFrame'>\n",
      "Int64Index: 540 entries, 0 to 583\n",
      "Data columns (total 8 columns):\n",
      " #   Column          Non-Null Count  Dtype  \n",
      "---  ------          --------------  -----  \n",
      " 0   Any             540 non-null    int64  \n",
      " 1   Trimestre       540 non-null    int64  \n",
      " 2   Codi_Districte  540 non-null    int64  \n",
      " 3   Nom_Districte   540 non-null    string \n",
      " 4   Codi_Barri      540 non-null    int64  \n",
      " 5   Nom_Barri       540 non-null    string \n",
      " 6   Lloguer_mitja   540 non-null    string \n",
      " 7   Preu            540 non-null    float64\n",
      "dtypes: float64(1), int64(4), string(3)\n",
      "memory usage: 54.1 KB\n"
     ]
    }
   ],
   "source": [
    "df_main.info()"
   ]
  },
  {
   "cell_type": "markdown",
   "metadata": {},
   "source": [
    "Filtramos por Precio Euros/mes y Euros/m2 mes"
   ]
  },
  {
   "cell_type": "code",
   "execution_count": 7,
   "metadata": {},
   "outputs": [
    {
     "name": "stdout",
     "output_type": "stream",
     "text": [
      "     Codi_Districte Nom_Districte                      Lloguer_mitja    Preu\n",
      "0                 1  Ciutat Vella  Lloguer mitjà mensual (Euros/mes)   759.2\n",
      "1                 1  Ciutat Vella  Lloguer mitjà mensual (Euros/mes)   929.6\n",
      "2                 1  Ciutat Vella  Lloguer mitjà mensual (Euros/mes)   808.9\n",
      "3                 1  Ciutat Vella  Lloguer mitjà mensual (Euros/mes)   879.4\n",
      "4                 2      Eixample  Lloguer mitjà mensual (Euros/mes)   918.0\n",
      "..              ...           ...                                ...     ...\n",
      "506              10    Sant Martí  Lloguer mitjà mensual (Euros/mes)  1205.3\n",
      "507              10    Sant Martí  Lloguer mitjà mensual (Euros/mes)   700.5\n",
      "508              10    Sant Martí  Lloguer mitjà mensual (Euros/mes)   977.8\n",
      "509              10    Sant Martí  Lloguer mitjà mensual (Euros/mes)   826.2\n",
      "510              10    Sant Martí  Lloguer mitjà mensual (Euros/mes)   752.0\n",
      "\n",
      "[270 rows x 4 columns]\n",
      "<class 'pandas.core.frame.DataFrame'>\n",
      "Int64Index: 270 entries, 0 to 510\n",
      "Data columns (total 4 columns):\n",
      " #   Column          Non-Null Count  Dtype  \n",
      "---  ------          --------------  -----  \n",
      " 0   Codi_Districte  270 non-null    int64  \n",
      " 1   Nom_Districte   270 non-null    string \n",
      " 2   Lloguer_mitja   270 non-null    string \n",
      " 3   Preu            270 non-null    float64\n",
      "dtypes: float64(1), int64(1), string(2)\n",
      "memory usage: 10.5 KB\n"
     ]
    }
   ],
   "source": [
    "df_rent_E_m = pd.DataFrame(data=df_main, columns=[\"Codi_Districte\",\"Nom_Districte\",\"Lloguer_mitja\",\"Preu\"])\n",
    "df_rent_E_m = df_rent_E_m[df_rent_E_m[\"Lloguer_mitja\"]==\"Lloguer mitjà mensual (Euros/mes)\"]\n",
    "print(df_rent_E_m)\n",
    "df_rent_E_m.info()"
   ]
  },
  {
   "cell_type": "code",
   "execution_count": 8,
   "metadata": {},
   "outputs": [
    {
     "name": "stdout",
     "output_type": "stream",
     "text": [
      "     Codi_Districte Nom_Districte  \\\n",
      "73                1  Ciutat Vella   \n",
      "74                1  Ciutat Vella   \n",
      "75                1  Ciutat Vella   \n",
      "76                1  Ciutat Vella   \n",
      "77                2      Eixample   \n",
      "..              ...           ...   \n",
      "579              10    Sant Martí   \n",
      "580              10    Sant Martí   \n",
      "581              10    Sant Martí   \n",
      "582              10    Sant Martí   \n",
      "583              10    Sant Martí   \n",
      "\n",
      "                                   Lloguer_mitja  Preu  \n",
      "73   Lloguer mitjà per superfície (Euros/m2 mes)  12.8  \n",
      "74   Lloguer mitjà per superfície (Euros/m2 mes)  12.3  \n",
      "75   Lloguer mitjà per superfície (Euros/m2 mes)  15.5  \n",
      "76   Lloguer mitjà per superfície (Euros/m2 mes)  13.3  \n",
      "77   Lloguer mitjà per superfície (Euros/m2 mes)  12.9  \n",
      "..                                           ...   ...  \n",
      "579  Lloguer mitjà per superfície (Euros/m2 mes)  15.2  \n",
      "580  Lloguer mitjà per superfície (Euros/m2 mes)  10.8  \n",
      "581  Lloguer mitjà per superfície (Euros/m2 mes)  13.8  \n",
      "582  Lloguer mitjà per superfície (Euros/m2 mes)  11.7  \n",
      "583  Lloguer mitjà per superfície (Euros/m2 mes)  11.3  \n",
      "\n",
      "[270 rows x 4 columns]\n",
      "<class 'pandas.core.frame.DataFrame'>\n",
      "Int64Index: 270 entries, 73 to 583\n",
      "Data columns (total 4 columns):\n",
      " #   Column          Non-Null Count  Dtype  \n",
      "---  ------          --------------  -----  \n",
      " 0   Codi_Districte  270 non-null    int64  \n",
      " 1   Nom_Districte   270 non-null    string \n",
      " 2   Lloguer_mitja   270 non-null    string \n",
      " 3   Preu            270 non-null    float64\n",
      "dtypes: float64(1), int64(1), string(2)\n",
      "memory usage: 10.5 KB\n"
     ]
    }
   ],
   "source": [
    "df_rent_E_m_m = pd.DataFrame(data=df_main, columns=[\"Codi_Districte\",\"Nom_Districte\",\"Lloguer_mitja\",\"Preu\"])\n",
    "df_rent_E_m_m = df_rent_E_m_m[df_rent_E_m_m[\"Lloguer_mitja\"]==\"Lloguer mitjà per superfície (Euros/m2 mes)\"]\n",
    "print(df_rent_E_m_m)\n",
    "df_rent_E_m_m.info()"
   ]
  },
  {
   "cell_type": "code",
   "execution_count": 25,
   "metadata": {},
   "outputs": [
    {
     "data": {
      "text/html": [
       "<div>\n",
       "<style scoped>\n",
       "    .dataframe tbody tr th:only-of-type {\n",
       "        vertical-align: middle;\n",
       "    }\n",
       "\n",
       "    .dataframe tbody tr th {\n",
       "        vertical-align: top;\n",
       "    }\n",
       "\n",
       "    .dataframe thead th {\n",
       "        text-align: right;\n",
       "    }\n",
       "</style>\n",
       "<table border=\"1\" class=\"dataframe\">\n",
       "  <thead>\n",
       "    <tr style=\"text-align: right;\">\n",
       "      <th></th>\n",
       "      <th>Nom_Districte</th>\n",
       "      <th>Preu</th>\n",
       "    </tr>\n",
       "  </thead>\n",
       "  <tbody>\n",
       "    <tr>\n",
       "      <th>0</th>\n",
       "      <td>Ciutat Vella</td>\n",
       "      <td>436.350000</td>\n",
       "    </tr>\n",
       "    <tr>\n",
       "      <th>1</th>\n",
       "      <td>Eixample</td>\n",
       "      <td>506.922917</td>\n",
       "    </tr>\n",
       "    <tr>\n",
       "      <th>2</th>\n",
       "      <td>Gràcia</td>\n",
       "      <td>445.322500</td>\n",
       "    </tr>\n",
       "    <tr>\n",
       "      <th>3</th>\n",
       "      <td>Horta-Guinardó</td>\n",
       "      <td>388.497500</td>\n",
       "    </tr>\n",
       "    <tr>\n",
       "      <th>4</th>\n",
       "      <td>Les Corts</td>\n",
       "      <td>614.037500</td>\n",
       "    </tr>\n",
       "    <tr>\n",
       "      <th>5</th>\n",
       "      <td>Nou Barris</td>\n",
       "      <td>337.607500</td>\n",
       "    </tr>\n",
       "    <tr>\n",
       "      <th>6</th>\n",
       "      <td>Sant Andreu</td>\n",
       "      <td>366.175000</td>\n",
       "    </tr>\n",
       "    <tr>\n",
       "      <th>7</th>\n",
       "      <td>Sant Martí</td>\n",
       "      <td>464.945000</td>\n",
       "    </tr>\n",
       "    <tr>\n",
       "      <th>8</th>\n",
       "      <td>Sants-Montjuïc</td>\n",
       "      <td>405.805357</td>\n",
       "    </tr>\n",
       "    <tr>\n",
       "      <th>9</th>\n",
       "      <td>Sarrià-Sant Gervasi</td>\n",
       "      <td>643.112500</td>\n",
       "    </tr>\n",
       "  </tbody>\n",
       "</table>\n",
       "</div>"
      ],
      "text/plain": [
       "         Nom_Districte        Preu\n",
       "0         Ciutat Vella  436.350000\n",
       "1             Eixample  506.922917\n",
       "2               Gràcia  445.322500\n",
       "3       Horta-Guinardó  388.497500\n",
       "4            Les Corts  614.037500\n",
       "5           Nou Barris  337.607500\n",
       "6          Sant Andreu  366.175000\n",
       "7           Sant Martí  464.945000\n",
       "8       Sants-Montjuïc  405.805357\n",
       "9  Sarrià-Sant Gervasi  643.112500"
      ]
     },
     "metadata": {},
     "output_type": "display_data"
    },
    {
     "data": {
      "text/plain": [
       "<AxesSubplot:xlabel='Nom_Districte'>"
      ]
     },
     "execution_count": 25,
     "metadata": {},
     "output_type": "execute_result"
    },
    {
     "data": {
      "image/png": "[encoded data removed]",
      "text/plain": [
       "<Figure size 432x288 with 1 Axes>"
      ]
     },
     "metadata": {
      "needs_background": "light"
     },
     "output_type": "display_data"
    }
   ],
   "source": []
  },
  {
   "cell_type": "markdown",
   "metadata": {
    "application/vnd.databricks.v1+cell": {
     "cellMetadata": {},
     "inputWidgets": {},
     "nuid": "37053a21-351a-4ce4-93d8-330fae5eaa6f",
     "showTitle": false,
     "title": ""
    }
   },
   "source": [
    "Create at least one view for:\n",
    "\n",
    "- A categorical variable (District or Neighborhood)"
   ]
  },
  {
   "cell_type": "code",
   "execution_count": null,
   "metadata": {},
   "outputs": [],
   "source": []
  },
  {
   "cell_type": "markdown",
   "metadata": {},
   "source": [
    "- A numeric variable (Price)\n"
   ]
  },
  {
   "cell_type": "code",
   "execution_count": null,
   "metadata": {},
   "outputs": [],
   "source": []
  },
  {
   "cell_type": "markdown",
   "metadata": {},
   "source": [
    "- A numerical variable and a categorical one (District and Price)"
   ]
  },
  {
   "cell_type": "markdown",
   "metadata": {},
   "source": [
    "Alquiler precio Euros/mes"
   ]
  },
  {
   "cell_type": "code",
   "execution_count": 26,
   "metadata": {},
   "outputs": [
    {
     "data": {
      "text/html": [
       "<div>\n",
       "<style scoped>\n",
       "    .dataframe tbody tr th:only-of-type {\n",
       "        vertical-align: middle;\n",
       "    }\n",
       "\n",
       "    .dataframe tbody tr th {\n",
       "        vertical-align: top;\n",
       "    }\n",
       "\n",
       "    .dataframe thead th {\n",
       "        text-align: right;\n",
       "    }\n",
       "</style>\n",
       "<table border=\"1\" class=\"dataframe\">\n",
       "  <thead>\n",
       "    <tr style=\"text-align: right;\">\n",
       "      <th></th>\n",
       "      <th>Nom_Districte</th>\n",
       "      <th>Preu</th>\n",
       "    </tr>\n",
       "  </thead>\n",
       "  <tbody>\n",
       "    <tr>\n",
       "      <th>0</th>\n",
       "      <td>Ciutat Vella</td>\n",
       "      <td>436.350000</td>\n",
       "    </tr>\n",
       "    <tr>\n",
       "      <th>1</th>\n",
       "      <td>Eixample</td>\n",
       "      <td>506.922917</td>\n",
       "    </tr>\n",
       "    <tr>\n",
       "      <th>2</th>\n",
       "      <td>Gràcia</td>\n",
       "      <td>445.322500</td>\n",
       "    </tr>\n",
       "    <tr>\n",
       "      <th>3</th>\n",
       "      <td>Horta-Guinardó</td>\n",
       "      <td>388.497500</td>\n",
       "    </tr>\n",
       "    <tr>\n",
       "      <th>4</th>\n",
       "      <td>Les Corts</td>\n",
       "      <td>614.037500</td>\n",
       "    </tr>\n",
       "    <tr>\n",
       "      <th>5</th>\n",
       "      <td>Nou Barris</td>\n",
       "      <td>337.607500</td>\n",
       "    </tr>\n",
       "    <tr>\n",
       "      <th>6</th>\n",
       "      <td>Sant Andreu</td>\n",
       "      <td>366.175000</td>\n",
       "    </tr>\n",
       "    <tr>\n",
       "      <th>7</th>\n",
       "      <td>Sant Martí</td>\n",
       "      <td>464.945000</td>\n",
       "    </tr>\n",
       "    <tr>\n",
       "      <th>8</th>\n",
       "      <td>Sants-Montjuïc</td>\n",
       "      <td>405.805357</td>\n",
       "    </tr>\n",
       "    <tr>\n",
       "      <th>9</th>\n",
       "      <td>Sarrià-Sant Gervasi</td>\n",
       "      <td>643.112500</td>\n",
       "    </tr>\n",
       "  </tbody>\n",
       "</table>\n",
       "</div>"
      ],
      "text/plain": [
       "         Nom_Districte        Preu\n",
       "0         Ciutat Vella  436.350000\n",
       "1             Eixample  506.922917\n",
       "2               Gràcia  445.322500\n",
       "3       Horta-Guinardó  388.497500\n",
       "4            Les Corts  614.037500\n",
       "5           Nou Barris  337.607500\n",
       "6          Sant Andreu  366.175000\n",
       "7           Sant Martí  464.945000\n",
       "8       Sants-Montjuïc  405.805357\n",
       "9  Sarrià-Sant Gervasi  643.112500"
      ]
     },
     "metadata": {},
     "output_type": "display_data"
    },
    {
     "data": {
      "text/plain": [
       "<AxesSubplot:xlabel='Nom_Districte'>"
      ]
     },
     "execution_count": 26,
     "metadata": {},
     "output_type": "execute_result"
    },
    {
     "data": {
      "image/png": "[encoded data removed]",
      "text/plain": [
       "<Figure size 432x288 with 1 Axes>"
      ]
     },
     "metadata": {
      "needs_background": "light"
     },
     "output_type": "display_data"
    }
   ],
   "source": [
    "df_rent_E_m = pd.DataFrame(df_rent_E_m.groupby(\"Nom_Districte\")[\"Preu\"].mean())\n",
    "df_rent_E_m.reset_index(drop=False, inplace=True)\n",
    "display(df_rent_E_m)\n",
    "df_rent_E_m.plot(x='Nom_Districte', y='Preu', kind='bar')"
   ]
  },
  {
   "cell_type": "markdown",
   "metadata": {},
   "source": [
    "Alquiler precio Euros mes por metro2"
   ]
  },
  {
   "cell_type": "code",
   "execution_count": 35,
   "metadata": {},
   "outputs": [
    {
     "data": {
      "text/html": [
       "<div>\n",
       "<style scoped>\n",
       "    .dataframe tbody tr th:only-of-type {\n",
       "        vertical-align: middle;\n",
       "    }\n",
       "\n",
       "    .dataframe tbody tr th {\n",
       "        vertical-align: top;\n",
       "    }\n",
       "\n",
       "    .dataframe thead th {\n",
       "        text-align: right;\n",
       "    }\n",
       "</style>\n",
       "<table border=\"1\" class=\"dataframe\">\n",
       "  <thead>\n",
       "    <tr style=\"text-align: right;\">\n",
       "      <th></th>\n",
       "      <th>Nom_Districte</th>\n",
       "      <th>Preu</th>\n",
       "    </tr>\n",
       "  </thead>\n",
       "  <tbody>\n",
       "    <tr>\n",
       "      <th>0</th>\n",
       "      <td>Ciutat Vella</td>\n",
       "      <td>13.775000</td>\n",
       "    </tr>\n",
       "    <tr>\n",
       "      <th>1</th>\n",
       "      <td>Eixample</td>\n",
       "      <td>13.300000</td>\n",
       "    </tr>\n",
       "    <tr>\n",
       "      <th>2</th>\n",
       "      <td>Gràcia</td>\n",
       "      <td>13.380000</td>\n",
       "    </tr>\n",
       "    <tr>\n",
       "      <th>3</th>\n",
       "      <td>Horta-Guinardó</td>\n",
       "      <td>11.987500</td>\n",
       "    </tr>\n",
       "    <tr>\n",
       "      <th>4</th>\n",
       "      <td>Les Corts</td>\n",
       "      <td>14.008333</td>\n",
       "    </tr>\n",
       "    <tr>\n",
       "      <th>5</th>\n",
       "      <td>Nou Barris</td>\n",
       "      <td>10.922500</td>\n",
       "    </tr>\n",
       "    <tr>\n",
       "      <th>6</th>\n",
       "      <td>Sant Andreu</td>\n",
       "      <td>11.153846</td>\n",
       "    </tr>\n",
       "    <tr>\n",
       "      <th>7</th>\n",
       "      <td>Sant Martí</td>\n",
       "      <td>13.440000</td>\n",
       "    </tr>\n",
       "    <tr>\n",
       "      <th>8</th>\n",
       "      <td>Sants-Montjuïc</td>\n",
       "      <td>12.678571</td>\n",
       "    </tr>\n",
       "    <tr>\n",
       "      <th>9</th>\n",
       "      <td>Sarrià-Sant Gervasi</td>\n",
       "      <td>15.012500</td>\n",
       "    </tr>\n",
       "  </tbody>\n",
       "</table>\n",
       "</div>"
      ],
      "text/plain": [
       "         Nom_Districte       Preu\n",
       "0         Ciutat Vella  13.775000\n",
       "1             Eixample  13.300000\n",
       "2               Gràcia  13.380000\n",
       "3       Horta-Guinardó  11.987500\n",
       "4            Les Corts  14.008333\n",
       "5           Nou Barris  10.922500\n",
       "6          Sant Andreu  11.153846\n",
       "7           Sant Martí  13.440000\n",
       "8       Sants-Montjuïc  12.678571\n",
       "9  Sarrià-Sant Gervasi  15.012500"
      ]
     },
     "metadata": {},
     "output_type": "display_data"
    },
    {
     "data": {
      "image/png": "[encoded data removed]",
      "text/plain": [
       "<Figure size 432x288 with 1 Axes>"
      ]
     },
     "metadata": {
      "needs_background": "light"
     },
     "output_type": "display_data"
    },
    {
     "data": {
      "image/png": "[encoded data removed]",
      "text/plain": [
       "<Figure size 432x288 with 1 Axes>"
      ]
     },
     "metadata": {
      "needs_background": "light"
     },
     "output_type": "display_data"
    }
   ],
   "source": [
    "df_rent_E_m_m = pd.DataFrame(df_rent_E_m_m.groupby(\"Nom_Districte\")[\"Preu\"].mean())\n",
    "df_rent_E_m_m.reset_index(drop=False, inplace=True)\n",
    "display(df_rent_E_m_m)\n",
    "df_rent_E_m_m.plot(x='Nom_Districte', y='Preu', kind='bar')\n",
    "#graph_rent.set_title=\"este es el precio mes\"\n",
    "ax = plt.subplots()\n"
   ]
  },
  {
   "cell_type": "code",
   "execution_count": 66,
   "metadata": {},
   "outputs": [
    {
     "data": {
      "image/png": "[encoded data removed]",
      "text/plain": [
       "<Figure size 640x480 with 1 Axes>"
      ]
     },
     "metadata": {},
     "output_type": "display_data"
    }
   ],
   "source": [
    "##Rent price Euros/month x square meter\n",
    "df_rent_E_m_m= pd.DataFrame(df_rent_E_m_m.groupby(\"Nom_Districte\")[\"Preu\"].mean())\n",
    "df_rent_E_m_m.reset_index(drop=False, inplace=True)\n",
    "\n",
    "plt.rcdefaults()\n",
    "fig, ax = plt.subplots()\n",
    "\n",
    "Discrict = df_rent_E_m_m[\"Nom_Districte\"]\n",
    "y_pos = np.arange(len(Discrict))\n",
    "Price = df_rent_E_m_m[\"Preu\"]\n",
    "\n",
    "ax.barh(y_pos, Price, align='center')\n",
    "ax.set_yticks(y_pos, labels=Discrict)\n",
    "ax.invert_yaxis()  # labels read top-to-bottom\n",
    "ax.set_xlabel('Price Euros')\n",
    "ax.set_title('Rent price Euros/month x square meter')\n",
    "\n",
    "plt.show()"
   ]
  },
  {
   "cell_type": "code",
   "execution_count": 67,
   "metadata": {},
   "outputs": [
    {
     "data": {
      "image/png": "[encoded data removed]",
      "text/plain": [
       "<Figure size 640x480 with 1 Axes>"
      ]
     },
     "metadata": {},
     "output_type": "display_data"
    }
   ],
   "source": [
    "#Rent price Euros/month\n",
    "\n",
    "\n",
    "df_rent_E_m = pd.DataFrame(df_rent_E_m.groupby(\"Nom_Districte\")[\"Preu\"].mean())\n",
    "df_rent_E_m.reset_index(drop=False, inplace=True)\n",
    "\n",
    "fig, ax = plt.subplots()\n",
    "\n",
    "\n",
    "Discrict = df_rent_E_m[\"Nom_Districte\"]\n",
    "y_pos = np.arange(len(Discrict))\n",
    "Price = df_rent_E_m[\"Preu\"]\n",
    "\n",
    "ax.barh(y_pos, Price, align='center')\n",
    "ax.set_yticks(y_pos, labels=Discrict)\n",
    "ax.invert_yaxis()  # labels read top-to-bottom\n",
    "ax.set_xlabel('Price Euros')\n",
    "ax.set_title('Rent price Euros/month')\n",
    "\n",
    "plt.show()"
   ]
  },
  {
   "cell_type": "markdown",
   "metadata": {},
   "source": [
    "- Two numeric variables (Year or Quarter and Price)"
   ]
  },
  {
   "cell_type": "code",
   "execution_count": null,
   "metadata": {},
   "outputs": [],
   "source": []
  },
  {
   "cell_type": "markdown",
   "metadata": {},
   "source": [
    "- Three variables (Neighbourhood or District, Quarter and Price)"
   ]
  },
  {
   "cell_type": "code",
   "execution_count": null,
   "metadata": {},
   "outputs": [],
   "source": []
  },
  {
   "cell_type": "markdown",
   "metadata": {
    "application/vnd.databricks.v1+cell": {
     "cellMetadata": {},
     "inputWidgets": {},
     "nuid": "fe4e9eb6-e213-4724-a552-ca93228ba3d5",
     "showTitle": false,
     "title": ""
    }
   },
   "source": [
    "#### - Exercise 2\n",
    "\n",
    "Export graphics as images or as HTML."
   ]
  },
  {
   "cell_type": "code",
   "execution_count": null,
   "metadata": {
    "application/vnd.databricks.v1+cell": {
     "cellMetadata": {},
     "inputWidgets": {},
     "nuid": "ccf392db-5bc2-4a72-a02f-7e9252d2721c",
     "showTitle": false,
     "title": ""
    }
   },
   "outputs": [],
   "source": []
  },
  {
   "cell_type": "markdown",
   "metadata": {
    "application/vnd.databricks.v1+cell": {
     "cellMetadata": {},
     "inputWidgets": {},
     "nuid": "a7355bed-a91e-4c63-9136-51b86f1b3d40",
     "showTitle": false,
     "title": ""
    }
   },
   "source": [
    "#### - Exercise 3\n",
    "Suggest a visualization that you think might be interesting. "
   ]
  },
  {
   "cell_type": "code",
   "execution_count": null,
   "metadata": {
    "application/vnd.databricks.v1+cell": {
     "cellMetadata": {},
     "inputWidgets": {},
     "nuid": "849e6a5f-3a0d-4433-9681-5fef9caac45d",
     "showTitle": false,
     "title": ""
    }
   },
   "outputs": [],
   "source": []
  }
 ],
 "metadata": {
  "application/vnd.databricks.v1+notebook": {
   "dashboards": [],
   "language": "python",
   "notebookMetadata": {
    "pythonIndentUnit": 4
   },
   "notebookName": "Task M2 T01",
   "notebookOrigID": 4067634730807463,
   "widgets": {}
  },
  "hide_input": false,
  "kernelspec": {
   "display_name": "Python 3 (ipykernel)",
   "language": "python",
   "name": "python3"
  },
  "language_info": {
   "codemirror_mode": {
    "name": "ipython",
    "version": 3
   },
   "file_extension": ".py",
   "mimetype": "text/x-python",
   "name": "python",
   "nbconvert_exporter": "python",
   "pygments_lexer": "ipython3",
   "version": "3.9.12"
  },
  "nbTranslate": {
   "displayLangs": [
    "*"
   ],
   "hotkey": "alt-t",
   "langInMainMenu": true,
   "sourceLang": "en",
   "targetLang": "fr",
   "useGoogleTranslate": true
  },
  "toc": {
   "base_numbering": 1,
   "nav_menu": {},
   "number_sections": true,
   "sideBar": true,
   "skip_h1_title": false,
   "title_cell": "Table of Contents",
   "title_sidebar": "Contents",
   "toc_cell": false,
   "toc_position": {},
   "toc_section_display": true,
   "toc_window_display": false
  },
  "varInspector": {
   "cols": {
    "lenName": 16,
    "lenType": 16,
    "lenVar": 40
   },
   "kernels_config": {
    "python": {
     "delete_cmd_postfix": "",
     "delete_cmd_prefix": "del ",
     "library": "var_list.py",
     "varRefreshCmd": "print(var_dic_list())"
    },
    "r": {
     "delete_cmd_postfix": ") ",
     "delete_cmd_prefix": "rm(",
     "library": "var_list.r",
     "varRefreshCmd": "cat(var_dic_list()) "
    }
   },
   "types_to_exclude": [
    "module",
    "function",
    "builtin_function_or_method",
    "instance",
    "_Feature"
   ],
   "window_display": false
  }
 },
 "nbformat": 4,
 "nbformat_minor": 1
}
