{
 "cells": [
  {
   "cell_type": "markdown",
   "metadata": {
    "application/vnd.databricks.v1+cell": {
     "cellMetadata": {},
     "inputWidgets": {},
     "nuid": "aa9520ed-c94c-4f40-9d39-843249510911",
     "showTitle": false,
     "title": ""
    }
   },
   "source": [
    "# Task S4 T02\n",
    "## Graphic display of multiple variables"
   ]
  },
  {
   "cell_type": "markdown",
   "metadata": {
    "application/vnd.databricks.v1+cell": {
     "cellMetadata": {},
     "inputWidgets": {},
     "nuid": "00a19361-6458-4714-ad0f-119147eda649",
     "showTitle": false,
     "title": ""
    }
   },
   "source": [
    "#### - Exercise 1\n",
    "\n",
    "Do the notebook practice on GitHub \"03 EXAMINING DATA\" (make a copy and run the commands with the same county.txt dataset). This exercise consists of observing the different possibilities offered by the different graphic display libraries."
   ]
  },
  {
   "cell_type": "markdown",
   "metadata": {
    "application/vnd.databricks.v1+cell": {
     "cellMetadata": {},
     "inputWidgets": {},
     "nuid": "37053a21-351a-4ce4-93d8-330fae5eaa6f",
     "showTitle": false,
     "title": ""
    }
   },
   "source": [
    "https://github.com/IvanaCandyAguilar/Examining-Data/blob/main/03%20EXAMINING%20DATA.ipynb"
   ]
  },
  {
   "cell_type": "markdown",
   "metadata": {
    "application/vnd.databricks.v1+cell": {
     "cellMetadata": {},
     "inputWidgets": {},
     "nuid": "fe4e9eb6-e213-4724-a552-ca93228ba3d5",
     "showTitle": false,
     "title": ""
    }
   },
   "source": [
    "#### - Exercise 2\n",
    "Do the tasks of preprocessing and adaptation of the Dataset we have in the GitHub repository PRE-PROCESSING-DATA with the aim of preparing it and working on it as a dataframe to extract information from it.\n",
    "\n",
    "->PRE-PROCESSING-DATA/movies.dat"
   ]
  },
  {
   "cell_type": "markdown",
   "metadata": {
    "application/vnd.databricks.v1+cell": {
     "cellMetadata": {},
     "inputWidgets": {},
     "nuid": "ccf392db-5bc2-4a72-a02f-7e9252d2721c",
     "showTitle": false,
     "title": ""
    }
   },
   "source": [
    "Important\n",
    "\n",
    "The final result should be a dataframe with the movie name, year and genre variables. It's also important to stick to just one genre for each movie!"
   ]
  },
  {
   "cell_type": "code",
   "execution_count": 194,
   "metadata": {},
   "outputs": [
    {
     "data": {
      "text/html": [
       "<div>\n",
       "<style scoped>\n",
       "    .dataframe tbody tr th:only-of-type {\n",
       "        vertical-align: middle;\n",
       "    }\n",
       "\n",
       "    .dataframe tbody tr th {\n",
       "        vertical-align: top;\n",
       "    }\n",
       "\n",
       "    .dataframe thead th {\n",
       "        text-align: right;\n",
       "    }\n",
       "</style>\n",
       "<table border=\"1\" class=\"dataframe\">\n",
       "  <thead>\n",
       "    <tr style=\"text-align: right;\">\n",
       "      <th></th>\n",
       "      <th>Title_Year</th>\n",
       "      <th>Genre</th>\n",
       "    </tr>\n",
       "    <tr>\n",
       "      <th>Id</th>\n",
       "      <th></th>\n",
       "      <th></th>\n",
       "    </tr>\n",
       "  </thead>\n",
       "  <tbody>\n",
       "    <tr>\n",
       "      <th>1</th>\n",
       "      <td>Toy Story (1995)</td>\n",
       "      <td>Animation|Children's|Comedy</td>\n",
       "    </tr>\n",
       "    <tr>\n",
       "      <th>2</th>\n",
       "      <td>Jumanji (1995)</td>\n",
       "      <td>Adventure|Children's|Fantasy</td>\n",
       "    </tr>\n",
       "    <tr>\n",
       "      <th>3</th>\n",
       "      <td>Grumpier Old Men (1995)</td>\n",
       "      <td>Comedy|Romance</td>\n",
       "    </tr>\n",
       "    <tr>\n",
       "      <th>4</th>\n",
       "      <td>Waiting to Exhale (1995)</td>\n",
       "      <td>Comedy|Drama</td>\n",
       "    </tr>\n",
       "    <tr>\n",
       "      <th>5</th>\n",
       "      <td>Father of the Bride Part II (1995)</td>\n",
       "      <td>Comedy</td>\n",
       "    </tr>\n",
       "  </tbody>\n",
       "</table>\n",
       "</div>"
      ],
      "text/plain": [
       "                            Title_Year                         Genre\n",
       "Id                                                                  \n",
       "1                     Toy Story (1995)   Animation|Children's|Comedy\n",
       "2                       Jumanji (1995)  Adventure|Children's|Fantasy\n",
       "3              Grumpier Old Men (1995)                Comedy|Romance\n",
       "4             Waiting to Exhale (1995)                  Comedy|Drama\n",
       "5   Father of the Bride Part II (1995)                        Comedy"
      ]
     },
     "execution_count": 194,
     "metadata": {},
     "output_type": "execute_result"
    }
   ],
   "source": [
    "import pandas as pd\n",
    "import numpy as np\n",
    "\n",
    "#print(pd.__version__)\n",
    "df_main = pd.read_csv(\"https://raw.githubusercontent.com/IT-Academy-BCN/Data-Science/main/Pre-processing-data/movies.dat\",\n",
    "sep='::', encoding = 'ISO-8859-1', index_col=0, names=['Id','Title_Year','Genre'], engine='python')\n",
    "\n",
    "#df_movies = pd.DataFrame(df_main)\n",
    "\n",
    "df_main.head()\n",
    "#df_main.info"
   ]
  },
  {
   "cell_type": "markdown",
   "metadata": {},
   "source": [
    "Apartir del dataframe de lectura podemos iniciar la limpieza. Primero nos aseguramos que los tipos de datos sean correctos."
   ]
  },
  {
   "cell_type": "code",
   "execution_count": 195,
   "metadata": {},
   "outputs": [
    {
     "name": "stdout",
     "output_type": "stream",
     "text": [
      "<class 'pandas.core.frame.DataFrame'>\n",
      "Int64Index: 3883 entries, 1 to 3952\n",
      "Data columns (total 2 columns):\n",
      " #   Column      Non-Null Count  Dtype \n",
      "---  ------      --------------  ----- \n",
      " 0   Title_Year  3883 non-null   object\n",
      " 1   Genre       3883 non-null   object\n",
      "dtypes: object(2)\n",
      "memory usage: 91.0+ KB\n"
     ]
    }
   ],
   "source": [
    "df_main.info()"
   ]
  },
  {
   "cell_type": "markdown",
   "metadata": {},
   "source": [
    "Cambiamos a los tipos correctos"
   ]
  },
  {
   "cell_type": "code",
   "execution_count": 184,
   "metadata": {},
   "outputs": [
    {
     "data": {
      "text/plain": [
       "Id\n",
       "1        Animation|Children's|Comedy\n",
       "2       Adventure|Children's|Fantasy\n",
       "3                     Comedy|Romance\n",
       "4                       Comedy|Drama\n",
       "5                             Comedy\n",
       "                    ...             \n",
       "3948                          Comedy\n",
       "3949                           Drama\n",
       "3950                           Drama\n",
       "3951                           Drama\n",
       "3952                  Drama|Thriller\n",
       "Name: Genre, Length: 3883, dtype: string"
      ]
     },
     "execution_count": 184,
     "metadata": {},
     "output_type": "execute_result"
    }
   ],
   "source": [
    "df_main['Title_Year'].astype('string')\n",
    "df_main['Genre'].astype('string')"
   ]
  },
  {
   "cell_type": "code",
   "execution_count": 193,
   "metadata": {},
   "outputs": [],
   "source": [
    "#df_movies.describe()"
   ]
  },
  {
   "cell_type": "markdown",
   "metadata": {},
   "source": [
    "describir lo que se hace en el siguiente codigo"
   ]
  },
  {
   "cell_type": "code",
   "execution_count": 186,
   "metadata": {},
   "outputs": [
    {
     "data": {
      "text/plain": [
       "Id\n",
       "1                         Toy Story (1995)\n",
       "2                           Jumanji (1995)\n",
       "3                  Grumpier Old Men (1995)\n",
       "4                 Waiting to Exhale (1995)\n",
       "5       Father of the Bride Part II (1995)\n",
       "                       ...                \n",
       "3948               Meet the Parents (2000)\n",
       "3949            Requiem for a Dream (2000)\n",
       "3950                      Tigerland (2000)\n",
       "3951               Two Family House (2000)\n",
       "3952                 Contender, The (2000)\n",
       "Name: Title_Year, Length: 3883, dtype: object"
      ]
     },
     "execution_count": 186,
     "metadata": {},
     "output_type": "execute_result"
    }
   ],
   "source": [
    "df_main['Genre'] = df_main['Genre'].str.split('|')\n",
    "df_main['Genre'] = df_main['Genre'].apply(lambda x: x[0])\n",
    "\n",
    "df_main['Year'] = df_main['Title_Year'].str[-5:]\n",
    "df_main['Year'] = df_main['Year'].str.replace(')', '', regex=True)\n",
    "\n",
    "df_main['Title'] = df_main['Title_Year'].str[:-6]\n",
    "df_main.pop('Title_Year')"
   ]
  },
  {
   "cell_type": "markdown",
   "metadata": {},
   "source": [
    "Cambiamos el tipo de dato de year a entero"
   ]
  },
  {
   "cell_type": "code",
   "execution_count": 187,
   "metadata": {},
   "outputs": [
    {
     "name": "stdout",
     "output_type": "stream",
     "text": [
      "Número total de valores nulos:  0\n",
      "Porcentaje de valores nulos:  0.0 %\n",
      "\n",
      "Resumen de valores nulos por columna:\n",
      " Genre    0\n",
      "Year     0\n",
      "Title    0\n",
      "dtype: int64\n",
      "\n",
      "Resumen de valores no nulos por columna:\n",
      " Genre    3883\n",
      "Year     3883\n",
      "Title    3883\n",
      "dtype: int64\n",
      "\n",
      "Resumen de valores únicos por columna:\n",
      " Genre      18\n",
      "Year       81\n",
      "Title    3841\n",
      "dtype: int64\n"
     ]
    }
   ],
   "source": [
    "# contar el número total de valores nulos en el DataFrame\n",
    "total_nulos = df_main.isnull().sum().sum()\n",
    "\n",
    "# calcular el porcentaje de valores nulos en el DataFrame\n",
    "porcentaje_nulos = (total_nulos / (df_main.shape[0] * df_main.shape[1])) * 100\n",
    "\n",
    "# imprimir el número total de valores nulos y el porcentaje de valores nulos\n",
    "print(\"Número total de valores nulos: \", total_nulos)\n",
    "print(\"Porcentaje de valores nulos: \", porcentaje_nulos, \"%\")\n",
    "\n",
    "# obtener un resumen de los valores nulos por columna\n",
    "resumen_nulos = df_main.isnull().sum()\n",
    "print(\"\\nResumen de valores nulos por columna:\\n\", resumen_nulos)\n",
    "\n",
    "# obtener un resumen de los valores no nulos por columna\n",
    "resumen_no_nulos = df_main.notnull().sum()\n",
    "print(\"\\nResumen de valores no nulos por columna:\\n\", resumen_no_nulos)\n",
    "\n",
    "# obtener un resumen de los valores únicos por columna\n",
    "resumen_unicos = df_main.nunique()\n",
    "print(\"\\nResumen de valores únicos por columna:\\n\", resumen_unicos)"
   ]
  },
  {
   "cell_type": "code",
   "execution_count": 188,
   "metadata": {},
   "outputs": [
    {
     "name": "stdout",
     "output_type": "stream",
     "text": [
      "Empty DataFrame\n",
      "Columns: [Genre, Year, Title]\n",
      "Index: []\n"
     ]
    }
   ],
   "source": [
    "no_numerico = pd.to_numeric(df_main['Year'], errors='coerce').isnull()\n",
    "print(df_main[no_numerico])"
   ]
  },
  {
   "cell_type": "code",
   "execution_count": 189,
   "metadata": {},
   "outputs": [
    {
     "data": {
      "text/plain": [
       "Id\n",
       "1       1995\n",
       "2       1995\n",
       "3       1995\n",
       "4       1995\n",
       "5       1995\n",
       "        ... \n",
       "3948    2000\n",
       "3949    2000\n",
       "3950    2000\n",
       "3951    2000\n",
       "3952    2000\n",
       "Name: Year, Length: 3883, dtype: int64"
      ]
     },
     "execution_count": 189,
     "metadata": {},
     "output_type": "execute_result"
    }
   ],
   "source": [
    "df_main['Year'].astype('int64')"
   ]
  },
  {
   "cell_type": "markdown",
   "metadata": {},
   "source": [
    "cambiamos el orden las columnas."
   ]
  },
  {
   "cell_type": "code",
   "execution_count": 190,
   "metadata": {},
   "outputs": [],
   "source": [
    "df_movies= df_main.reindex(columns=['Title','Year','Genre'])"
   ]
  },
  {
   "cell_type": "markdown",
   "metadata": {},
   "source": [
    "limpiar duplicados"
   ]
  },
  {
   "cell_type": "markdown",
   "metadata": {},
   "source": [
    "**Cleaning Empty cells**"
   ]
  },
  {
   "cell_type": "code",
   "execution_count": 197,
   "metadata": {},
   "outputs": [],
   "source": [
    "df_main.dropna(inplace = True)"
   ]
  },
  {
   "cell_type": "markdown",
   "metadata": {},
   "source": [
    "**Cleaning Data in wrong format**"
   ]
  },
  {
   "cell_type": "code",
   "execution_count": null,
   "metadata": {},
   "outputs": [],
   "source": []
  },
  {
   "cell_type": "markdown",
   "metadata": {},
   "source": [
    "**Cleaning Wrong data**"
   ]
  },
  {
   "cell_type": "code",
   "execution_count": null,
   "metadata": {},
   "outputs": [],
   "source": []
  },
  {
   "cell_type": "markdown",
   "metadata": {},
   "source": [
    "**Cleaning Duplicates**"
   ]
  },
  {
   "cell_type": "code",
   "execution_count": null,
   "metadata": {},
   "outputs": [],
   "source": []
  },
  {
   "cell_type": "code",
   "execution_count": null,
   "metadata": {
    "hide_input": true
   },
   "outputs": [],
   "source": []
  },
  {
   "cell_type": "markdown",
   "metadata": {
    "application/vnd.databricks.v1+cell": {
     "cellMetadata": {},
     "inputWidgets": {},
     "nuid": "a7355bed-a91e-4c63-9136-51b86f1b3d40",
     "showTitle": false,
     "title": ""
    }
   },
   "source": [
    "#### - Exercise 3\n",
    "Show your creativity. What do you think is relevant to show about the Dataset \"movies.dat\" from the previous exercise?\n",
    "\n",
    "Make one or two graphical representations and justify your choice. "
   ]
  },
  {
   "cell_type": "markdown",
   "metadata": {},
   "source": [
    "Cantidad de peliculas por genero"
   ]
  },
  {
   "cell_type": "code",
   "execution_count": 191,
   "metadata": {},
   "outputs": [
    {
     "data": {
      "image/png": "[encoded data removed]",
      "text/plain": [
       "<Figure size 864x720 with 1 Axes>"
      ]
     },
     "metadata": {},
     "output_type": "display_data"
    }
   ],
   "source": [
    "import matplotlib.pyplot as plt\n",
    "\n",
    "df_count_genres = df_movies.groupby('Genre')['Title'].count().reset_index(name='Number_titles')\n",
    "\n",
    "y = df_count_genres['Number_titles']\n",
    "mylabels = df_count_genres['Genre']\n",
    "\n",
    "plt.figure(figsize=(12, 10))\n",
    "plt.pie(y, labels = mylabels)\n",
    "plt.show() "
   ]
  },
  {
   "cell_type": "markdown",
   "metadata": {},
   "source": [
    "Explain"
   ]
  },
  {
   "cell_type": "markdown",
   "metadata": {
    "application/vnd.databricks.v1+cell": {
     "cellMetadata": {},
     "inputWidgets": {},
     "nuid": "849e6a5f-3a0d-4433-9681-5fef9caac45d",
     "showTitle": false,
     "title": ""
    }
   },
   "source": [
    "Cantidad de peliculas por año"
   ]
  },
  {
   "cell_type": "markdown",
   "metadata": {},
   "source": [
    "Explain"
   ]
  },
  {
   "cell_type": "markdown",
   "metadata": {},
   "source": [
    "Preferencias simulado"
   ]
  },
  {
   "cell_type": "markdown",
   "metadata": {},
   "source": [
    "Explain"
   ]
  },
  {
   "cell_type": "markdown",
   "metadata": {},
   "source": [
    "Genero año"
   ]
  },
  {
   "cell_type": "code",
   "execution_count": 192,
   "metadata": {},
   "outputs": [
    {
     "data": {
      "image/png": "[encoded data removed]",
      "text/plain": [
       "<Figure size 576x288 with 1 Axes>"
      ]
     },
     "metadata": {
      "needs_background": "light"
     },
     "output_type": "display_data"
    }
   ],
   "source": [
    "import numpy as np\n",
    "import matplotlib.pyplot as plt\n",
    "from matplotlib import rc\n",
    "import pandas as pd\n",
    "\n",
    "plt.figure(figsize=(8,4))\n",
    "# y-axis in bold\n",
    "rc('font', weight='bold')\n",
    "\n",
    "# Count number of movies per year\n",
    "df_count_movies_year = df_movies.groupby('Year')['Title'].count().reset_index(name='Number_movies')\n",
    "\n",
    "# Get data for years 1995-2000\n",
    "\n",
    "df_count_title_genre_year = df_movies.groupby(['Year', 'Genre'])['Title'].count().reset_index(name='Count_title')\n",
    "\n",
    "df_count_title_genre_last6years = df_count_title_genre_year[df_count_title_genre_year['Year'].isin(df_count_title_genre_year['Year'].unique()[-6:])]\n",
    "\n",
    "label1 ='Action'\n",
    "label2 ='Drama'\n",
    "label3 ='Comedy'\n",
    "label4 ='Horror'\n",
    "\n",
    "# Values of each group\n",
    "bars1 = df_count_title_genre_last6years['Count_title'].loc[df_count_title_genre_last6years['Genre'] == 'Action'].tolist()\n",
    "bars2 = df_count_title_genre_last6years['Count_title'].loc[df_count_title_genre_last6years['Genre'] == 'Drama'].tolist()\n",
    "bars3 = df_count_title_genre_last6years['Count_title'].loc[df_count_title_genre_last6years['Genre'] == 'Comedy'].tolist()\n",
    "bars4 = df_count_title_genre_last6years['Count_title'].loc[df_count_title_genre_last6years['Genre'] == 'Horror'].tolist()\n",
    "\n",
    "# Heights of bars1 + bars2\n",
    "bars = np.add(bars1, bars2).tolist()\n",
    " \n",
    "# The position of the bars on the x-axis\n",
    "r = [0,1,2,3,4,5]\n",
    " \n",
    "# Names of group and bar width\n",
    "names = ['1995', '1996', '1997', '1998', '1999','2000']\n",
    "barWidth = 1\n",
    "\n",
    "#Create labels for legend\n",
    "\n",
    "label1 ='Action'\n",
    "label2 ='Drama'\n",
    "label3 ='Comedy'\n",
    "label4 ='Horror'\n",
    " \n",
    "# Create brown bars\n",
    "plt.bar(r, bars1, color='#7f6d5f', edgecolor='white', width=barWidth, label=label1)\n",
    "# Create green bars (middle), on top of the first ones\n",
    "plt.bar(r, bars2, bottom=bars1, color='#557f2d', edgecolor='white', width=barWidth, label=label2)\n",
    "# Create green bars (top)\n",
    "plt.bar(r, bars3, bottom=bars, color='#2d7f5e', edgecolor='white', width=barWidth, label=label3)\n",
    "# Create green bars (top)\n",
    "plt.bar(r, bars4, bottom=bars, color='#fde725', edgecolor='white', width=barWidth, label=label4)\n",
    " \n",
    "# Custom X axis\n",
    "plt.legend(loc='upper right')\n",
    "plt.xticks(r, names, fontweight='bold')\n",
    "plt.xlabel(\"Year\")\n",
    "\n",
    "# Show graphic\n",
    "plt.show()"
   ]
  }
 ],
 "metadata": {
  "application/vnd.databricks.v1+notebook": {
   "dashboards": [],
   "language": "python",
   "notebookMetadata": {
    "pythonIndentUnit": 4
   },
   "notebookName": "Task M2 T01",
   "notebookOrigID": 4067634730807463,
   "widgets": {}
  },
  "hide_input": false,
  "kernelspec": {
   "display_name": "Python 3 (ipykernel)",
   "language": "python",
   "name": "python3"
  },
  "language_info": {
   "codemirror_mode": {
    "name": "ipython",
    "version": 3
   },
   "file_extension": ".py",
   "mimetype": "text/x-python",
   "name": "python",
   "nbconvert_exporter": "python",
   "pygments_lexer": "ipython3",
   "version": "3.9.12"
  },
  "nbTranslate": {
   "displayLangs": [
    "*"
   ],
   "hotkey": "alt-t",
   "langInMainMenu": true,
   "sourceLang": "en",
   "targetLang": "fr",
   "useGoogleTranslate": true
  },
  "toc": {
   "base_numbering": 1,
   "nav_menu": {},
   "number_sections": true,
   "sideBar": true,
   "skip_h1_title": false,
   "title_cell": "Table of Contents",
   "title_sidebar": "Contents",
   "toc_cell": false,
   "toc_position": {},
   "toc_section_display": true,
   "toc_window_display": false
  },
  "varInspector": {
   "cols": {
    "lenName": 16,
    "lenType": 16,
    "lenVar": 40
   },
   "kernels_config": {
    "python": {
     "delete_cmd_postfix": "",
     "delete_cmd_prefix": "del ",
     "library": "var_list.py",
     "varRefreshCmd": "print(var_dic_list())"
    },
    "r": {
     "delete_cmd_postfix": ") ",
     "delete_cmd_prefix": "rm(",
     "library": "var_list.r",
     "varRefreshCmd": "cat(var_dic_list()) "
    }
   },
   "types_to_exclude": [
    "module",
    "function",
    "builtin_function_or_method",
    "instance",
    "_Feature"
   ],
   "window_display": false
  }
 },
 "nbformat": 4,
 "nbformat_minor": 1
}
