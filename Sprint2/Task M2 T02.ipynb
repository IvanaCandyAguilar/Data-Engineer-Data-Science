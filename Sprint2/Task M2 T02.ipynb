{
 "cells": [
  {
   "cell_type": "markdown",
   "metadata": {
    "application/vnd.databricks.v1+cell": {
     "cellMetadata": {},
     "inputWidgets": {},
     "nuid": "aa9520ed-c94c-4f40-9d39-843249510911",
     "showTitle": false,
     "title": ""
    }
   },
   "source": [
    "# Task M2 T02\n",
    "## Exercises of control structures with Python"
   ]
  },
  {
   "cell_type": "markdown",
   "metadata": {
    "application/vnd.databricks.v1+cell": {
     "cellMetadata": {},
     "inputWidgets": {},
     "nuid": "00a19361-6458-4714-ad0f-119147eda649",
     "showTitle": false,
     "title": ""
    }
   },
   "source": [
    "#### - Exercise 1\n",
    "\n",
    "The exercise consists of creating a program that classifies you with a numerical variable based on the Failed/Passed/Notable/Excellent scale.\n",
    "\n",
    "Remember that Fail < 5, Pass > 5 and < 7, Notable > 7 and < 9, and Excellent > 9."
   ]
  },
  {
   "cell_type": "code",
   "execution_count": 106,
   "metadata": {
    "application/vnd.databricks.v1+cell": {
     "cellMetadata": {},
     "inputWidgets": {},
     "nuid": "37053a21-351a-4ce4-93d8-330fae5eaa6f",
     "showTitle": false,
     "title": ""
    }
   },
   "outputs": [
    {
     "name": "stdout",
     "output_type": "stream",
     "text": [
      "Fail\n",
      "Fail\n",
      "Notable\n",
      "Excellent\n",
      "Value out of range\n",
      "Value out of range\n"
     ]
    }
   ],
   "source": [
    "def classified_points(value):\n",
    "    if value<=5 and value>=0:\n",
    "        print(\"Fail\")\n",
    "    elif value>5 and value<=7:\n",
    "        print(\"Pass\")\n",
    "    elif value>7 and value<=9:\n",
    "        print(\"Notable\")\n",
    "    elif value>9 and value<=10 :\n",
    "        print(\"Excellent\")\n",
    "    else:\n",
    "        print(\"Value out of range\")\n",
    "    \n",
    "\n",
    "classified_points(4)\n",
    "classified_points(5)\n",
    "classified_points(8)\n",
    "classified_points(10)\n",
    "classified_points(65)\n",
    "classified_points(-15)\n"
   ]
  },
  {
   "cell_type": "markdown",
   "metadata": {
    "application/vnd.databricks.v1+cell": {
     "cellMetadata": {},
     "inputWidgets": {},
     "nuid": "fe4e9eb6-e213-4724-a552-ca93228ba3d5",
     "showTitle": false,
     "title": ""
    }
   },
   "source": [
    "#### - Exercise 2\n",
    "Using the following tutorial, create a program that prompts you for two numbers. It should show you a message saying if the first is bigger, the second is bigger or they are equal.\n",
    "\n",
    "->Programiz: Python Input, Output and Import"
   ]
  },
  {
   "cell_type": "code",
   "execution_count": 64,
   "metadata": {
    "application/vnd.databricks.v1+cell": {
     "cellMetadata": {},
     "inputWidgets": {},
     "nuid": "ccf392db-5bc2-4a72-a02f-7e9252d2721c",
     "showTitle": false,
     "title": ""
    }
   },
   "outputs": [
    {
     "name": "stdout",
     "output_type": "stream",
     "text": [
      "Enter a first number : 5\n",
      "Enter a second number : 9\n",
      "The second is bigger\n"
     ]
    }
   ],
   "source": [
    "def equal_bigger_than(x,y):\n",
    "    if x == y:\n",
    "        print(\"They are equal\")\n",
    "    elif x>y:\n",
    "        print(\"The first is bigger\")\n",
    "    else:\n",
    "        print(\"The second is bigger\")\n",
    "\n",
    "\n",
    "number_one = int(input(\"Enter a first number : \"))\n",
    "\n",
    "number_two = int(input(\"Enter a second number : \"))\n",
    "\n",
    "equal_bigger_than(number_one,number_two)"
   ]
  },
  {
   "cell_type": "markdown",
   "metadata": {
    "application/vnd.databricks.v1+cell": {
     "cellMetadata": {},
     "inputWidgets": {},
     "nuid": "a7355bed-a91e-4c63-9136-51b86f1b3d40",
     "showTitle": false,
     "title": ""
    }
   },
   "source": [
    "#### - Exercise 3\n",
    "Create a program that asks for your name, and asks for a number. If the number is 0, it should display an error message. Otherwise, it should show the name repeated as many times as the number. For example, \"John John John\"."
   ]
  },
  {
   "cell_type": "code",
   "execution_count": 82,
   "metadata": {
    "application/vnd.databricks.v1+cell": {
     "cellMetadata": {},
     "inputWidgets": {},
     "nuid": "849e6a5f-3a0d-4433-9681-5fef9caac45d",
     "showTitle": false,
     "title": ""
    }
   },
   "outputs": [
    {
     "name": "stdout",
     "output_type": "stream",
     "text": [
      "Enter your name : Ivana\n",
      "Enter a number : 5\n",
      "Ivana\n",
      "Ivana\n",
      "Ivana\n",
      "Ivana\n",
      "Ivana\n"
     ]
    }
   ],
   "source": [
    "def name_for_name(name,number):\n",
    "    if number<=0:\n",
    "        print(\"Error!!! Enter a integer number\")\n",
    "    else:\n",
    "        for i in range(number):\n",
    "            print(name)\n",
    "        \n",
    "        \n",
    "name = input(\"Enter your name : \")\n",
    "number = int(input(\"Enter a number : \"))\n",
    "\n",
    "name_for_name(name,number)"
   ]
  },
  {
   "cell_type": "markdown",
   "metadata": {
    "application/vnd.databricks.v1+cell": {
     "cellMetadata": {},
     "inputWidgets": {},
     "nuid": "70b0f4a7-11f5-489e-b3ac-74b90a19a021",
     "showTitle": false,
     "title": ""
    }
   },
   "source": [
    "#### - Exercise 4\n",
    "Create a program that, given any list, tells you whether it is symmetric or not. If it is, tell you how many elements it has."
   ]
  },
  {
   "cell_type": "code",
   "execution_count": 104,
   "metadata": {
    "application/vnd.databricks.v1+cell": {
     "cellMetadata": {},
     "inputWidgets": {},
     "nuid": "e532c60d-5755-4c41-b4e0-34bffe2ac657",
     "showTitle": false,
     "title": ""
    }
   },
   "outputs": [
    {
     "name": "stdout",
     "output_type": "stream",
     "text": [
      "[7, 5, 3, 1, 3, 5, 7]\n",
      "The list is symmetric\n",
      "[7, 5, 3, 1, 3, 5, 7]\n",
      "The list is symmetric\n",
      "[1, 2, 3, 4, 5, 6, 7, 8]\n",
      "The list is not symmetric\n",
      "[1, 2, 3, 4, 5, 6, 7, 8]\n",
      "The list is not symmetric\n"
     ]
    }
   ],
   "source": [
    "def first_form(list_one): #reverse the list\n",
    "    new_list=[]\n",
    "    j = 1\n",
    "    for i in list_one:\n",
    "        new_list.append(list_one[len(list_one) - j])\n",
    "        j+=1\n",
    "    if new_list == list_one:\n",
    "        symmetric = 1\n",
    "    else:\n",
    "        symmetric = 0\n",
    "    print_symmetric(list_one,symmetric)\n",
    "    \n",
    "    \n",
    "def second_form(list_two): #compares last and first if finds a different is not symmetric\n",
    "    j = 1\n",
    "    for i in list_two:\n",
    "        if i != list_two[len(list_two) - j]:\n",
    "            symmetric = 0\n",
    "            break\n",
    "        else:\n",
    "            symmetric = 1 \n",
    "        j+=1\n",
    "    print_symmetric(list_two,symmetric)\n",
    "    \n",
    "\n",
    "def print_symmetric(list_ex,value):\n",
    "    print (list_ex)\n",
    "    if value == 1:\n",
    "        print (\"The list is symmetric\")\n",
    "    else:\n",
    "        print(\"The list is not symmetric\")\n",
    "    \n",
    "example_list = [7,5,3,1,3,5,7]\n",
    "\n",
    "first_form([7,5,3,1,3,5,7])\n",
    "second_form([7,5,3,1,3,5,7])\n",
    "\n",
    "first_form([1,2,3,4,5,6,7,8])\n",
    "second_form([1,2,3,4,5,6,7,8])\n"
   ]
  },
  {
   "cell_type": "markdown",
   "metadata": {},
   "source": [
    "#### - Exercise 5\n",
    "Create a program that, given a list, tells you how many numbers match its position. For example [3,4,2,0,2,3,6] 2 and 6 match."
   ]
  },
  {
   "cell_type": "code",
   "execution_count": 103,
   "metadata": {},
   "outputs": [
    {
     "name": "stdout",
     "output_type": "stream",
     "text": [
      "2\n",
      "6\n",
      "Match:  2\n",
      "0\n",
      "2\n",
      "6\n",
      "10\n",
      "Match:  4\n",
      "0\n",
      "2\n",
      "4\n",
      "8\n",
      "9\n",
      "Match:  5\n"
     ]
    }
   ],
   "source": [
    "def match_numbers(list_of_numbers):\n",
    "    i = 0\n",
    "    match=0\n",
    "    for x in list_of_numbers:\n",
    "        if i==x:\n",
    "            print(x)\n",
    "            match+=1      \n",
    "        i+=1\n",
    "    print(\"Match: \",match)\n",
    "    \n",
    "match_numbers([3,4,2,0,2,3,6])\n",
    "match_numbers([0,4,2,0,2,3,6,9,3,15,10])\n",
    "match_numbers([0,4,2,0,4,6,2,3,8,9])"
   ]
  },
  {
   "cell_type": "markdown",
   "metadata": {
    "application/vnd.databricks.v1+cell": {
     "cellMetadata": {},
     "inputWidgets": {},
     "nuid": "caaa1d33-c493-4a27-87dc-fdd4c490ce70",
     "showTitle": false,
     "title": ""
    }
   },
   "source": []
  }
 ],
 "metadata": {
  "application/vnd.databricks.v1+notebook": {
   "dashboards": [],
   "language": "python",
   "notebookMetadata": {
    "pythonIndentUnit": 4
   },
   "notebookName": "Task M2 T01",
   "notebookOrigID": 4067634730807463,
   "widgets": {}
  },
  "hide_input": false,
  "kernelspec": {
   "display_name": "Python 3 (ipykernel)",
   "language": "python",
   "name": "python3"
  },
  "language_info": {
   "codemirror_mode": {
    "name": "ipython",
    "version": 3
   },
   "file_extension": ".py",
   "mimetype": "text/x-python",
   "name": "python",
   "nbconvert_exporter": "python",
   "pygments_lexer": "ipython3",
   "version": "3.9.12"
  },
  "nbTranslate": {
   "displayLangs": [
    "*"
   ],
   "hotkey": "alt-t",
   "langInMainMenu": true,
   "sourceLang": "en",
   "targetLang": "fr",
   "useGoogleTranslate": true
  },
  "toc": {
   "base_numbering": 1,
   "nav_menu": {},
   "number_sections": true,
   "sideBar": true,
   "skip_h1_title": false,
   "title_cell": "Table of Contents",
   "title_sidebar": "Contents",
   "toc_cell": false,
   "toc_position": {},
   "toc_section_display": true,
   "toc_window_display": false
  },
  "varInspector": {
   "cols": {
    "lenName": 16,
    "lenType": 16,
    "lenVar": 40
   },
   "kernels_config": {
    "python": {
     "delete_cmd_postfix": "",
     "delete_cmd_prefix": "del ",
     "library": "var_list.py",
     "varRefreshCmd": "print(var_dic_list())"
    },
    "r": {
     "delete_cmd_postfix": ") ",
     "delete_cmd_prefix": "rm(",
     "library": "var_list.r",
     "varRefreshCmd": "cat(var_dic_list()) "
    }
   },
   "types_to_exclude": [
    "module",
    "function",
    "builtin_function_or_method",
    "instance",
    "_Feature"
   ],
   "window_display": false
  }
 },
 "nbformat": 4,
 "nbformat_minor": 1
}
