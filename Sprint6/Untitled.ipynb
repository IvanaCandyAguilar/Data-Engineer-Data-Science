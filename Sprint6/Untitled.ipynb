{
 "cells": [
  {
   "cell_type": "code",
   "execution_count": null,
   "id": "5be6e19f",
   "metadata": {},
   "outputs": [],
   "source": [
    "from sklearn.model_selection import train_test_split, GridSearchCV\n",
    "from sklearn.linear_model import LinearRegression\n",
    "from sklearn.metrics import mean_squared_error, r2_score\n",
    "from sklearn.pipeline import make_pipeline\n",
    "from sklearn.preprocessing import StandardScaler\n",
    "import pandas as pd\n",
    "import warnings\n",
    "warnings.filterwarnings('ignore', category=FutureWarning)\n",
    "\n",
    "# Load and preprocess the dataset\n",
    "col_names = ['CRIM', 'ZN', 'INDUS', 'CHAS', 'NOX', 'RM', 'AGE',\n",
    "             'DIS', 'RAD', 'TAX', 'PTRATIO', 'B', 'LSTAT', 'MEDV']\n",
    "df_housing = pd.read_csv('housing data.csv', sep=',', names=col_names, header=None)\n",
    "\n",
    "# Split the dataset into training and testing sets\n",
    "X_train, X_test, y_train, y_test = train_test_split(df_housing.iloc[:, :-1], df_housing['MEDV'], test_size=0.2, random_state=42)\n",
    "\n",
    "# Define the model and its hyperparameters\n",
    "#model = LinearRegression()\n",
    "model = make_pipeline(StandardScaler(with_mean=False), LinearRegression())\n",
    "\n",
    "# Define the hyperparameters you want to test\n",
    "param_grid = {'linearregression__fit_intercept': [True, False],\n",
    "              'linearregression__normalize': [True, False]}\n",
    "\n",
    "# Create a GridSearchCV object with your model and hyperparameters\n",
    "grid_search = GridSearchCV(estimator=model, param_grid=param_grid, scoring=['neg_mean_squared_error', 'r2'], refit='r2', cv=5)\n",
    "\n",
    "# Fit the GridSearchCV object to your training data\n",
    "grid_search.fit(X_train, y_train)\n",
    "\n",
    "# Print the best hyperparameters and the best score(s)\n",
    "print(\"Best hyperparameters: \", grid_search.best_params_)\n",
    "print(\"Best r2 score: \", grid_search.best_score_)\n",
    "print(\"Best neg_mean_squared_error: \", grid_search.cv_results_['mean_test_neg_mean_squared_error'][grid_search.best_index_])\n",
    "\n",
    "# Use the best model to make predictions on your testing data\n",
    "y_pred = grid_search.predict(X_test)\n",
    "\n",
    "# Evaluate the model's performance on the testing data\n",
    "mse = mean_squared_error(y_test, y_pred)\n",
    "r2 = r2_score(y_test, y_pred)\n",
    "print(\"MSE: \", mse)\n",
    "print(\"R2 score: \", r2)\n",
    "\n",
    "\n",
    "\n",
    "from sklearn.ensemble import RandomForestRegressor\n",
    "from sklearn.linear_model import LinearRegression\n",
    "from sklearn.model_selection import GridSearchCV\n",
    "from sklearn.pipeline import make_pipeline\n",
    "from sklearn.preprocessing import StandardScaler\n",
    "\n",
    "# Define the pipelines\n",
    "linear_pipeline = make_pipeline(StandardScaler(), LinearRegression())\n",
    "rf_pipeline = make_pipeline(StandardScaler(), RandomForestRegressor())\n",
    "\n",
    "# Define the hyperparameters you want to test for each pipeline\n",
    "linear_param_grid = {'linearregression__fit_intercept': [True, False],\n",
    "                     'linearregression__normalize': [True, False]}\n",
    "rf_param_grid = {'randomforestregressor__n_estimators': [10, 50, 100],\n",
    "                 'randomforestregressor__max_depth': [None, 5, 10]}\n",
    "\n",
    "# Create a GridSearchCV object for each pipeline\n",
    "linear_grid_search = GridSearchCV(linear_pipeline, linear_param_grid, cv=5)\n",
    "rf_grid_search = GridSearchCV(rf_pipeline, rf_param_grid, cv=5)\n",
    "\n",
    "# Fit the GridSearchCV objects to your training data\n",
    "linear_grid_search.fit(X_train, y_train)\n",
    "rf_grid_search.fit(X_train, y_train)\n",
    "\n",
    "# Print the best hyperparameters and the best score(s) for each pipeline\n",
    "print(\"Best hyperparameters for Linear Regression: \", linear_grid_search.best_params_)\n",
    "print(\"Best r2 score for Linear Regression: \", linear_grid_search.best_score_)\n",
    "\n",
    "print(\"Best hyperparameters for Random Forest: \", rf_grid_search.best_params_)\n",
    "print(\"Best r2 score for Random Forest: \", rf_grid_search.best_score_)\n"
   ]
  }
 ],
 "metadata": {
  "hide_input": false,
  "kernelspec": {
   "display_name": "Python 3 (ipykernel)",
   "language": "python",
   "name": "python3"
  },
  "language_info": {
   "codemirror_mode": {
    "name": "ipython",
    "version": 3
   },
   "file_extension": ".py",
   "mimetype": "text/x-python",
   "name": "python",
   "nbconvert_exporter": "python",
   "pygments_lexer": "ipython3",
   "version": "3.9.12"
  },
  "nbTranslate": {
   "displayLangs": [
    "*"
   ],
   "hotkey": "alt-t",
   "langInMainMenu": true,
   "sourceLang": "en",
   "targetLang": "fr",
   "useGoogleTranslate": true
  },
  "toc": {
   "base_numbering": 1,
   "nav_menu": {},
   "number_sections": true,
   "sideBar": true,
   "skip_h1_title": false,
   "title_cell": "Table of Contents",
   "title_sidebar": "Contents",
   "toc_cell": false,
   "toc_position": {},
   "toc_section_display": true,
   "toc_window_display": false
  },
  "varInspector": {
   "cols": {
    "lenName": 16,
    "lenType": 16,
    "lenVar": 40
   },
   "kernels_config": {
    "python": {
     "delete_cmd_postfix": "",
     "delete_cmd_prefix": "del ",
     "library": "var_list.py",
     "varRefreshCmd": "print(var_dic_list())"
    },
    "r": {
     "delete_cmd_postfix": ") ",
     "delete_cmd_prefix": "rm(",
     "library": "var_list.r",
     "varRefreshCmd": "cat(var_dic_list()) "
    }
   },
   "types_to_exclude": [
    "module",
    "function",
    "builtin_function_or_method",
    "instance",
    "_Feature"
   ],
   "window_display": false
  }
 },
 "nbformat": 4,
 "nbformat_minor": 5
}
