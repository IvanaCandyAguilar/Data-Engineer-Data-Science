{
 "cells": [
  {
   "cell_type": "markdown",
   "metadata": {
    "application/vnd.databricks.v1+cell": {
     "cellMetadata": {},
     "inputWidgets": {},
     "nuid": "aa9520ed-c94c-4f40-9d39-843249510911",
     "showTitle": false,
     "title": ""
    }
   },
   "source": [
    "# Task M7 T01\n",
    "## Classification algorithm exercises"
   ]
  },
  {
   "cell_type": "markdown",
   "metadata": {
    "application/vnd.databricks.v1+cell": {
     "cellMetadata": {},
     "inputWidgets": {},
     "nuid": "00a19361-6458-4714-ad0f-119147eda649",
     "showTitle": false,
     "title": ""
    }
   },
   "source": [
    "### - Exercise 1\n",
    "\n",
    "Create at least two different classification models to try to best predict the classes in the attachment."
   ]
  },
  {
   "cell_type": "code",
   "execution_count": 6,
   "metadata": {},
   "outputs": [
    {
     "data": {
      "text/html": [
       "<div>\n",
       "<style scoped>\n",
       "    .dataframe tbody tr th:only-of-type {\n",
       "        vertical-align: middle;\n",
       "    }\n",
       "\n",
       "    .dataframe tbody tr th {\n",
       "        vertical-align: top;\n",
       "    }\n",
       "\n",
       "    .dataframe thead th {\n",
       "        text-align: right;\n",
       "    }\n",
       "</style>\n",
       "<table border=\"1\" class=\"dataframe\">\n",
       "  <thead>\n",
       "    <tr style=\"text-align: right;\">\n",
       "      <th></th>\n",
       "      <th>WineClass</th>\n",
       "      <th>Alcohol</th>\n",
       "      <th>MalicAcid</th>\n",
       "      <th>Ash</th>\n",
       "      <th>AlcalinityOfAsh</th>\n",
       "      <th>Magnesium</th>\n",
       "      <th>TotalPhenols</th>\n",
       "      <th>Flavanoids</th>\n",
       "      <th>NonflavanoidPhenols</th>\n",
       "      <th>Proanthocyanins</th>\n",
       "      <th>ColorIntensity</th>\n",
       "      <th>Hue</th>\n",
       "      <th>DilutedWines</th>\n",
       "      <th>Proline</th>\n",
       "    </tr>\n",
       "  </thead>\n",
       "  <tbody>\n",
       "    <tr>\n",
       "      <th>0</th>\n",
       "      <td>1</td>\n",
       "      <td>14.23</td>\n",
       "      <td>1.71</td>\n",
       "      <td>2.43</td>\n",
       "      <td>15.6</td>\n",
       "      <td>127</td>\n",
       "      <td>2.80</td>\n",
       "      <td>3.06</td>\n",
       "      <td>0.28</td>\n",
       "      <td>2.29</td>\n",
       "      <td>5.64</td>\n",
       "      <td>1.04</td>\n",
       "      <td>3.92</td>\n",
       "      <td>1065</td>\n",
       "    </tr>\n",
       "    <tr>\n",
       "      <th>1</th>\n",
       "      <td>1</td>\n",
       "      <td>13.20</td>\n",
       "      <td>1.78</td>\n",
       "      <td>2.14</td>\n",
       "      <td>11.2</td>\n",
       "      <td>100</td>\n",
       "      <td>2.65</td>\n",
       "      <td>2.76</td>\n",
       "      <td>0.26</td>\n",
       "      <td>1.28</td>\n",
       "      <td>4.38</td>\n",
       "      <td>1.05</td>\n",
       "      <td>3.40</td>\n",
       "      <td>1050</td>\n",
       "    </tr>\n",
       "    <tr>\n",
       "      <th>2</th>\n",
       "      <td>1</td>\n",
       "      <td>13.16</td>\n",
       "      <td>2.36</td>\n",
       "      <td>2.67</td>\n",
       "      <td>18.6</td>\n",
       "      <td>101</td>\n",
       "      <td>2.80</td>\n",
       "      <td>3.24</td>\n",
       "      <td>0.30</td>\n",
       "      <td>2.81</td>\n",
       "      <td>5.68</td>\n",
       "      <td>1.03</td>\n",
       "      <td>3.17</td>\n",
       "      <td>1185</td>\n",
       "    </tr>\n",
       "    <tr>\n",
       "      <th>3</th>\n",
       "      <td>1</td>\n",
       "      <td>14.37</td>\n",
       "      <td>1.95</td>\n",
       "      <td>2.50</td>\n",
       "      <td>16.8</td>\n",
       "      <td>113</td>\n",
       "      <td>3.85</td>\n",
       "      <td>3.49</td>\n",
       "      <td>0.24</td>\n",
       "      <td>2.18</td>\n",
       "      <td>7.80</td>\n",
       "      <td>0.86</td>\n",
       "      <td>3.45</td>\n",
       "      <td>1480</td>\n",
       "    </tr>\n",
       "    <tr>\n",
       "      <th>4</th>\n",
       "      <td>1</td>\n",
       "      <td>13.24</td>\n",
       "      <td>2.59</td>\n",
       "      <td>2.87</td>\n",
       "      <td>21.0</td>\n",
       "      <td>118</td>\n",
       "      <td>2.80</td>\n",
       "      <td>2.69</td>\n",
       "      <td>0.39</td>\n",
       "      <td>1.82</td>\n",
       "      <td>4.32</td>\n",
       "      <td>1.04</td>\n",
       "      <td>2.93</td>\n",
       "      <td>735</td>\n",
       "    </tr>\n",
       "  </tbody>\n",
       "</table>\n",
       "</div>"
      ],
      "text/plain": [
       "   WineClass  Alcohol  MalicAcid   Ash  AlcalinityOfAsh   Magnesium  \\\n",
       "0          1    14.23       1.71  2.43              15.6        127   \n",
       "1          1    13.20       1.78  2.14              11.2        100   \n",
       "2          1    13.16       2.36  2.67              18.6        101   \n",
       "3          1    14.37       1.95  2.50              16.8        113   \n",
       "4          1    13.24       2.59  2.87              21.0        118   \n",
       "\n",
       "   TotalPhenols  Flavanoids  NonflavanoidPhenols  Proanthocyanins  \\\n",
       "0          2.80        3.06                 0.28             2.29   \n",
       "1          2.65        2.76                 0.26             1.28   \n",
       "2          2.80        3.24                 0.30             2.81   \n",
       "3          3.85        3.49                 0.24             2.18   \n",
       "4          2.80        2.69                 0.39             1.82   \n",
       "\n",
       "   ColorIntensity   Hue  DilutedWines  Proline  \n",
       "0            5.64  1.04          3.92     1065  \n",
       "1            4.38  1.05          3.40     1050  \n",
       "2            5.68  1.03          3.17     1185  \n",
       "3            7.80  0.86          3.45     1480  \n",
       "4            4.32  1.04          2.93      735  "
      ]
     },
     "execution_count": 6,
     "metadata": {},
     "output_type": "execute_result"
    }
   ],
   "source": [
    "import pandas as pd\n",
    "\n",
    "col_names = ['WineClass','Alcohol','MalicAcid','Ash','AlcalinityOfAsh ','Magnesium','TotalPhenols','Flavanoids'\n",
    "             ,'NonflavanoidPhenols','Proanthocyanins','ColorIntensity','Hue','DilutedWines','Proline']      \n",
    "\n",
    "df_wines = pd.read_csv('wineData.txt', sep=',', names=col_names, header=None, index_col=False)\n",
    "df_wines.head()"
   ]
  },
  {
   "cell_type": "code",
   "execution_count": 108,
   "metadata": {},
   "outputs": [
    {
     "data": {
      "text/html": [
       "<div>\n",
       "<style scoped>\n",
       "    .dataframe tbody tr th:only-of-type {\n",
       "        vertical-align: middle;\n",
       "    }\n",
       "\n",
       "    .dataframe tbody tr th {\n",
       "        vertical-align: top;\n",
       "    }\n",
       "\n",
       "    .dataframe thead th {\n",
       "        text-align: right;\n",
       "    }\n",
       "</style>\n",
       "<table border=\"1\" class=\"dataframe\">\n",
       "  <thead>\n",
       "    <tr style=\"text-align: right;\">\n",
       "      <th></th>\n",
       "      <th>count</th>\n",
       "      <th>mean</th>\n",
       "      <th>std</th>\n",
       "      <th>min</th>\n",
       "      <th>25%</th>\n",
       "      <th>50%</th>\n",
       "      <th>75%</th>\n",
       "      <th>max</th>\n",
       "    </tr>\n",
       "  </thead>\n",
       "  <tbody>\n",
       "    <tr>\n",
       "      <th>WineClass</th>\n",
       "      <td>178.0</td>\n",
       "      <td>1.938202</td>\n",
       "      <td>0.775035</td>\n",
       "      <td>1.00</td>\n",
       "      <td>1.0000</td>\n",
       "      <td>2.000</td>\n",
       "      <td>3.0000</td>\n",
       "      <td>3.00</td>\n",
       "    </tr>\n",
       "    <tr>\n",
       "      <th>Alcohol</th>\n",
       "      <td>178.0</td>\n",
       "      <td>13.000618</td>\n",
       "      <td>0.811827</td>\n",
       "      <td>11.03</td>\n",
       "      <td>12.3625</td>\n",
       "      <td>13.050</td>\n",
       "      <td>13.6775</td>\n",
       "      <td>14.83</td>\n",
       "    </tr>\n",
       "    <tr>\n",
       "      <th>MalicAcid</th>\n",
       "      <td>178.0</td>\n",
       "      <td>2.336348</td>\n",
       "      <td>1.117146</td>\n",
       "      <td>0.74</td>\n",
       "      <td>1.6025</td>\n",
       "      <td>1.865</td>\n",
       "      <td>3.0825</td>\n",
       "      <td>5.80</td>\n",
       "    </tr>\n",
       "    <tr>\n",
       "      <th>Ash</th>\n",
       "      <td>178.0</td>\n",
       "      <td>2.366517</td>\n",
       "      <td>0.274344</td>\n",
       "      <td>1.36</td>\n",
       "      <td>2.2100</td>\n",
       "      <td>2.360</td>\n",
       "      <td>2.5575</td>\n",
       "      <td>3.23</td>\n",
       "    </tr>\n",
       "    <tr>\n",
       "      <th>AlcalinityOfAsh</th>\n",
       "      <td>178.0</td>\n",
       "      <td>19.494944</td>\n",
       "      <td>3.339564</td>\n",
       "      <td>10.60</td>\n",
       "      <td>17.2000</td>\n",
       "      <td>19.500</td>\n",
       "      <td>21.5000</td>\n",
       "      <td>30.00</td>\n",
       "    </tr>\n",
       "    <tr>\n",
       "      <th>Magnesium</th>\n",
       "      <td>178.0</td>\n",
       "      <td>99.741573</td>\n",
       "      <td>14.282484</td>\n",
       "      <td>70.00</td>\n",
       "      <td>88.0000</td>\n",
       "      <td>98.000</td>\n",
       "      <td>107.0000</td>\n",
       "      <td>162.00</td>\n",
       "    </tr>\n",
       "    <tr>\n",
       "      <th>TotalPhenols</th>\n",
       "      <td>178.0</td>\n",
       "      <td>2.295112</td>\n",
       "      <td>0.625851</td>\n",
       "      <td>0.98</td>\n",
       "      <td>1.7425</td>\n",
       "      <td>2.355</td>\n",
       "      <td>2.8000</td>\n",
       "      <td>3.88</td>\n",
       "    </tr>\n",
       "    <tr>\n",
       "      <th>Flavanoids</th>\n",
       "      <td>178.0</td>\n",
       "      <td>2.029270</td>\n",
       "      <td>0.998859</td>\n",
       "      <td>0.34</td>\n",
       "      <td>1.2050</td>\n",
       "      <td>2.135</td>\n",
       "      <td>2.8750</td>\n",
       "      <td>5.08</td>\n",
       "    </tr>\n",
       "    <tr>\n",
       "      <th>NonflavanoidPhenols</th>\n",
       "      <td>178.0</td>\n",
       "      <td>0.361854</td>\n",
       "      <td>0.124453</td>\n",
       "      <td>0.13</td>\n",
       "      <td>0.2700</td>\n",
       "      <td>0.340</td>\n",
       "      <td>0.4375</td>\n",
       "      <td>0.66</td>\n",
       "    </tr>\n",
       "    <tr>\n",
       "      <th>Proanthocyanins</th>\n",
       "      <td>178.0</td>\n",
       "      <td>1.590899</td>\n",
       "      <td>0.572359</td>\n",
       "      <td>0.41</td>\n",
       "      <td>1.2500</td>\n",
       "      <td>1.555</td>\n",
       "      <td>1.9500</td>\n",
       "      <td>3.58</td>\n",
       "    </tr>\n",
       "    <tr>\n",
       "      <th>ColorIntensity</th>\n",
       "      <td>178.0</td>\n",
       "      <td>5.058090</td>\n",
       "      <td>2.318286</td>\n",
       "      <td>1.28</td>\n",
       "      <td>3.2200</td>\n",
       "      <td>4.690</td>\n",
       "      <td>6.2000</td>\n",
       "      <td>13.00</td>\n",
       "    </tr>\n",
       "    <tr>\n",
       "      <th>Hue</th>\n",
       "      <td>178.0</td>\n",
       "      <td>0.957449</td>\n",
       "      <td>0.228572</td>\n",
       "      <td>0.48</td>\n",
       "      <td>0.7825</td>\n",
       "      <td>0.965</td>\n",
       "      <td>1.1200</td>\n",
       "      <td>1.71</td>\n",
       "    </tr>\n",
       "    <tr>\n",
       "      <th>DilutedWines</th>\n",
       "      <td>178.0</td>\n",
       "      <td>2.611685</td>\n",
       "      <td>0.709990</td>\n",
       "      <td>1.27</td>\n",
       "      <td>1.9375</td>\n",
       "      <td>2.780</td>\n",
       "      <td>3.1700</td>\n",
       "      <td>4.00</td>\n",
       "    </tr>\n",
       "    <tr>\n",
       "      <th>Proline</th>\n",
       "      <td>178.0</td>\n",
       "      <td>746.893258</td>\n",
       "      <td>314.907474</td>\n",
       "      <td>278.00</td>\n",
       "      <td>500.5000</td>\n",
       "      <td>673.500</td>\n",
       "      <td>985.0000</td>\n",
       "      <td>1680.00</td>\n",
       "    </tr>\n",
       "  </tbody>\n",
       "</table>\n",
       "</div>"
      ],
      "text/plain": [
       "                     count        mean         std     min       25%      50%  \\\n",
       "WineClass            178.0    1.938202    0.775035    1.00    1.0000    2.000   \n",
       "Alcohol              178.0   13.000618    0.811827   11.03   12.3625   13.050   \n",
       "MalicAcid            178.0    2.336348    1.117146    0.74    1.6025    1.865   \n",
       "Ash                  178.0    2.366517    0.274344    1.36    2.2100    2.360   \n",
       "AlcalinityOfAsh      178.0   19.494944    3.339564   10.60   17.2000   19.500   \n",
       "Magnesium            178.0   99.741573   14.282484   70.00   88.0000   98.000   \n",
       "TotalPhenols         178.0    2.295112    0.625851    0.98    1.7425    2.355   \n",
       "Flavanoids           178.0    2.029270    0.998859    0.34    1.2050    2.135   \n",
       "NonflavanoidPhenols  178.0    0.361854    0.124453    0.13    0.2700    0.340   \n",
       "Proanthocyanins      178.0    1.590899    0.572359    0.41    1.2500    1.555   \n",
       "ColorIntensity       178.0    5.058090    2.318286    1.28    3.2200    4.690   \n",
       "Hue                  178.0    0.957449    0.228572    0.48    0.7825    0.965   \n",
       "DilutedWines         178.0    2.611685    0.709990    1.27    1.9375    2.780   \n",
       "Proline              178.0  746.893258  314.907474  278.00  500.5000  673.500   \n",
       "\n",
       "                          75%      max  \n",
       "WineClass              3.0000     3.00  \n",
       "Alcohol               13.6775    14.83  \n",
       "MalicAcid              3.0825     5.80  \n",
       "Ash                    2.5575     3.23  \n",
       "AlcalinityOfAsh       21.5000    30.00  \n",
       "Magnesium            107.0000   162.00  \n",
       "TotalPhenols           2.8000     3.88  \n",
       "Flavanoids             2.8750     5.08  \n",
       "NonflavanoidPhenols    0.4375     0.66  \n",
       "Proanthocyanins        1.9500     3.58  \n",
       "ColorIntensity         6.2000    13.00  \n",
       "Hue                    1.1200     1.71  \n",
       "DilutedWines           3.1700     4.00  \n",
       "Proline              985.0000  1680.00  "
      ]
     },
     "execution_count": 108,
     "metadata": {},
     "output_type": "execute_result"
    }
   ],
   "source": [
    "df_wines.describe().transpose()"
   ]
  },
  {
   "cell_type": "markdown",
   "metadata": {},
   "source": [
    "Divide los datos en conjuntos de entrenamiento y prueba"
   ]
  },
  {
   "cell_type": "code",
   "execution_count": 109,
   "metadata": {},
   "outputs": [
    {
     "name": "stdout",
     "output_type": "stream",
     "text": [
      "(142, 13)\n",
      "(36, 13)\n"
     ]
    }
   ],
   "source": [
    "from sklearn.model_selection import train_test_split\n",
    "\n",
    "X = df_wines.drop('WineClass', axis=1)  \n",
    "y = df_wines['WineClass']\n",
    "\n",
    "X_train, X_test, y_train, y_test = train_test_split(X, y, test_size=0.2, random_state=42)\n",
    "print(X_train.shape); print(X_test.shape)"
   ]
  },
  {
   "cell_type": "markdown",
   "metadata": {},
   "source": [
    "#### Model 1: Tree Decision Classifier"
   ]
  },
  {
   "cell_type": "markdown",
   "metadata": {},
   "source": [
    "Entrena el árbol de decisión"
   ]
  },
  {
   "cell_type": "code",
   "execution_count": 101,
   "metadata": {},
   "outputs": [
    {
     "data": {
      "text/plain": [
       "DecisionTreeClassifier()"
      ]
     },
     "execution_count": 101,
     "metadata": {},
     "output_type": "execute_result"
    }
   ],
   "source": [
    "from sklearn.tree import DecisionTreeClassifier, export_graphviz\n",
    "\n",
    "clf_tree = DecisionTreeClassifier()\n",
    "clf_tree.fit(X_train, y_train)"
   ]
  },
  {
   "cell_type": "code",
   "execution_count": 95,
   "metadata": {},
   "outputs": [
    {
     "name": "stdout",
     "output_type": "stream",
     "text": [
      "Unique classes: [1 2 3]\n"
     ]
    },
    {
     "data": {
      "image/png": "[encoded data removed]",
      "text/plain": [
       "<IPython.core.display.Image object>"
      ]
     },
     "execution_count": 95,
     "metadata": {},
     "output_type": "execute_result"
    }
   ],
   "source": [
    "import pydotplus\n",
    "import graphviz\n",
    "from IPython.display import Image\n",
    "\n",
    "feature_cols = X.columns\n",
    "\n",
    "unique_classes = y.unique()\n",
    "print(\"Unique classes:\", unique_classes)\n",
    "\n",
    "class_names = [str(cls) for cls in unique_classes]\n",
    "\n",
    "dot_data = export_graphviz(clf_tree, out_file=None,\n",
    "                           feature_names=feature_cols,\n",
    "                           class_names=class_names,\n",
    "                           filled=True, rounded=True,\n",
    "                           special_characters=True)\n",
    "\n",
    "graph = pydotplus.graph_from_dot_data(dot_data)\n",
    "graph.write_png('tree_graph.png')\n",
    "Image(graph.create_png())"
   ]
  },
  {
   "cell_type": "markdown",
   "metadata": {},
   "source": [
    "#### Model 2: Random Forest"
   ]
  },
  {
   "cell_type": "code",
   "execution_count": 77,
   "metadata": {},
   "outputs": [
    {
     "data": {
      "text/plain": [
       "RandomForestClassifier()"
      ]
     },
     "execution_count": 77,
     "metadata": {},
     "output_type": "execute_result"
    }
   ],
   "source": [
    "from sklearn.ensemble import RandomForestClassifier\n",
    "\n",
    "clf_rf = RandomForestClassifier()\n",
    "clf_rf.fit(X_train, y_train)"
   ]
  },
  {
   "cell_type": "markdown",
   "metadata": {
    "application/vnd.databricks.v1+cell": {
     "cellMetadata": {},
     "inputWidgets": {},
     "nuid": "fe4e9eb6-e213-4724-a552-ca93228ba3d5",
     "showTitle": false,
     "title": ""
    }
   },
   "source": [
    "#### - Exercise 2\n",
    "Compare classification models using accuracy, a confusion matrix and other more advanced metrics."
   ]
  },
  {
   "cell_type": "markdown",
   "metadata": {},
   "source": [
    "Muestra los informes de clasificación"
   ]
  },
  {
   "cell_type": "code",
   "execution_count": 78,
   "metadata": {},
   "outputs": [
    {
     "name": "stdout",
     "output_type": "stream",
     "text": [
      "DecisionTree model:\n",
      "Accuracy: 0.9444444444444444\n",
      "Confusion Matrix:\n",
      "[[13  1  0]\n",
      " [ 0 14  0]\n",
      " [ 0  1  7]]\n",
      "Classification Report:\n",
      "              precision    recall  f1-score   support\n",
      "\n",
      "           1       1.00      0.93      0.96        14\n",
      "           2       0.88      1.00      0.93        14\n",
      "           3       1.00      0.88      0.93         8\n",
      "\n",
      "    accuracy                           0.94        36\n",
      "   macro avg       0.96      0.93      0.94        36\n",
      "weighted avg       0.95      0.94      0.94        36\n",
      "\n",
      "\n",
      "\n",
      "RandomForest model:\n",
      "Accuracy: 1.0\n",
      "Confusion Matrix:\n",
      "[[14  0  0]\n",
      " [ 0 14  0]\n",
      " [ 0  0  8]]\n",
      "Classification Report:\n",
      "              precision    recall  f1-score   support\n",
      "\n",
      "           1       1.00      1.00      1.00        14\n",
      "           2       1.00      1.00      1.00        14\n",
      "           3       1.00      1.00      1.00         8\n",
      "\n",
      "    accuracy                           1.00        36\n",
      "   macro avg       1.00      1.00      1.00        36\n",
      "weighted avg       1.00      1.00      1.00        36\n",
      "\n",
      "\n",
      "\n",
      "SVM model:\n",
      "Accuracy: 0.8055555555555556\n",
      "Confusion Matrix:\n",
      "[[14  0  0]\n",
      " [ 0 11  3]\n",
      " [ 0  4  4]]\n",
      "Classification Report:\n",
      "              precision    recall  f1-score   support\n",
      "\n",
      "           1       1.00      1.00      1.00        14\n",
      "           2       0.73      0.79      0.76        14\n",
      "           3       0.57      0.50      0.53         8\n",
      "\n",
      "    accuracy                           0.81        36\n",
      "   macro avg       0.77      0.76      0.76        36\n",
      "weighted avg       0.80      0.81      0.80        36\n",
      "\n",
      "\n",
      "\n",
      "KNN model:\n",
      "Accuracy: 0.7222222222222222\n",
      "Confusion Matrix:\n",
      "[[12  0  2]\n",
      " [ 0 11  3]\n",
      " [ 2  3  3]]\n",
      "Classification Report:\n",
      "              precision    recall  f1-score   support\n",
      "\n",
      "           1       0.86      0.86      0.86        14\n",
      "           2       0.79      0.79      0.79        14\n",
      "           3       0.38      0.38      0.38         8\n",
      "\n",
      "    accuracy                           0.72        36\n",
      "   macro avg       0.67      0.67      0.67        36\n",
      "weighted avg       0.72      0.72      0.72        36\n",
      "\n",
      "\n",
      "\n"
     ]
    }
   ],
   "source": [
    "from sklearn.metrics import accuracy_score, confusion_matrix, classification_report\n",
    "from sklearn.tree import DecisionTreeClassifier\n",
    "from sklearn.ensemble import RandomForestClassifier\n",
    "from sklearn.svm import SVC\n",
    "from sklearn.neighbors import KNeighborsClassifier\n",
    "\n",
    "\n",
    "models = {\n",
    "    'DecisionTree': DecisionTreeClassifier(),\n",
    "    'RandomForest': RandomForestClassifier(),\n",
    "    'SVM': SVC(),\n",
    "    'KNN': KNeighborsClassifier()\n",
    "}\n",
    "\n",
    "for name, model in models.items():\n",
    "    model.fit(X_train, y_train)\n",
    "    \n",
    "    y_pred = model.predict(X_test)\n",
    "    \n",
    "    accuracy = accuracy_score(y_test, y_pred)\n",
    "    \n",
    "    confusion = confusion_matrix(y_test, y_pred)\n",
    "    \n",
    "    report = classification_report(y_test, y_pred)\n",
    "    \n",
    "    print(f\"{name} model:\")\n",
    "    print(f\"Accuracy: {accuracy}\")\n",
    "    print(f\"Confusion Matrix:\\n{confusion}\")\n",
    "    print(f\"Classification Report:\\n{report}\")\n",
    "    print(\"\\n\")"
   ]
  },
  {
   "cell_type": "markdown",
   "metadata": {},
   "source": [
    "It can be seen that the Random Forest model has the best precision (Accuracy) of all the models, with a value of 1.0. This indicates that the model has a very high ability to correctly predict the class of an unknown sample. On the other hand, the SVM model has an acceptable precision of 0.81, while the Decision Tree and KNN models have a lower precision with values of 0.94 and 0.72 respectively.\n",
    "\n",
    "In terms of the confusion matrix, the Random Forest model correctly predicts all classes in the test samples, which means there are no false positives and no false negatives. The SVM model also performs well, although it misclassifies some samples in class 3. The Decision Tree and KNN models have more significant errors in class 3 prediction.\n",
    "\n",
    "In this case, the **Random Forest model** seems to be the best option due to its high precision and ability to correctly predict all classes."
   ]
  },
  {
   "cell_type": "markdown",
   "metadata": {
    "application/vnd.databricks.v1+cell": {
     "cellMetadata": {},
     "inputWidgets": {},
     "nuid": "a7355bed-a91e-4c63-9136-51b86f1b3d40",
     "showTitle": false,
     "title": ""
    }
   },
   "source": [
    "#### - Exercise 3\n",
    "Train them using the different parameters they support in order to improve their prediction. "
   ]
  },
  {
   "cell_type": "code",
   "execution_count": 79,
   "metadata": {},
   "outputs": [],
   "source": [
    "import pandas as pd\n",
    "import numpy as np\n",
    "from sklearn.model_selection import train_test_split, GridSearchCV\n",
    "from sklearn.metrics import accuracy_score, classification_report\n",
    "from sklearn.tree import DecisionTreeClassifier\n",
    "from sklearn.ensemble import RandomForestClassifier\n",
    "from sklearn.svm import SVC\n",
    "from sklearn.neighbors import KNeighborsClassifier"
   ]
  },
  {
   "cell_type": "code",
   "execution_count": 80,
   "metadata": {},
   "outputs": [],
   "source": [
    "models = {\n",
    "    'DecisionTree': {\n",
    "        'model': DecisionTreeClassifier(),\n",
    "        'params': {\n",
    "            'criterion': ['gini', 'entropy'],\n",
    "            'max_depth': [3, 5, 7, 9, 11, None]\n",
    "        }\n",
    "    },\n",
    "    'RandomForest': {\n",
    "        'model': RandomForestClassifier(),\n",
    "        'params': {\n",
    "            'n_estimators': [10, 50, 100, 200],\n",
    "            'criterion': ['gini', 'entropy'],\n",
    "            'max_depth': [3, 5, 7, 9, 11, None]\n",
    "        }\n",
    "    },\n",
    "    'SVM': {\n",
    "        'model': SVC(),\n",
    "        'params': {\n",
    "            'C': [0.1, 1, 10, 100],\n",
    "            'kernel': ['linear', 'rbf', 'poly'],\n",
    "            'degree': [2, 3, 4]\n",
    "        }\n",
    "    },\n",
    "    'KNN': {\n",
    "        'model': KNeighborsClassifier(),\n",
    "        'params': {\n",
    "            'n_neighbors': [3, 5, 7, 9, 11],\n",
    "            'weights': ['uniform', 'distance'],\n",
    "            'p': [1, 2]\n",
    "        }\n",
    "    }\n",
    "}"
   ]
  },
  {
   "cell_type": "code",
   "execution_count": 81,
   "metadata": {},
   "outputs": [
    {
     "name": "stdout",
     "output_type": "stream",
     "text": [
      "DecisionTree model with best parameters:\n",
      "{'criterion': 'gini', 'max_depth': 3}\n",
      "RandomForest model with best parameters:\n",
      "{'criterion': 'gini', 'max_depth': 11, 'n_estimators': 10}\n",
      "SVM model with best parameters:\n",
      "{'C': 0.1, 'degree': 2, 'kernel': 'linear'}\n",
      "KNN model with best parameters:\n",
      "{'n_neighbors': 9, 'p': 1, 'weights': 'distance'}\n"
     ]
    }
   ],
   "source": [
    "for name, model_info in models.items():\n",
    "    grid_search = GridSearchCV(model_info['model'], model_info['params'], cv=5)\n",
    "    grid_search.fit(X_train, y_train)\n",
    "    \n",
    "    best_model = grid_search.best_estimator_\n",
    "    best_model.fit(X_train, y_train)\n",
    "    \n",
    "    y_pred = best_model.predict(X_test)\n",
    "    \n",
    "    accuracy = accuracy_score(y_test, y_pred)\n",
    "    report = classification_report(y_test, y_pred)\n",
    "    \n",
    "    print(f\"{name} model with best parameters:\")\n",
    "    print(grid_search.best_params_)"
   ]
  },
  {
   "cell_type": "code",
   "execution_count": 52,
   "metadata": {},
   "outputs": [
    {
     "name": "stdout",
     "output_type": "stream",
     "text": [
      "DecisionTree model:\n",
      "Accuracy: 0.9444444444444444\n",
      "Confusion Matrix:\n",
      "[[13  1  0]\n",
      " [ 0 14  0]\n",
      " [ 0  1  7]]\n",
      "Classification Report:\n",
      "              precision    recall  f1-score   support\n",
      "\n",
      "           1       1.00      0.93      0.96        14\n",
      "           2       0.88      1.00      0.93        14\n",
      "           3       1.00      0.88      0.93         8\n",
      "\n",
      "    accuracy                           0.94        36\n",
      "   macro avg       0.96      0.93      0.94        36\n",
      "weighted avg       0.95      0.94      0.94        36\n",
      "\n",
      "\n",
      "\n",
      "RandomForest model:\n",
      "Accuracy: 1.0\n",
      "Confusion Matrix:\n",
      "[[14  0  0]\n",
      " [ 0 14  0]\n",
      " [ 0  0  8]]\n",
      "Classification Report:\n",
      "              precision    recall  f1-score   support\n",
      "\n",
      "           1       1.00      1.00      1.00        14\n",
      "           2       1.00      1.00      1.00        14\n",
      "           3       1.00      1.00      1.00         8\n",
      "\n",
      "    accuracy                           1.00        36\n",
      "   macro avg       1.00      1.00      1.00        36\n",
      "weighted avg       1.00      1.00      1.00        36\n",
      "\n",
      "\n",
      "\n",
      "SVM model:\n",
      "Accuracy: 1.0\n",
      "Confusion Matrix:\n",
      "[[14  0  0]\n",
      " [ 0 14  0]\n",
      " [ 0  0  8]]\n",
      "Classification Report:\n",
      "              precision    recall  f1-score   support\n",
      "\n",
      "           1       1.00      1.00      1.00        14\n",
      "           2       1.00      1.00      1.00        14\n",
      "           3       1.00      1.00      1.00         8\n",
      "\n",
      "    accuracy                           1.00        36\n",
      "   macro avg       1.00      1.00      1.00        36\n",
      "weighted avg       1.00      1.00      1.00        36\n",
      "\n",
      "\n",
      "\n",
      "KNN model:\n",
      "Accuracy: 0.8055555555555556\n",
      "Confusion Matrix:\n",
      "[[12  0  2]\n",
      " [ 0 11  3]\n",
      " [ 1  1  6]]\n",
      "Classification Report:\n",
      "              precision    recall  f1-score   support\n",
      "\n",
      "           1       0.92      0.86      0.89        14\n",
      "           2       0.92      0.79      0.85        14\n",
      "           3       0.55      0.75      0.63         8\n",
      "\n",
      "    accuracy                           0.81        36\n",
      "   macro avg       0.80      0.80      0.79        36\n",
      "weighted avg       0.84      0.81      0.82        36\n",
      "\n",
      "\n",
      "\n"
     ]
    }
   ],
   "source": [
    "from sklearn.metrics import accuracy_score, confusion_matrix, classification_report\n",
    "from sklearn.tree import DecisionTreeClassifier\n",
    "from sklearn.ensemble import RandomForestClassifier\n",
    "from sklearn.svm import SVC\n",
    "from sklearn.neighbors import KNeighborsClassifier\n",
    "\n",
    "models = {\n",
    "    'DecisionTree': DecisionTreeClassifier(criterion='gini', max_depth=3),\n",
    "    'RandomForest': RandomForestClassifier(criterion='entropy', max_depth=9, n_estimators=100),\n",
    "    'SVM': SVC(C=0.1, degree=2, kernel='linear'),\n",
    "    'KNN': KNeighborsClassifier(n_neighbors=9, p=1, weights='distance')\n",
    "}\n",
    "\n",
    "for name, model in models.items():\n",
    "    model.fit(X_train, y_train)   \n",
    "    y_pred = model.predict(X_test)    \n",
    "    accuracy = accuracy_score(y_test, y_pred)    \n",
    "    confusion = confusion_matrix(y_test, y_pred)    \n",
    "    report = classification_report(y_test, y_pred)    \n",
    "    print(f\"{name} model:\")\n",
    "    print(f\"Accuracy: {accuracy}\")\n",
    "    print(f\"Confusion Matrix:\\n{confusion}\")\n",
    "    print(f\"Classification Report:\\n{report}\")\n",
    "    print(\"\\n\")\n"
   ]
  },
  {
   "cell_type": "markdown",
   "metadata": {},
   "source": [
    "It can be seen that the DecisionTree, RandomForest and SVM models improved their classification accuracy to 1.0, which means that they correctly classified all instances in the test set. On the other hand, the KNN model remained accurate to 0.805, but improved the accuracy in class 3, which previously had a low f1-score, to 0.63.\n",
    "\n",
    "It can be said that in general, the models improved in the classification of the instances in the test set."
   ]
  },
  {
   "cell_type": "markdown",
   "metadata": {
    "application/vnd.databricks.v1+cell": {
     "cellMetadata": {},
     "inputWidgets": {},
     "nuid": "70b0f4a7-11f5-489e-b3ac-74b90a19a021",
     "showTitle": false,
     "title": ""
    }
   },
   "source": [
    "#### - Exercise 4\n",
    "Compare their performance using the traint/test or cross-validation approach."
   ]
  },
  {
   "cell_type": "markdown",
   "metadata": {},
   "source": [
    "##### TRAIN-TEST"
   ]
  },
  {
   "cell_type": "code",
   "execution_count": 53,
   "metadata": {},
   "outputs": [],
   "source": [
    "from sklearn.model_selection import train_test_split, cross_val_score"
   ]
  },
  {
   "cell_type": "code",
   "execution_count": 54,
   "metadata": {},
   "outputs": [],
   "source": [
    "models = {\n",
    "    'DecisionTree': DecisionTreeClassifier(criterion='gini', max_depth=3),\n",
    "    'RandomForest': RandomForestClassifier(criterion='entropy', max_depth=9, n_estimators=100),\n",
    "    'SVM': SVC(C=0.1, degree=2, kernel='linear'),\n",
    "    'KNN': KNeighborsClassifier(n_neighbors=9, p=1, weights='distance')\n",
    "}"
   ]
  },
  {
   "cell_type": "code",
   "execution_count": 55,
   "metadata": {},
   "outputs": [
    {
     "name": "stdout",
     "output_type": "stream",
     "text": [
      "DecisionTree model:\n",
      "Accuracy (train/test): 0.9444444444444444\n",
      "\n",
      "\n",
      "RandomForest model:\n",
      "Accuracy (train/test): 1.0\n",
      "\n",
      "\n",
      "SVM model:\n",
      "Accuracy (train/test): 1.0\n",
      "\n",
      "\n",
      "KNN model:\n",
      "Accuracy (train/test): 0.8055555555555556\n",
      "\n",
      "\n"
     ]
    }
   ],
   "source": [
    "for name, model in models.items():\n",
    "    model.fit(X_train, y_train)\n",
    "    \n",
    "    y_pred = model.predict(X_test)\n",
    "    \n",
    "    accuracy = accuracy_score(y_test, y_pred)\n",
    "    \n",
    "    print(f\"{name} model:\")\n",
    "    print(f\"Accuracy (train/test): {accuracy}\")\n",
    "    print(\"\\n\")\n"
   ]
  },
  {
   "cell_type": "markdown",
   "metadata": {},
   "source": [
    "It can be seen that in the four models there is a good ability to generalize the data and that the models are not overfitting. The Random Forest and SVM models achieve 100% accuracy on the training and test set, which suggests that they are capturing the variability of the data well. On the other hand, the KNN model shows lower precision on the test set, which may indicate that the model is having difficulty generalizing the data. In general, all models seem to be suitable."
   ]
  },
  {
   "cell_type": "markdown",
   "metadata": {},
   "source": [
    "##### CROSS VALIDATION"
   ]
  },
  {
   "cell_type": "code",
   "execution_count": 57,
   "metadata": {},
   "outputs": [
    {
     "name": "stdout",
     "output_type": "stream",
     "text": [
      "DecisionTree model:\n",
      "Average accuracy (cross-validation): 0.8765079365079366\n",
      "\n",
      "\n",
      "RandomForest model:\n",
      "Average accuracy (cross-validation): 0.9663492063492063\n",
      "\n",
      "\n",
      "SVM model:\n",
      "Average accuracy (cross-validation): 0.961111111111111\n",
      "\n",
      "\n",
      "KNN model:\n",
      "Average accuracy (cross-validation): 0.7758730158730158\n",
      "\n",
      "\n"
     ]
    }
   ],
   "source": [
    "cv = 5  \n",
    "\n",
    "for name, model in models.items():\n",
    "    cv_accuracy = np.mean(cross_val_score(model, X, y, cv=cv))\n",
    "    \n",
    "    print(f\"{name} model:\")\n",
    "    print(f\"Average accuracy (cross-validation): {cv_accuracy}\")\n",
    "    print(\"\\n\")\n"
   ]
  },
  {
   "cell_type": "markdown",
   "metadata": {},
   "source": [
    "Using cross-validation, we can evaluate the performance of the models on multiple iterations of splitting the data into training and testing sets. The results are averaged to give an estimate of the model's generalization performance. We can see that the RandomForest and SVM models have the highest average accuracies on cross-validation, while the DecisionTree and KNN models have slightly lower average accuracies.\n",
    "\n",
    "Overall, cross-validation provides a more reliable estimate of a model's performance compared to a single train/test split, as it allows us to assess the model's ability to generalize to new, unseen data."
   ]
  },
  {
   "cell_type": "markdown",
   "metadata": {},
   "source": [
    "#### - Exercise 5\n",
    "Apply some engineering process to improve the results (normalization, standardization, sampling...)"
   ]
  },
  {
   "cell_type": "code",
   "execution_count": 9,
   "metadata": {},
   "outputs": [
    {
     "name": "stdout",
     "output_type": "stream",
     "text": [
      "DecisionTree model:\n",
      "Accuracy: 0.9629629629629629\n",
      "Confusion Matrix:\n",
      "[[18  1  0]\n",
      " [ 0 21  0]\n",
      " [ 1  0 13]]\n",
      "Classification Report:\n",
      "              precision    recall  f1-score   support\n",
      "\n",
      "           1       0.95      0.95      0.95        19\n",
      "           2       0.95      1.00      0.98        21\n",
      "           3       1.00      0.93      0.96        14\n",
      "\n",
      "    accuracy                           0.96        54\n",
      "   macro avg       0.97      0.96      0.96        54\n",
      "weighted avg       0.96      0.96      0.96        54\n",
      "\n",
      "\n",
      "\n",
      "RandomForest model:\n",
      "Accuracy: 1.0\n",
      "Confusion Matrix:\n",
      "[[19  0  0]\n",
      " [ 0 21  0]\n",
      " [ 0  0 14]]\n",
      "Classification Report:\n",
      "              precision    recall  f1-score   support\n",
      "\n",
      "           1       1.00      1.00      1.00        19\n",
      "           2       1.00      1.00      1.00        21\n",
      "           3       1.00      1.00      1.00        14\n",
      "\n",
      "    accuracy                           1.00        54\n",
      "   macro avg       1.00      1.00      1.00        54\n",
      "weighted avg       1.00      1.00      1.00        54\n",
      "\n",
      "\n",
      "\n",
      "SVM model:\n",
      "Accuracy: 0.9814814814814815\n",
      "Confusion Matrix:\n",
      "[[19  0  0]\n",
      " [ 0 21  0]\n",
      " [ 0  1 13]]\n",
      "Classification Report:\n",
      "              precision    recall  f1-score   support\n",
      "\n",
      "           1       1.00      1.00      1.00        19\n",
      "           2       0.95      1.00      0.98        21\n",
      "           3       1.00      0.93      0.96        14\n",
      "\n",
      "    accuracy                           0.98        54\n",
      "   macro avg       0.98      0.98      0.98        54\n",
      "weighted avg       0.98      0.98      0.98        54\n",
      "\n",
      "\n",
      "\n",
      "KNN model:\n",
      "Accuracy: 0.9629629629629629\n",
      "Confusion Matrix:\n",
      "[[19  0  0]\n",
      " [ 1 19  1]\n",
      " [ 0  0 14]]\n",
      "Classification Report:\n",
      "              precision    recall  f1-score   support\n",
      "\n",
      "           1       0.95      1.00      0.97        19\n",
      "           2       1.00      0.90      0.95        21\n",
      "           3       0.93      1.00      0.97        14\n",
      "\n",
      "    accuracy                           0.96        54\n",
      "   macro avg       0.96      0.97      0.96        54\n",
      "weighted avg       0.97      0.96      0.96        54\n",
      "\n",
      "\n",
      "\n"
     ]
    }
   ],
   "source": [
    "from sklearn.metrics import accuracy_score, confusion_matrix, classification_report\n",
    "from sklearn.tree import DecisionTreeClassifier\n",
    "from sklearn.ensemble import RandomForestClassifier\n",
    "from sklearn.svm import SVC\n",
    "from sklearn.neighbors import KNeighborsClassifier\n",
    "from sklearn.preprocessing import StandardScaler\n",
    "from sklearn.preprocessing import MinMaxScaler\n",
    "from sklearn.model_selection import train_test_split\n",
    "\n",
    "X = df_wines.drop('WineClass', axis=1)\n",
    "y = df_wines['WineClass']\n",
    "\n",
    "scaler = StandardScaler()\n",
    "X = scaler.fit_transform(X)\n",
    "\n",
    "X_train, X_test, y_train, y_test = train_test_split(X, y, test_size=0.3, random_state=42)\n",
    "\n",
    "\n",
    "models = {\n",
    "    'DecisionTree': DecisionTreeClassifier(),\n",
    "    'RandomForest': RandomForestClassifier(),\n",
    "    'SVM': SVC(),\n",
    "    'KNN': KNeighborsClassifier()\n",
    "}\n",
    "\n",
    "for name, model in models.items():\n",
    "    model.fit(X_train, y_train)\n",
    "    \n",
    "    y_pred = model.predict(X_test)\n",
    "    \n",
    "    accuracy = accuracy_score(y_test, y_pred)\n",
    "    \n",
    "    confusion = confusion_matrix(y_test, y_pred)\n",
    "    \n",
    "    report = classification_report(y_test, y_pred)\n",
    "    \n",
    "    print(f\"{name} model:\")\n",
    "    print(f\"Accuracy: {accuracy}\")\n",
    "    print(f\"Confusion Matrix:\\n{confusion}\")\n",
    "    print(f\"Classification Report:\\n{report}\")\n",
    "    print(\"\\n\")"
   ]
  },
  {
   "cell_type": "markdown",
   "metadata": {},
   "source": [
    "After standardizing and normalizing the data, it can be seen that the accuracy of the DecisionTree, RandomForest, and SVM models did not change, indicating that these models are not sensitive to changes in the scale of the data. However, the accuracy of the KNN model improved from 0.72 to 0.96. This may indicate that the KNN model is sensitive to the scale of the data and normalization improved its performance."
   ]
  },
  {
   "cell_type": "code",
   "execution_count": null,
   "metadata": {},
   "outputs": [],
   "source": []
  }
 ],
 "metadata": {
  "application/vnd.databricks.v1+notebook": {
   "dashboards": [],
   "language": "python",
   "notebookMetadata": {
    "pythonIndentUnit": 4
   },
   "notebookName": "Task M2 T01",
   "notebookOrigID": 4067634730807463,
   "widgets": {}
  },
  "hide_input": false,
  "kernelspec": {
   "display_name": "Python 3 (ipykernel)",
   "language": "python",
   "name": "python3"
  },
  "language_info": {
   "codemirror_mode": {
    "name": "ipython",
    "version": 3
   },
   "file_extension": ".py",
   "mimetype": "text/x-python",
   "name": "python",
   "nbconvert_exporter": "python",
   "pygments_lexer": "ipython3",
   "version": "3.9.12"
  },
  "nbTranslate": {
   "displayLangs": [
    "*"
   ],
   "hotkey": "alt-t",
   "langInMainMenu": true,
   "sourceLang": "en",
   "targetLang": "fr",
   "useGoogleTranslate": true
  },
  "toc": {
   "base_numbering": 1,
   "nav_menu": {},
   "number_sections": true,
   "sideBar": true,
   "skip_h1_title": false,
   "title_cell": "Table of Contents",
   "title_sidebar": "Contents",
   "toc_cell": false,
   "toc_position": {},
   "toc_section_display": true,
   "toc_window_display": false
  },
  "varInspector": {
   "cols": {
    "lenName": 16,
    "lenType": 16,
    "lenVar": 40
   },
   "kernels_config": {
    "python": {
     "delete_cmd_postfix": "",
     "delete_cmd_prefix": "del ",
     "library": "var_list.py",
     "varRefreshCmd": "print(var_dic_list())"
    },
    "r": {
     "delete_cmd_postfix": ") ",
     "delete_cmd_prefix": "rm(",
     "library": "var_list.r",
     "varRefreshCmd": "cat(var_dic_list()) "
    }
   },
   "types_to_exclude": [
    "module",
    "function",
    "builtin_function_or_method",
    "instance",
    "_Feature"
   ],
   "window_display": false
  }
 },
 "nbformat": 4,
 "nbformat_minor": 1
}
