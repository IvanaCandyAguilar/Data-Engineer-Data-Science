{
 "cells": [
  {
   "cell_type": "markdown",
   "metadata": {
    "application/vnd.databricks.v1+cell": {
     "cellMetadata": {},
     "inputWidgets": {},
     "nuid": "aa9520ed-c94c-4f40-9d39-843249510911",
     "showTitle": false,
     "title": ""
    }
   },
   "source": [
    "# Task M2 T01\n",
    "## Data structures exercises with Python"
   ]
  },
  {
   "cell_type": "markdown",
   "metadata": {
    "application/vnd.databricks.v1+cell": {
     "cellMetadata": {},
     "inputWidgets": {},
     "nuid": "00a19361-6458-4714-ad0f-119147eda649",
     "showTitle": false,
     "title": ""
    }
   },
   "source": [
    "#### - Exercise 1\n",
    "\n",
    "Create a list that groups the months of the year into quarters (Q1: January, February and March; Q2: April, May, June...), that is, a list with 4 lists inside."
   ]
  },
  {
   "cell_type": "code",
   "execution_count": 1,
   "metadata": {
    "application/vnd.databricks.v1+cell": {
     "cellMetadata": {},
     "inputWidgets": {},
     "nuid": "37053a21-351a-4ce4-93d8-330fae5eaa6f",
     "showTitle": false,
     "title": ""
    }
   },
   "outputs": [
    {
     "name": "stdout",
     "output_type": "stream",
     "text": [
      "[['January', 'February', 'March'], ['April', 'May', 'June'], ['July', 'August', 'September'], ['October', 'November', 'December']]\n"
     ]
    }
   ],
   "source": [
    "Q1 = [\"January\",\"February\",\"March\"]\n",
    "Q2 = [\"April\",\"May\",\"June\"]\n",
    "Q3 = [\"July\",\"August\",\"September\"]\n",
    "Q4 = [\"October\",\"November\",\"December\"]\n",
    "\n",
    "Year = [Q1,Q2,Q3,Q4]\n",
    "\n",
    "print (Year)"
   ]
  },
  {
   "cell_type": "markdown",
   "metadata": {
    "application/vnd.databricks.v1+cell": {
     "cellMetadata": {},
     "inputWidgets": {},
     "nuid": "fe4e9eb6-e213-4724-a552-ca93228ba3d5",
     "showTitle": false,
     "title": ""
    }
   },
   "source": [
    "#### - Exercise 2\n",
    "Create a code that gives you access to:\n",
    "\n",
    "+ The second month of the first trimester.\n",
    "+ The months of the first quarter.\n",
    "+ September and October."
   ]
  },
  {
   "cell_type": "code",
   "execution_count": 2,
   "metadata": {
    "application/vnd.databricks.v1+cell": {
     "cellMetadata": {},
     "inputWidgets": {},
     "nuid": "ccf392db-5bc2-4a72-a02f-7e9252d2721c",
     "showTitle": false,
     "title": ""
    }
   },
   "outputs": [
    {
     "name": "stdout",
     "output_type": "stream",
     "text": [
      "The second month of the first trimester is: February\n",
      "The months of the first quarter are: ['January', 'February', 'March']\n",
      "September and October: September October\n"
     ]
    }
   ],
   "source": [
    "print ('The second month of the first trimester is:',Year[0][1])\n",
    "print ('The months of the first quarter are:',Year[0])\n",
    "print ('September and October:', Year[2][2], Year[3][0])"
   ]
  },
  {
   "cell_type": "markdown",
   "metadata": {
    "application/vnd.databricks.v1+cell": {
     "cellMetadata": {},
     "inputWidgets": {},
     "nuid": "a7355bed-a91e-4c63-9136-51b86f1b3d40",
     "showTitle": false,
     "title": ""
    }
   },
   "source": [
    "#### - Exercise 3\n",
    "Create a list with unordered numbers and answer the following questions:"
   ]
  },
  {
   "cell_type": "code",
   "execution_count": 3,
   "metadata": {
    "application/vnd.databricks.v1+cell": {
     "cellMetadata": {},
     "inputWidgets": {},
     "nuid": "849e6a5f-3a0d-4433-9681-5fef9caac45d",
     "showTitle": false,
     "title": ""
    }
   },
   "outputs": [
    {
     "name": "stdout",
     "output_type": "stream",
     "text": [
      "[8, 3, 2, 6, 7, 8, 2, 4, 6, 7, 3, 14, 2, 4, 3]\n",
      "- How many numbers are there?  15\n"
     ]
    }
   ],
   "source": [
    "numbers = [8,3,2,6,7,8,2,4,6,7,3,14,2,4,3]\n",
    "\n",
    "print (numbers)\n",
    "\n",
    "print ('- How many numbers are there? ',len(numbers))"
   ]
  },
  {
   "cell_type": "code",
   "execution_count": 4,
   "metadata": {
    "application/vnd.databricks.v1+cell": {
     "cellMetadata": {},
     "inputWidgets": {},
     "nuid": "f85ad62f-395a-437e-88f5-5afd7bfb40a9",
     "showTitle": false,
     "title": ""
    }
   },
   "outputs": [
    {
     "name": "stdout",
     "output_type": "stream",
     "text": [
      "- How many times does the number 3 appear: 3\n"
     ]
    }
   ],
   "source": [
    "print('- How many times does the number 3 appear:' ,numbers.count(3))"
   ]
  },
  {
   "cell_type": "code",
   "execution_count": 5,
   "metadata": {
    "application/vnd.databricks.v1+cell": {
     "cellMetadata": {},
     "inputWidgets": {},
     "nuid": "c791ec26-3d23-4e66-9f1c-6a82b26ba587",
     "showTitle": false,
     "title": ""
    }
   },
   "outputs": [
    {
     "name": "stdout",
     "output_type": "stream",
     "text": [
      "- How many times do the numbers 3 and 4 appear... number 3 appears: 3 and number 4 appears: 2\n"
     ]
    }
   ],
   "source": [
    "print('- How many times do the numbers 3 and 4 appear...' ,'number 3 appears:', numbers.count(3), 'and number 4 appears:', numbers.count(4))"
   ]
  },
  {
   "cell_type": "code",
   "execution_count": 6,
   "metadata": {
    "application/vnd.databricks.v1+cell": {
     "cellMetadata": {},
     "inputWidgets": {},
     "nuid": "d94af8b0-d171-4c0e-b751-8af98dd4af49",
     "showTitle": false,
     "title": ""
    }
   },
   "outputs": [
    {
     "name": "stdout",
     "output_type": "stream",
     "text": [
      "- What is the biggest number? 14\n"
     ]
    }
   ],
   "source": [
    "print ('- What is the biggest number?', max(numbers))"
   ]
  },
  {
   "cell_type": "code",
   "execution_count": 7,
   "metadata": {
    "application/vnd.databricks.v1+cell": {
     "cellMetadata": {},
     "inputWidgets": {},
     "nuid": "5844e1ce-09c7-49d9-8448-b62a7a07f186",
     "showTitle": false,
     "title": ""
    }
   },
   "outputs": [
    {
     "name": "stdout",
     "output_type": "stream",
     "text": [
      "- What are the 3 smallest numbers? [2, 3, 4]\n",
      "- What are the 3 smallest numbers? [2, 3, 4]\n"
     ]
    }
   ],
   "source": [
    "#Firts form\n",
    "new_numbers = []\n",
    "for x in numbers:\n",
    "    if x not in new_numbers:\n",
    "        new_numbers.append(x)\n",
    "new_numbers.sort()\n",
    "print('- What are the 3 smallest numbers?', new_numbers[:3])\n",
    "\n",
    "#Second form\n",
    "\n",
    "new_numbers = []\n",
    "new_numbers = list(set(numbers))\n",
    "print('- What are the 3 smallest numbers?', new_numbers[:3])\n"
   ]
  },
  {
   "cell_type": "code",
   "execution_count": 8,
   "metadata": {
    "application/vnd.databricks.v1+cell": {
     "cellMetadata": {},
     "inputWidgets": {},
     "nuid": "1bb329ea-5155-411f-8f8a-99193df7833c",
     "showTitle": false,
     "title": ""
    }
   },
   "outputs": [
    {
     "name": "stdout",
     "output_type": "stream",
     "text": [
      "- What is the rank of this list? Numbers of  2  to  14\n",
      "- or What is the rank of this list? Numbers of  2  to  14\n"
     ]
    }
   ],
   "source": [
    "print ('- What is the rank of this list? Numbers of ', new_numbers[0],' to ', new_numbers[len(new_numbers)-1])\n",
    "\n",
    "print ('- or What is the rank of this list? Numbers of ', min(numbers),' to ', max(numbers))"
   ]
  },
  {
   "cell_type": "markdown",
   "metadata": {
    "application/vnd.databricks.v1+cell": {
     "cellMetadata": {},
     "inputWidgets": {},
     "nuid": "70b0f4a7-11f5-489e-b3ac-74b90a19a021",
     "showTitle": false,
     "title": ""
    }
   },
   "source": [
    "#### - Exercise 4\n",
    "Create a dictionary in the following form and answer the questions:\n",
    "\n",
    "buy = { \"Apples\" : {\"Qty\": 5, \"€\": 0.42}, \"Pears\" : {\"Qty\": 3, \"€\": 0.66} }\n",
    "\n",
    "+ Add some more fruit"
   ]
  },
  {
   "cell_type": "code",
   "execution_count": 9,
   "metadata": {
    "application/vnd.databricks.v1+cell": {
     "cellMetadata": {},
     "inputWidgets": {},
     "nuid": "b3dbc624-3fbe-4598-939b-35c4f0f238f7",
     "showTitle": false,
     "title": ""
    }
   },
   "outputs": [
    {
     "name": "stdout",
     "output_type": "stream",
     "text": [
      "{'Apples': {'Qty': 5, '€': 0.42}, 'Pears': {'Qty': 3, '€': 0.66}, 'Oranges': {'Qty': 12, '€': 3.42}}\n"
     ]
    }
   ],
   "source": [
    "buy = { \"Apples\" : {\"Qty\": 5, \"€\": 0.42}, \"Pears\" : {\"Qty\": 3, \"€\": 0.66} }\n",
    "\n",
    "buy[\"Oranges\"] = {\"Qty\": 12, \"€\": 3.42}\n",
    "\n",
    "print (buy)\n"
   ]
  },
  {
   "cell_type": "markdown",
   "metadata": {
    "application/vnd.databricks.v1+cell": {
     "cellMetadata": {},
     "inputWidgets": {},
     "nuid": "cb6924da-d501-45b7-b2e6-6183a1fc5b78",
     "showTitle": false,
     "title": ""
    }
   },
   "source": [
    "+ How much did the pears cost in total?"
   ]
  },
  {
   "cell_type": "code",
   "execution_count": 10,
   "metadata": {
    "application/vnd.databricks.v1+cell": {
     "cellMetadata": {},
     "inputWidgets": {},
     "nuid": "d7a86086-bbac-46e5-842b-fcb461ea9fcd",
     "showTitle": false,
     "title": ""
    }
   },
   "outputs": [
    {
     "name": "stdout",
     "output_type": "stream",
     "text": [
      "Total cost of Pears: 1.98\n"
     ]
    }
   ],
   "source": [
    "fruit = 'Pears'\n",
    "for x in buy:\n",
    "    if x==fruit:\n",
    "        total_cost_fruit = buy[x][\"Qty\"] * buy[x][\"€\"]\n",
    "texto = 'Total cost of {}: {}'\n",
    "print (texto.format(fruit, total_cost_fruit))"
   ]
  },
  {
   "cell_type": "markdown",
   "metadata": {
    "application/vnd.databricks.v1+cell": {
     "cellMetadata": {},
     "inputWidgets": {},
     "nuid": "c63dc15a-eedc-4cea-b35e-50d24f9d720b",
     "showTitle": false,
     "title": ""
    }
   },
   "source": [
    "+ How many fruits did we buy in total?\n",
    "+ What is the most expensive fruit?"
   ]
  },
  {
   "cell_type": "code",
   "execution_count": 11,
   "metadata": {
    "application/vnd.databricks.v1+cell": {
     "cellMetadata": {},
     "inputWidgets": {},
     "nuid": "e532c60d-5755-4c41-b4e0-34bffe2ac657",
     "showTitle": false,
     "title": ""
    }
   },
   "outputs": [
    {
     "name": "stdout",
     "output_type": "stream",
     "text": [
      "Total fruits:  3\n",
      "{'Apples': {'Qty': 5, '€': 0.42}, 'Pears': {'Qty': 3, '€': 0.66}, 'Oranges': {'Qty': 12, '€': 3.42}}\n"
     ]
    }
   ],
   "source": [
    "print ('Total fruits: ',len(buy))\n",
    "print (buy)"
   ]
  },
  {
   "cell_type": "markdown",
   "metadata": {
    "application/vnd.databricks.v1+cell": {
     "cellMetadata": {},
     "inputWidgets": {},
     "nuid": "caaa1d33-c493-4a27-87dc-fdd4c490ce70",
     "showTitle": false,
     "title": ""
    }
   },
   "source": []
  }
 ],
 "metadata": {
  "application/vnd.databricks.v1+notebook": {
   "dashboards": [],
   "language": "python",
   "notebookMetadata": {
    "pythonIndentUnit": 4
   },
   "notebookName": "Task M2 T01",
   "notebookOrigID": 4067634730807463,
   "widgets": {}
  },
  "hide_input": false,
  "kernelspec": {
   "display_name": "Python 3 (ipykernel)",
   "language": "python",
   "name": "python3"
  },
  "language_info": {
   "codemirror_mode": {
    "name": "ipython",
    "version": 3
   },
   "file_extension": ".py",
   "mimetype": "text/x-python",
   "name": "python",
   "nbconvert_exporter": "python",
   "pygments_lexer": "ipython3",
   "version": "3.9.12"
  },
  "nbTranslate": {
   "displayLangs": [
    "*"
   ],
   "hotkey": "alt-t",
   "langInMainMenu": true,
   "sourceLang": "en",
   "targetLang": "fr",
   "useGoogleTranslate": true
  },
  "toc": {
   "base_numbering": 1,
   "nav_menu": {},
   "number_sections": true,
   "sideBar": true,
   "skip_h1_title": false,
   "title_cell": "Table of Contents",
   "title_sidebar": "Contents",
   "toc_cell": false,
   "toc_position": {},
   "toc_section_display": true,
   "toc_window_display": false
  },
  "varInspector": {
   "cols": {
    "lenName": 16,
    "lenType": 16,
    "lenVar": 40
   },
   "kernels_config": {
    "python": {
     "delete_cmd_postfix": "",
     "delete_cmd_prefix": "del ",
     "library": "var_list.py",
     "varRefreshCmd": "print(var_dic_list())"
    },
    "r": {
     "delete_cmd_postfix": ") ",
     "delete_cmd_prefix": "rm(",
     "library": "var_list.r",
     "varRefreshCmd": "cat(var_dic_list()) "
    }
   },
   "types_to_exclude": [
    "module",
    "function",
    "builtin_function_or_method",
    "instance",
    "_Feature"
   ],
   "window_display": false
  }
 },
 "nbformat": 4,
 "nbformat_minor": 1
}
