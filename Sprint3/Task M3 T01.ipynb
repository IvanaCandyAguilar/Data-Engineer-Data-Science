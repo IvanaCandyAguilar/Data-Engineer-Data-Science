{
 "cells": [
  {
   "cell_type": "markdown",
   "metadata": {
    "application/vnd.databricks.v1+cell": {
     "cellMetadata": {},
     "inputWidgets": {},
     "nuid": "aa9520ed-c94c-4f40-9d39-843249510911",
     "showTitle": false,
     "title": ""
    }
   },
   "source": [
    "# Task M3 T01\n",
    "## Numerical programming, dataframes and statistical analysis"
   ]
  },
  {
   "cell_type": "markdown",
   "metadata": {
    "application/vnd.databricks.v1+cell": {
     "cellMetadata": {},
     "inputWidgets": {},
     "nuid": "00a19361-6458-4714-ad0f-119147eda649",
     "showTitle": false,
     "title": ""
    }
   },
   "source": [
    "#### - Exercise 1\n",
    "\n",
    "Create a function that, given a one-dimensional Array, gives you a basic statistical summary of the data. If it detects that the array has more than one dimension, it must display an error message."
   ]
  },
  {
   "cell_type": "code",
   "execution_count": 26,
   "metadata": {
    "application/vnd.databricks.v1+cell": {
     "cellMetadata": {},
     "inputWidgets": {},
     "nuid": "37053a21-351a-4ce4-93d8-330fae5eaa6f",
     "showTitle": false,
     "title": ""
    }
   },
   "outputs": [
    {
     "name": "stdout",
     "output_type": "stream",
     "text": [
      "             0\n",
      "count  8.00000\n",
      "mean   4.50000\n",
      "std    2.44949\n",
      "min    1.00000\n",
      "25%    2.75000\n",
      "50%    4.50000\n",
      "75%    6.25000\n",
      "max    8.00000\n",
      "Array 1D\n"
     ]
    }
   ],
   "source": [
    "import numpy as np\n",
    "import pandas as pd\n",
    "\n",
    "def summary_array(array_number):\n",
    "    print(array_number.describe())\n",
    "    return()\n",
    "   \n",
    "\n",
    "def dimension_right(array_number):\n",
    "    size_array = array_number.ndim\n",
    "    if size_array == 1:\n",
    "        print('Array 1D')\n",
    "        \n",
    "    else:\n",
    "        print('Error!!!')\n",
    "    \n",
    "\n",
    "#array_send=np.array([[1, 2, 3, 4], [5, 6, 7, 8]])\n",
    "array_send=np.array([1, 2, 3, 4, 5, 6, 7, 8])\n",
    "df = pd.DataFrame(array_send)\n",
    "summary_array(df)\n",
    "dimension_right(array_send)\n"
   ]
  },
  {
   "cell_type": "markdown",
   "metadata": {
    "application/vnd.databricks.v1+cell": {
     "cellMetadata": {},
     "inputWidgets": {},
     "nuid": "fe4e9eb6-e213-4724-a552-ca93228ba3d5",
     "showTitle": false,
     "title": ""
    }
   },
   "source": [
    "#### - Exercise 2\n",
    "Create a function that generates an NxN square of random numbers between 0 and 100. "
   ]
  },
  {
   "cell_type": "code",
   "execution_count": 89,
   "metadata": {
    "application/vnd.databricks.v1+cell": {
     "cellMetadata": {},
     "inputWidgets": {},
     "nuid": "ccf392db-5bc2-4a72-a02f-7e9252d2721c",
     "showTitle": false,
     "title": ""
    }
   },
   "outputs": [
    {
     "name": "stdout",
     "output_type": "stream",
     "text": [
      "[[12 47 87 74 60]\n",
      " [24 92 67 16 30]\n",
      " [11 97 80 17 62]\n",
      " [96 33 24 38 32]\n",
      " [ 5 86 65 63 34]]\n"
     ]
    }
   ],
   "source": [
    "from numpy import random\n",
    "\n",
    "def random_N_x_N(N):\n",
    "    x = random.randint(100, size=(N,N))\n",
    "    print (x)\n",
    "\n",
    "random_N_x_N(5)\n"
   ]
  },
  {
   "cell_type": "markdown",
   "metadata": {
    "application/vnd.databricks.v1+cell": {
     "cellMetadata": {},
     "inputWidgets": {},
     "nuid": "a7355bed-a91e-4c63-9136-51b86f1b3d40",
     "showTitle": false,
     "title": ""
    }
   },
   "source": [
    "#### - Exercise 3\n",
    "Create a function that, given a two-dimensional table (NxM), calculates the totals per row and the totals per column. "
   ]
  },
  {
   "cell_type": "code",
   "execution_count": 18,
   "metadata": {},
   "outputs": [
    {
     "name": "stdout",
     "output_type": "stream",
     "text": [
      "[[35 89 57 43 89]\n",
      " [58 18 49 71 56]]\n",
      "Totals per row: [313 252]\n",
      "Totals per column: [ 93 107 106 114 145]\n"
     ]
    }
   ],
   "source": [
    "import pandas as pd\n",
    "from numpy import random\n",
    "\n",
    "def generate_array(N,M):\n",
    "    x= random.randint(100, size=(N,M))\n",
    "    print(x)\n",
    "    return(x)\n",
    "\n",
    "def total_sum_row(result_array):\n",
    "    print('Totals per row:',np.sum(result_array,axis=1))\n",
    "\n",
    "def total_sum_column(result_array):\n",
    "    print('Totals per column:',np.sum(result_array,axis=0))\n",
    "\n",
    "rows = 2\n",
    "columns = 5\n",
    "array_one = generate_array(rows, columns)\n",
    "total_sum_row(array_one)\n",
    "total_sum_column(array_one)\n",
    "    "
   ]
  },
  {
   "cell_type": "markdown",
   "metadata": {
    "application/vnd.databricks.v1+cell": {
     "cellMetadata": {},
     "inputWidgets": {},
     "nuid": "70b0f4a7-11f5-489e-b3ac-74b90a19a021",
     "showTitle": false,
     "title": ""
    }
   },
   "source": [
    "#### - Exercise 4\n",
    "Manually implement a function that calculates the correlation coefficient. Learn about its uses and interpretation."
   ]
  },
  {
   "cell_type": "code",
   "execution_count": 1,
   "metadata": {
    "application/vnd.databricks.v1+cell": {
     "cellMetadata": {},
     "inputWidgets": {},
     "nuid": "b3dbc624-3fbe-4598-939b-35c4f0f238f7",
     "showTitle": false,
     "title": ""
    }
   },
   "outputs": [],
   "source": [
    "def correlation_coeficient(x,y):\n",
    "    x_mean=np.mean(x)\n",
    "    y_mean=np.mean(y)\n",
    "    print('Mean of x:', x_mean)\n",
    "    print('Mean of y:', y_mean)\n",
    "    \n",
    "    # Subtract the mean from each value\n",
    "    xi_xm =x-x_mean\n",
    "    print (\"xi-xm = \",xi_xm)\n",
    "    yi_ym =y-y_mean\n",
    "    print (\"yi-ym = \",yi_ym)\n",
    "    \n",
    "    # Calculate the numerator of the equation, multiply the last two array\n",
    "    xi_xm_x_yi_xm = np.prod([xi_xm,yi_ym],axis=0)\n",
    "    print(\"(xi-xm)(yi-xm) = \",xi_xm_x_yi_xm)\n",
    "    \n",
    "    # Sum the values of the array    \n",
    "    numerator = np.sum(xi_xm_x_yi_xm)\n",
    "    print (\"Numerator of the coefficient equation : \", numerator)\n",
    "    \n",
    "    # Calculate the denominator of the equation. We take the square of both arrays\n",
    "    xi_xm_2 = np.power(xi_xm,2)\n",
    "    print(\"(xi-xm)^2 = \",xi_xm_2)\n",
    "    yi_ym_2 = np.power(yi_ym,2)\n",
    "    print(\"(yi-ym)^2 = \",yi_ym_2)\n",
    "    \n",
    "    # Calculate the sum of the values of each array   \n",
    "    sum_xi_xm_2 = np.sum(xi_xm_2)\n",
    "    print (\"summation (xi-xm)^2 = \",sum_xi_xm_2)\n",
    "    sum_yi_ym_2 = np.sum(yi_ym_2)\n",
    "    print (\"summation (yi-ym)^2 = \",sum_yi_ym_2)\n",
    "    \n",
    "    # Multiply both sums    \n",
    "    prod_sum = sum_xi_xm_2*sum_yi_ym_2\n",
    "    print('Summation',prod_sum)\n",
    "    \n",
    "    # Take the square root of the last value obtained\n",
    "    denominator = np.sqrt(prod_sum)\n",
    "    print(\"Denominator of the coefficient equation: \",denominator)\n",
    "\n",
    "    # Divide the numerator and denominator to get the coefficient.     \n",
    "    result = numerator / denominator\n",
    "    \n",
    "    return (result)"
   ]
  },
  {
   "cell_type": "markdown",
   "metadata": {},
   "source": [
    "Formula"
   ]
  },
  {
   "cell_type": "markdown",
   "metadata": {},
   "source": [
    " <img src=\"formula1.jpg\" width=\"30%\" height=\"30%\">"
   ]
  },
  {
   "cell_type": "code",
   "execution_count": 2,
   "metadata": {},
   "outputs": [
    {
     "name": "stdout",
     "output_type": "stream",
     "text": [
      "Mean of x: 156.4\n",
      "Mean of y: 56.879999999999995\n",
      "xi-xm =  [-0.4 10.6  3.6 -6.4 -7.4]\n",
      "yi-ym =  [ -1.88   7.62   1.12   4.02 -10.88]\n",
      "(xi-xm)(yi-xm) =  [  0.752  80.772   4.032 -25.728  80.512]\n",
      "Numerator of the coefficient equation :  140.34\n",
      "(xi-xm)^2 =  [  0.16 112.36  12.96  40.96  54.76]\n",
      "(yi-ym)^2 =  [  3.5344  58.0644   1.2544  16.1604 118.3744]\n",
      "summation (xi-xm)^2 =  221.2\n",
      "summation (yi-ym)^2 =  197.38799999999998\n",
      "Summation 43662.22559999999\n",
      "Denominator of the coefficient equation:  208.9550803402492\n"
     ]
    }
   ],
   "source": [
    "array_one = [156,167,160,150,149]\n",
    "array_two = [55,64.5,58,60.9,46]\n",
    "\n",
    "coefficient = correlation_coeficient(array_one,array_two)"
   ]
  },
  {
   "cell_type": "code",
   "execution_count": 81,
   "metadata": {},
   "outputs": [
    {
     "name": "stdout",
     "output_type": "stream",
     "text": [
      "Correlation coefficient, manual calculation =  0.6716276042270868\n"
     ]
    }
   ],
   "source": [
    "print (\"Correlation coefficient, manual calculation = \", coefficient )"
   ]
  },
  {
   "cell_type": "markdown",
   "metadata": {},
   "source": [
    "Calculation of the coefficient with the numpy function"
   ]
  },
  {
   "cell_type": "code",
   "execution_count": 84,
   "metadata": {},
   "outputs": [
    {
     "name": "stdout",
     "output_type": "stream",
     "text": [
      "Correlation coefficient, calculation with numpy function = \n",
      "[[1.        0.6716276]\n",
      " [0.6716276 1.       ]]\n"
     ]
    }
   ],
   "source": [
    "coeficiente_corr = np.corrcoef(array_one,array_two)\n",
    "print(\"Correlation coefficient, calculation with numpy function = \")\n",
    "print (coeficiente_corr)"
   ]
  }
 ],
 "metadata": {
  "application/vnd.databricks.v1+notebook": {
   "dashboards": [],
   "language": "python",
   "notebookMetadata": {
    "pythonIndentUnit": 4
   },
   "notebookName": "Task M2 T01",
   "notebookOrigID": 4067634730807463,
   "widgets": {}
  },
  "hide_input": false,
  "kernelspec": {
   "display_name": "Python 3 (ipykernel)",
   "language": "python",
   "name": "python3"
  },
  "language_info": {
   "codemirror_mode": {
    "name": "ipython",
    "version": 3
   },
   "file_extension": ".py",
   "mimetype": "text/x-python",
   "name": "python",
   "nbconvert_exporter": "python",
   "pygments_lexer": "ipython3",
   "version": "3.9.12"
  },
  "nbTranslate": {
   "displayLangs": [
    "*"
   ],
   "hotkey": "alt-t",
   "langInMainMenu": true,
   "sourceLang": "en",
   "targetLang": "fr",
   "useGoogleTranslate": true
  },
  "toc": {
   "base_numbering": 1,
   "nav_menu": {},
   "number_sections": true,
   "sideBar": true,
   "skip_h1_title": false,
   "title_cell": "Table of Contents",
   "title_sidebar": "Contents",
   "toc_cell": false,
   "toc_position": {},
   "toc_section_display": true,
   "toc_window_display": false
  },
  "varInspector": {
   "cols": {
    "lenName": 16,
    "lenType": 16,
    "lenVar": 40
   },
   "kernels_config": {
    "python": {
     "delete_cmd_postfix": "",
     "delete_cmd_prefix": "del ",
     "library": "var_list.py",
     "varRefreshCmd": "print(var_dic_list())"
    },
    "r": {
     "delete_cmd_postfix": ") ",
     "delete_cmd_prefix": "rm(",
     "library": "var_list.r",
     "varRefreshCmd": "cat(var_dic_list()) "
    }
   },
   "types_to_exclude": [
    "module",
    "function",
    "builtin_function_or_method",
    "instance",
    "_Feature"
   ],
   "window_display": false
  }
 },
 "nbformat": 4,
 "nbformat_minor": 1
}
